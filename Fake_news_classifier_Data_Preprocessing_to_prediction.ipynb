{
 "cells": [
  {
   "cell_type": "code",
   "execution_count": 1,
   "metadata": {},
   "outputs": [],
   "source": [
    "import pandas as pd\n",
    "import numpy as np\n",
    "import seaborn as sns\n",
    "import csv\n",
    "import nltk\n",
    "from nltk.stem import SnowballStemmer\n",
    "from nltk.stem.porter import PorterStemmer\n",
    "from nltk.tokenize import word_tokenize\n",
    "import os"
   ]
  },
  {
   "cell_type": "code",
   "execution_count": 4,
   "metadata": {},
   "outputs": [
    {
     "data": {
      "text/html": [
       "<div>\n",
       "<style scoped>\n",
       "    .dataframe tbody tr th:only-of-type {\n",
       "        vertical-align: middle;\n",
       "    }\n",
       "\n",
       "    .dataframe tbody tr th {\n",
       "        vertical-align: top;\n",
       "    }\n",
       "\n",
       "    .dataframe thead th {\n",
       "        text-align: right;\n",
       "    }\n",
       "</style>\n",
       "<table border=\"1\" class=\"dataframe\">\n",
       "  <thead>\n",
       "    <tr style=\"text-align: right;\">\n",
       "      <th></th>\n",
       "      <th>Statement</th>\n",
       "      <th>Label</th>\n",
       "    </tr>\n",
       "  </thead>\n",
       "  <tbody>\n",
       "    <tr>\n",
       "      <th>0</th>\n",
       "      <td>We have less Americans working now than in the...</td>\n",
       "      <td>FALSE</td>\n",
       "    </tr>\n",
       "    <tr>\n",
       "      <th>1</th>\n",
       "      <td>When Obama was sworn into office, he DID NOT u...</td>\n",
       "      <td>FALSE</td>\n",
       "    </tr>\n",
       "    <tr>\n",
       "      <th>2</th>\n",
       "      <td>Says Having organizations parading as being so...</td>\n",
       "      <td>FALSE</td>\n",
       "    </tr>\n",
       "    <tr>\n",
       "      <th>3</th>\n",
       "      <td>Says nearly half of Oregons children are poor.</td>\n",
       "      <td>TRUE</td>\n",
       "    </tr>\n",
       "    <tr>\n",
       "      <th>4</th>\n",
       "      <td>On attacks by Republicans that various program...</td>\n",
       "      <td>TRUE</td>\n",
       "    </tr>\n",
       "  </tbody>\n",
       "</table>\n",
       "</div>"
      ],
      "text/plain": [
       "                                           Statement  Label\n",
       "0  We have less Americans working now than in the...  FALSE\n",
       "1  When Obama was sworn into office, he DID NOT u...  FALSE\n",
       "2  Says Having organizations parading as being so...  FALSE\n",
       "3     Says nearly half of Oregons children are poor.   TRUE\n",
       "4  On attacks by Republicans that various program...   TRUE"
      ]
     },
     "execution_count": 4,
     "metadata": {},
     "output_type": "execute_result"
    }
   ],
   "source": [
    "\n",
    "def explore_data(dataset):\n",
    "\tdf = pd.read_csv(os.path.join(dataset))\n",
    "\treturn df \n",
    "#data is taken from lair dataset\n",
    "test_news = explore_data('test.csv')\n",
    "train_news = explore_data('train.csv')\n",
    "valid_news = explore_data('valid.csv')\n",
    "test_news.head()\n",
    "\n"
   ]
  },
  {
   "cell_type": "code",
   "execution_count": 5,
   "metadata": {},
   "outputs": [
    {
     "data": {
      "text/html": [
       "<div>\n",
       "<style scoped>\n",
       "    .dataframe tbody tr th:only-of-type {\n",
       "        vertical-align: middle;\n",
       "    }\n",
       "\n",
       "    .dataframe tbody tr th {\n",
       "        vertical-align: top;\n",
       "    }\n",
       "\n",
       "    .dataframe thead th {\n",
       "        text-align: right;\n",
       "    }\n",
       "</style>\n",
       "<table border=\"1\" class=\"dataframe\">\n",
       "  <thead>\n",
       "    <tr style=\"text-align: right;\">\n",
       "      <th></th>\n",
       "      <th>Statement</th>\n",
       "      <th>Label</th>\n",
       "    </tr>\n",
       "  </thead>\n",
       "  <tbody>\n",
       "    <tr>\n",
       "      <th>0</th>\n",
       "      <td>Says the Annies List political group supports ...</td>\n",
       "      <td>False</td>\n",
       "    </tr>\n",
       "    <tr>\n",
       "      <th>1</th>\n",
       "      <td>When did the decline of coal start? It started...</td>\n",
       "      <td>True</td>\n",
       "    </tr>\n",
       "    <tr>\n",
       "      <th>2</th>\n",
       "      <td>Hillary Clinton agrees with John McCain \"by vo...</td>\n",
       "      <td>True</td>\n",
       "    </tr>\n",
       "    <tr>\n",
       "      <th>3</th>\n",
       "      <td>Health care reform legislation is likely to ma...</td>\n",
       "      <td>False</td>\n",
       "    </tr>\n",
       "    <tr>\n",
       "      <th>4</th>\n",
       "      <td>The economic turnaround started at the end of ...</td>\n",
       "      <td>True</td>\n",
       "    </tr>\n",
       "  </tbody>\n",
       "</table>\n",
       "</div>"
      ],
      "text/plain": [
       "                                           Statement  Label\n",
       "0  Says the Annies List political group supports ...  False\n",
       "1  When did the decline of coal start? It started...   True\n",
       "2  Hillary Clinton agrees with John McCain \"by vo...   True\n",
       "3  Health care reform legislation is likely to ma...  False\n",
       "4  The economic turnaround started at the end of ...   True"
      ]
     },
     "execution_count": 5,
     "metadata": {},
     "output_type": "execute_result"
    }
   ],
   "source": [
    "train_news.head()\n"
   ]
  },
  {
   "cell_type": "code",
   "execution_count": 6,
   "metadata": {},
   "outputs": [
    {
     "data": {
      "text/html": [
       "<div>\n",
       "<style scoped>\n",
       "    .dataframe tbody tr th:only-of-type {\n",
       "        vertical-align: middle;\n",
       "    }\n",
       "\n",
       "    .dataframe tbody tr th {\n",
       "        vertical-align: top;\n",
       "    }\n",
       "\n",
       "    .dataframe thead th {\n",
       "        text-align: right;\n",
       "    }\n",
       "</style>\n",
       "<table border=\"1\" class=\"dataframe\">\n",
       "  <thead>\n",
       "    <tr style=\"text-align: right;\">\n",
       "      <th></th>\n",
       "      <th>Statement</th>\n",
       "      <th>Label</th>\n",
       "    </tr>\n",
       "  </thead>\n",
       "  <tbody>\n",
       "    <tr>\n",
       "      <th>0</th>\n",
       "      <td>We have less Americans working now than in the...</td>\n",
       "      <td>FALSE</td>\n",
       "    </tr>\n",
       "    <tr>\n",
       "      <th>1</th>\n",
       "      <td>When Obama was sworn into office, he DID NOT u...</td>\n",
       "      <td>FALSE</td>\n",
       "    </tr>\n",
       "    <tr>\n",
       "      <th>2</th>\n",
       "      <td>Says Having organizations parading as being so...</td>\n",
       "      <td>FALSE</td>\n",
       "    </tr>\n",
       "    <tr>\n",
       "      <th>3</th>\n",
       "      <td>Says nearly half of Oregons children are poor.</td>\n",
       "      <td>TRUE</td>\n",
       "    </tr>\n",
       "    <tr>\n",
       "      <th>4</th>\n",
       "      <td>On attacks by Republicans that various program...</td>\n",
       "      <td>TRUE</td>\n",
       "    </tr>\n",
       "  </tbody>\n",
       "</table>\n",
       "</div>"
      ],
      "text/plain": [
       "                                           Statement  Label\n",
       "0  We have less Americans working now than in the...  FALSE\n",
       "1  When Obama was sworn into office, he DID NOT u...  FALSE\n",
       "2  Says Having organizations parading as being so...  FALSE\n",
       "3     Says nearly half of Oregons children are poor.   TRUE\n",
       "4  On attacks by Republicans that various program...   TRUE"
      ]
     },
     "execution_count": 6,
     "metadata": {},
     "output_type": "execute_result"
    }
   ],
   "source": [
    "valid_news.head()\n"
   ]
  },
  {
   "cell_type": "code",
   "execution_count": 8,
   "metadata": {},
   "outputs": [
    {
     "data": {
      "text/plain": [
       "<matplotlib.axes._subplots.AxesSubplot at 0x18a4c476e08>"
      ]
     },
     "execution_count": 8,
     "metadata": {},
     "output_type": "execute_result"
    },
    {
     "data": {
      "image/png": "[encoded data removed]",
      "text/plain": [
       "<Figure size 432x288 with 1 Axes>"
      ]
     },
     "metadata": {
      "needs_background": "light"
     },
     "output_type": "display_data"
    }
   ],
   "source": [
    "def create_distribution(dataFile):\n",
    "    \n",
    "    return sns.countplot(x='Label', data=dataFile, palette='hls')\n",
    "    \n",
    "\n",
    "#by calling below we can see that training, test and valid data seems to be failry evenly distributed between the classes\n",
    "create_distribution(train_news)\n",
    "create_distribution(test_news)\n",
    "create_distribution(valid_news)\n"
   ]
  },
  {
   "cell_type": "code",
   "execution_count": 9,
   "metadata": {},
   "outputs": [
    {
     "name": "stdout",
     "output_type": "stream",
     "text": [
      "Checking data qualitites...\n",
      "<class 'pandas.core.frame.DataFrame'>\n",
      "RangeIndex: 10240 entries, 0 to 10239\n",
      "Data columns (total 2 columns):\n",
      " #   Column     Non-Null Count  Dtype \n",
      "---  ------     --------------  ----- \n",
      " 0   Statement  10240 non-null  object\n",
      " 1   Label      10240 non-null  bool  \n",
      "dtypes: bool(1), object(1)\n",
      "memory usage: 90.1+ KB\n",
      "check finished.\n",
      "<class 'pandas.core.frame.DataFrame'>\n",
      "RangeIndex: 2551 entries, 0 to 2550\n",
      "Data columns (total 2 columns):\n",
      " #   Column     Non-Null Count  Dtype \n",
      "---  ------     --------------  ----- \n",
      " 0   Statement  2551 non-null   object\n",
      " 1   Label      2551 non-null   bool  \n",
      "dtypes: bool(1), object(1)\n",
      "memory usage: 22.5+ KB\n",
      "<class 'pandas.core.frame.DataFrame'>\n",
      "RangeIndex: 2571 entries, 0 to 2570\n",
      "Data columns (total 2 columns):\n",
      " #   Column     Non-Null Count  Dtype \n",
      "---  ------     --------------  ----- \n",
      " 0   Statement  2571 non-null   object\n",
      " 1   Label      2569 non-null   object\n",
      "dtypes: object(2)\n",
      "memory usage: 40.3+ KB\n"
     ]
    }
   ],
   "source": [
    "\n",
    "    print(\"Checking data qualitites...\")\n",
    "    train_news.isnull().sum()\n",
    "    train_news.info()\n",
    "        \n",
    "    print(\"check finished.\")\n",
    "\n",
    "    #below datasets were used to \n",
    "    test_news.isnull().sum()\n",
    "    test_news.info()\n",
    "\n",
    "    valid_news.isnull().sum()\n",
    "    valid_news.info()"
   ]
  },
  {
   "cell_type": "code",
   "execution_count": 10,
   "metadata": {},
   "outputs": [],
   "source": [
    "#Stemming\n",
    "def stem_tokens(tokens, stemmer):\n",
    "    stemmed = []\n",
    "    for token in tokens:\n",
    "        stemmed.append(stemmer.stem(token))\n",
    "    return stemmed\n",
    "\n",
    "#process the data\n",
    "def process_data(data,exclude_stopword=True,stem=True):\n",
    "    tokens = [w.lower() for w in data]\n",
    "    tokens_stemmed = tokens\n",
    "    tokens_stemmed = stem_tokens(tokens, eng_stemmer)\n",
    "    tokens_stemmed = [w for w in tokens_stemmed if w not in stopwords ]\n",
    "    return tokens_stemmed\n",
    "\n"
   ]
  },
  {
   "cell_type": "code",
   "execution_count": 11,
   "metadata": {},
   "outputs": [],
   "source": [
    "def create_unigram(words):\n",
    "    assert type(words) == list\n",
    "    return words\n",
    "\n",
    "#bigram\n",
    "def create_bigrams(words):\n",
    "    assert type(words) == list\n",
    "    skip = 0\n",
    "    join_str = \" \"\n",
    "    Len = len(words)\n",
    "    if Len > 1:\n",
    "        lst = []\n",
    "        for i in range(Len-1):\n",
    "            for k in range(1,skip+2):\n",
    "                if i+k < Len:\n",
    "                    lst.append(join_str.join([words[i],words[i+k]]))\n",
    "    else:\n",
    "        #set it as unigram\n",
    "        lst = create_unigram(words)\n",
    "    return lst\n"
   ]
  },
  {
   "cell_type": "code",
   "execution_count": 12,
   "metadata": {},
   "outputs": [],
   "source": [
    "\n",
    "porter = PorterStemmer()\n",
    "\n",
    "def tokenizer(text):\n",
    "    return text.split()\n",
    "\n",
    "\n",
    "def tokenizer_porter(text):\n",
    "    return [porter.stem(word) for word in text.split()]\n"
   ]
  },
  {
   "cell_type": "code",
   "execution_count": 14,
   "metadata": {},
   "outputs": [
    {
     "data": {
      "text/plain": [
       "'Note: before we can train an algorithm to classify fake news labels, we need to extract features from it. It means reducing the mass\\nof unstructured data into some uniform set of attributes that an algorithm can understand. For fake news detection, it could be \\nword counts (bag of words). \\n'"
      ]
     },
     "execution_count": 14,
     "metadata": {},
     "output_type": "execute_result"
    }
   ],
   "source": [
    "\n",
    "\"\"\"Note: before we can train an algorithm to classify fake news labels, we need to extract features from it. It means reducing the mass\n",
    "of unstructured data into some uniform set of attributes that an algorithm can understand. For fake news detection, it could be \n",
    "word counts (bag of words). \n",
    "\"\"\""
   ]
  },
  {
   "cell_type": "code",
   "execution_count": 29,
   "metadata": {},
   "outputs": [],
   "source": [
    "\n",
    "from sklearn.feature_extraction.text import CountVectorizer\n",
    "from sklearn.feature_extraction.text import TfidfTransformer\n",
    "from sklearn.feature_extraction.text import TfidfVectorizer\n",
    "from sklearn.pipeline import Pipeline\n",
    "import nltk\n",
    "import nltk.corpus \n",
    "from nltk.tokenize import word_tokenize\n",
    "from gensim.models.word2vec import Word2Vec"
   ]
  },
  {
   "cell_type": "code",
   "execution_count": 28,
   "metadata": {},
   "outputs": [
    {
     "name": "stdout",
     "output_type": "stream",
     "text": [
      "Collecting gensim\n",
      "  Downloading gensim-3.8.3-cp37-cp37m-win_amd64.whl (24.2 MB)\n",
      "Requirement already satisfied, skipping upgrade: scipy>=0.18.1 in c:\\users\\mohdf\\anaconda3\\envs\\ddp\\lib\\site-packages (from gensim) (1.4.1)\n",
      "Requirement already satisfied, skipping upgrade: six>=1.5.0 in c:\\users\\mohdf\\anaconda3\\envs\\ddp\\lib\\site-packages (from gensim) (1.15.0)\n",
      "Requirement already satisfied, skipping upgrade: numpy>=1.11.3 in c:\\users\\mohdf\\anaconda3\\envs\\ddp\\lib\\site-packages (from gensim) (1.18.5)\n",
      "Collecting smart-open>=1.8.1\n",
      "  Downloading smart_open-2.0.0.tar.gz (103 kB)\n",
      "Collecting Cython==0.29.14\n",
      "  Downloading Cython-0.29.14-cp37-cp37m-win_amd64.whl (1.7 MB)\n",
      "Requirement already satisfied, skipping upgrade: requests in c:\\users\\mohdf\\anaconda3\\envs\\ddp\\lib\\site-packages (from smart-open>=1.8.1->gensim) (2.23.0)\n",
      "Collecting boto\n",
      "  Downloading boto-2.49.0-py2.py3-none-any.whl (1.4 MB)\n",
      "Requirement already satisfied, skipping upgrade: boto3 in c:\\users\\mohdf\\appdata\\roaming\\python\\python37\\site-packages (from smart-open>=1.8.1->gensim) (1.14.0)\n",
      "Requirement already satisfied, skipping upgrade: urllib3!=1.25.0,!=1.25.1,<1.26,>=1.21.1 in c:\\users\\mohdf\\anaconda3\\envs\\ddp\\lib\\site-packages (from requests->smart-open>=1.8.1->gensim) (1.25.9)\n",
      "Requirement already satisfied, skipping upgrade: chardet<4,>=3.0.2 in c:\\users\\mohdf\\anaconda3\\envs\\ddp\\lib\\site-packages (from requests->smart-open>=1.8.1->gensim) (3.0.4)\n",
      "Requirement already satisfied, skipping upgrade: idna<3,>=2.5 in c:\\users\\mohdf\\anaconda3\\envs\\ddp\\lib\\site-packages (from requests->smart-open>=1.8.1->gensim) (2.9)\n",
      "Requirement already satisfied, skipping upgrade: certifi>=2017.4.17 in c:\\users\\mohdf\\anaconda3\\envs\\ddp\\lib\\site-packages (from requests->smart-open>=1.8.1->gensim) (2020.4.5.1)\n",
      "Requirement already satisfied, skipping upgrade: s3transfer<0.4.0,>=0.3.0 in c:\\users\\mohdf\\appdata\\roaming\\python\\python37\\site-packages (from boto3->smart-open>=1.8.1->gensim) (0.3.3)\n",
      "Requirement already satisfied, skipping upgrade: jmespath<1.0.0,>=0.7.1 in c:\\users\\mohdf\\appdata\\roaming\\python\\python37\\site-packages (from boto3->smart-open>=1.8.1->gensim) (0.10.0)\n",
      "Requirement already satisfied, skipping upgrade: botocore<1.18.0,>=1.17.0 in c:\\users\\mohdf\\appdata\\roaming\\python\\python37\\site-packages (from boto3->smart-open>=1.8.1->gensim) (1.17.0)\n",
      "Requirement already satisfied, skipping upgrade: docutils<0.16,>=0.10 in c:\\users\\mohdf\\appdata\\roaming\\python\\python37\\site-packages (from botocore<1.18.0,>=1.17.0->boto3->smart-open>=1.8.1->gensim) (0.15.2)\n",
      "Requirement already satisfied, skipping upgrade: python-dateutil<3.0.0,>=2.1 in c:\\users\\mohdf\\anaconda3\\envs\\ddp\\lib\\site-packages (from botocore<1.18.0,>=1.17.0->boto3->smart-open>=1.8.1->gensim) (2.8.1)\n",
      "Building wheels for collected packages: smart-open\n",
      "  Building wheel for smart-open (setup.py): started\n",
      "  Building wheel for smart-open (setup.py): finished with status 'done'\n",
      "  Created wheel for smart-open: filename=smart_open-2.0.0-py3-none-any.whl size=101346 sha256=7eb9f86ccc6f198fb56beba3a02c1808ce67d0899bd245386b8e0b95642a7fc8\n",
      "  Stored in directory: c:\\users\\mohdf\\appdata\\local\\pip\\cache\\wheels\\bb\\1c\\9c\\412ec03f6d5ac7d41f4b965bde3fc0d1bd201da5ba3e2636de\n",
      "Successfully built smart-open\n",
      "Installing collected packages: boto, smart-open, Cython, gensim\n",
      "Successfully installed Cython-0.29.14 boto-2.49.0 gensim-3.8.3 smart-open-2.0.0\n"
     ]
    }
   ],
   "source": [
    "!python -m pip install -U gensim"
   ]
  },
  {
   "cell_type": "code",
   "execution_count": 31,
   "metadata": {},
   "outputs": [
    {
     "name": "stdout",
     "output_type": "stream",
     "text": [
      "CountVectorizer()\n",
      "  (0, 9676)\t1\n",
      "  (0, 10988)\t1\n",
      "  (0, 1044)\t1\n",
      "  (0, 6639)\t1\n",
      "  (0, 8376)\t1\n",
      "  (0, 5115)\t1\n",
      "  (0, 10709)\t1\n",
      "  (0, 11036)\t1\n",
      "  (0, 11296)\t1\n",
      "  (0, 615)\t1\n",
      "  (0, 7728)\t1\n",
      "  (0, 3278)\t1\n",
      "  (1, 10988)\t1\n",
      "  (1, 11934)\t2\n",
      "  (1, 3434)\t1\n",
      "  (1, 3185)\t1\n",
      "  (1, 7672)\t1\n",
      "  (1, 2475)\t1\n",
      "  (1, 10425)\t1\n",
      "  (1, 6052)\t1\n",
      "  (1, 10426)\t2\n",
      "  (1, 7418)\t1\n",
      "  (1, 4860)\t1\n",
      "  (1, 11138)\t1\n",
      "  (1, 7674)\t1\n",
      "  :\t:\n",
      "  (10239, 10988)\t1\n",
      "  (10239, 7672)\t2\n",
      "  (10239, 11110)\t2\n",
      "  (10239, 5267)\t1\n",
      "  (10239, 7828)\t1\n",
      "  (10239, 7824)\t1\n",
      "  (10239, 1159)\t1\n",
      "  (10239, 12151)\t2\n",
      "  (10239, 6327)\t1\n",
      "  (10239, 6603)\t1\n",
      "  (10239, 11013)\t1\n",
      "  (10239, 11004)\t1\n",
      "  (10239, 3309)\t1\n",
      "  (10239, 12158)\t1\n",
      "  (10239, 11660)\t2\n",
      "  (10239, 799)\t1\n",
      "  (10239, 2568)\t1\n",
      "  (10239, 11622)\t1\n",
      "  (10239, 2549)\t1\n",
      "  (10239, 10660)\t1\n",
      "  (10239, 8996)\t1\n",
      "  (10239, 10918)\t1\n",
      "  (10239, 3989)\t1\n",
      "  (10239, 10594)\t1\n",
      "  (10239, 6853)\t1\n"
     ]
    }
   ],
   "source": [
    "\n",
    "#we will start with simple bag of words technique \n",
    "#creating feature vector - document term matrix\n",
    "\n",
    "train_count = countV.fit_transform(train_news['Statement'].values)\n",
    "\n",
    "print(countV)\n",
    "print(train_count)"
   ]
  },
  {
   "cell_type": "code",
   "execution_count": 32,
   "metadata": {},
   "outputs": [
    {
     "name": "stdout",
     "output_type": "stream",
     "text": [
      "{'says': 9676, 'the': 10988, 'annies': 1044, 'list': 6639, 'political': 8376, 'group': 5115, 'supports': 10709, 'third': 11036, 'trimester': 11296, 'abortions': 615, 'on': 7728, 'demand': 3278, 'when': 11934, 'did': 3434, 'decline': 3185, 'of': 7672, 'coal': 2475, 'start': 10425, 'it': 6052, 'started': 10426, 'natural': 7418, 'gas': 4860, 'took': 11138, 'off': 7674, 'that': 10980, 'to': 11110, 'begin': 1532, 'in': 5687, 'president': 8554, 'george': 4910, 'bushs': 1964, 'administration': 751, 'hillary': 5401, 'clinton': 2444, 'agrees': 856, 'with': 12027, 'john': 6133, 'mccain': 6967, 'by': 1989, 'voting': 11748, 'give': 4954, 'bush': 1962, 'benefit': 1569, 'doubt': 3684, 'iran': 5999, 'health': 5310, 'care': 2096, 'reform': 9099, 'legislation': 6502, 'is': 6014, 'likely': 6605, 'mandate': 6834, 'free': 4735, 'sex': 9923, 'change': 2256, 'surgeries': 10721, 'economic': 3842, 'turnaround': 11351, 'at': 1259, 'end': 3990, 'my': 7374, 'term': 10939, 'chicago': 2313, 'bears': 1506, 'have': 5285, 'had': 5179, 'more': 7273, 'starting': 10428, 'quarterbacks': 8839, 'last': 6417, '10': 21, 'years': 12138, 'than': 10973, 'total': 11156, 'number': 7596, 'tenured': 10938, 'uw': 11594, 'faculty': 4331, 'fired': 4540, 'during': 3793, 'two': 11373, 'decades': 3165, 'jim': 6121, 'dunnam': 3789, 'has': 5267, 'not': 7573, 'lived': 6650, 'district': 3584, 'he': 5300, 'represents': 9268, 'for': 4648, 'now': 7587, 'only': 7736, 'person': 8192, 'this': 11040, 'stage': 10396, 'who': 11956, 'worked': 12073, 'actively': 709, 'just': 6195, 'year': 12136, 'passing': 8050, 'along': 953, 'russ': 9575, 'feingold': 4437, 'some': 10232, 'toughest': 11165, 'ethics': 4133, 'since': 10077, 'watergate': 11842, 'however': 5535, '19': 123, 'million': 7136, 'oregon': 7786, 'lottery': 6716, 'funds': 4801, 'port': 8421, 'newport': 7494, 'eventually': 4153, 'land': 6389, 'new': 7488, 'noaa': 7529, 'marine': 6876, 'operations': 7751, 'center': 2205, 'pacific': 7939, 'gop': 5009, 'primary': 8589, 'opponents': 7759, 'glenn': 4969, 'grothman': 5108, 'and': 1019, 'joe': 6132, 'leibham': 6517, 'cast': 2143, 'compromise': 2617, 'vote': 11741, 'cost': 2872, '788': 520, 'higher': 5388, 'electricity': 3900, 'costs': 2875, 'first': 4550, 'time': 11095, 'history': 5421, 'share': 9942, 'national': 7408, 'popular': 8409, 'margin': 6871, 'smaller': 10153, 'latino': 6426, '2000': 202, 'nearly': 7432, '12': 50, 'americans': 988, 'slipped': 10138, 'out': 7828, 'middle': 7111, 'class': 2405, 'into': 5943, 'poverty': 8467, 'mitt': 7210, 'romney': 9512, 'was': 11818, 'governor': 5029, 'massachusetts': 6916, 'we': 11858, 'didnt': 3436, 'slow': 10144, 'rate': 8952, 'growth': 5124, 'our': 7824, 'government': 5026, 'actually': 718, 'cut': 3052, 'economy': 3847, 'bled': 1676, '24': 265, 'billion': 1627, 'due': 3772, 'shutdown': 10037, 'most': 7294, 'affordable': 816, 'act': 700, 'already': 956, 'sense': 9866, 'been': 1523, 'waived': 11769, 'or': 7776, 'otherwise': 7820, 'suspended': 10754, 'election': 3892, 'november': 7586, '63': 462, 'percent': 8158, 'american': 987, 'people': 8153, 'chose': 2340, '80': 524, 'young': 12155, '75': 505, 'low': 6730, 'income': 5714, 'workers': 12075, 'opposed': 7763, 'requirement': 9288, 'buy': 1982, 'made': 6773, 'motorcycles': 7305, 'said': 9599, 'all': 921, 'provisions': 8770, 'were': 11910, 'quote': 8863, 'disgraceful': 3535, 'rep': 9233, 'ron': 9515, 'kind': 6294, 'wis': 12016, 'his': 5415, 'fellow': 4444, 'democrats': 3287, 'went': 11908, 'spending': 10314, 'spree': 10362, 'their': 11002, 'credit': 2958, 'card': 2092, 'maxed': 6952, 'water': 11837, 'rates': 8955, 'manila': 6844, 'philippines': 8230, 'raised': 8910, 'up': 11542, '845': 544, 'subsidiary': 10621, 'world': 12082, 'bank': 1421, 'became': 1512, 'partial': 8016, 'owner': 7924, 'almost': 950, '100': 22, '000': 1, 'left': 6489, 'puerto': 8785, 'rico': 9422, 'women': 12054, 'men': 7049, 'both': 1772, 'are': 1159, 'making': 6809, 'less': 6534, 'you': 12151, 'adjust': 741, 'inflation': 5799, 'kitzhaber': 6312, 'elected': 3890, 'united': 11486, 'states': 10441, 'highest': 5389, 'corporate': 2850, 'tax': 10865, 'best': 1592, 'auto': 1326, 'industry': 5776, 'america': 986, 'scott': 9760, 'walker': 11778, 'favors': 4403, 'cutting': 3058, '350': 336, 'families': 4360, 'children': 2324, 'wants': 11792, 'get': 4921, 'rid': 9424, 'planned': 8308, 'parenthood': 8000, 'dont': 3667, 'know': 6327, 'jonathan': 6149, 'gruber': 5125, 'hate': 5279, 'crimes': 2966, 'against': 835, 'muslims': 7364, 'mosques': 7289, 'tripled': 11302, 'after': 828, 'paris': 8003, 'san': 9628, 'bernardino': 1583, 'rick': 9421, 'perry': 8186, 'never': 7486, 'lost': 6712, 'an': 1011, 'remains': 9194, 'won': 12056, 'texas': 10966, 'governorship': 5031, 'three': 11059, 'times': 11098, 'landslide': 6397, 'elections': 3893, 'isis': 6021, 'supporter': 10705, 'tweeted': 11365, '34': 331, 'shooting': 9999, 'began': 1528, '45': 389, 'chattanooga': 2281, 'tenn': 10930, 'youth': 12162, 'unemployment': 11455, 'minority': 7166, 'communities': 2567, 'about': 616, '40': 364, 'paul': 8083, 'ryan': 9583, 'still': 10501, 'endorsing': 4004, 'trump': 11326, 'if': 5608, 'look': 6695, 'right': 9438, 'work': 12072, 'they': 11025, 'constantly': 2732, 'do': 3610, 'budget': 1902, 'deficits': 3236, 'very': 11655, 'good': 5003, 'business': 1966, 'climates': 2437, 'what': 11923, 'obama': 7618, 'going': 4991, 'come': 2525, 'next': 7505, 'several': 9913, 'months': 7265, 'youre': 12159, 'even': 4147, 'be': 1498, 'able': 603, 'burn': 1947, 'limitedly': 6616, 'existing': 4224, 'plants': 8314, 'taxes': 10868, 'so': 10185, 'today': 11113, '70': 486, 'businesses': 1967, 'pay': 8094, 'mark': 6878, 'pryor': 8773, 'votes': 11747, '93': 566, 'federal': 4422, 'thinks': 11035, 'authority': 1320, 'regulate': 9136, 'toilet': 11120, 'seats': 9791, 'austin': 1311, 'city': 2387, 'basically': 1472, 'doubled': 3681, 'size': 10100, 'every': 4157, '25': 273, 'founded': 4701, 'nuclear': 7592, 'test': 10956, 'conducted': 2658, 'nation': 7407, 'earth': 3824, '054th': 12, 'five': 4565, 'permanent': 8177, 'members': 7043, 'security': 9814, 'council': 2882, '99': 581, 'tests': 10963, 'case': 2131, 'catastrophic': 2152, 'event': 4150, 'atlanta': 1265, 'area': 1160, 'offices': 7690, 'centers': 2208, 'disease': 3528, 'control': 2796, 'prevention': 8575, 'will': 11984, 'self': 9841, 'destruct': 3377, 'under': 11426, 'added': 727, 'trillion': 11294, 'debt': 3158, 'weve': 11920, 'supreme': 10714, 'court': 2908, 'justice': 6196, 'suggested': 10657, 'cases': 2133, 'decided': 3174, 'based': 1467, 'south': 10262, 'african': 826, 'law': 6441, 'marco': 6866, 'rubio': 9550, 'skipped': 10110, '18': 114, 'defense': 3230, 'including': 5713, 'one': 7731, 'arm': 1183, 'kurds': 6353, 'fight': 4485, 'david': 3119, 'cicilline': 2364, 'responsible': 9336, 'loan': 6660, 'guarantee': 5129, 'solyndra': 10228, 'failed': 4334, 'solar': 10207, 'company': 2578, 'ohio': 7704, 'item': 6055, 'later': 6421, 'signed': 10057, 'gov': 5022, 'kasich': 6216, 'requires': 9290, 'seeking': 9820, 'abortion': 612, 'undergo': 11433, 'mandatory': 6838, 'vaginal': 11611, 'probe': 8623, 'director': 3477, 'homeland': 5460, 'cannot': 2063, 'use': 11574, 'terrorist': 10952, 'attack': 1273, 'but': 1975, 'instead': 5865, 'substitutes': 10631, 'man': 6824, 'disaster': 3496, '51': 423, 'hispanic': 5416, '36': 342, 'obamacare': 7619, 'provide': 8758, 'insurance': 5882, 'non': 7540, 'residents': 9311, 'here': 5362, 'illegally': 5617, 'barack': 1435, 'exactly': 4172, 'none': 7545, 'own': 7922, 'deficit': 3235, 'reduction': 9082, 'commissions': 2548, 'ideas': 5596, 'changed': 2257, 'rules': 9560, 'engagement': 4023, 'probably': 8620, 'capt': 2082, 'humayun': 5550, 'khans': 6269, 'life': 6588, '2005': 208, 'co': 2471, 'sponsored': 10343, 'would': 12097, 'jail': 6069, 'flag': 4574, 'burners': 1948, 'paperback': 7988, 'edition': 3854, 'romneys': 9514, 'book': 1742, 'deleted': 3266, 'line': 6626, 'individual': 5766, 'should': 10015, 'model': 7223, 'country': 2897, 'maggie': 6783, 'hassan': 5276, 'tuition': 11343, 'terry': 10955, 'mcauliffe': 6964, 'invented': 5958, 'scheme': 9724, 'rent': 9227, 'lincoln': 6622, 'bedroom': 1520, 'created': 2946, '800': 525, 'jobs': 6129, 'half': 5192, 'york': 12147, 'state': 10435, 'private': 8608, 'sector': 9807, 'ever': 4154, 'its': 6057, 'towns': 11181, 'west': 11913, 'having': 5290, 'truck': 11319, 'georgia': 4911, 'earn': 3814, '82': 534, 'cents': 2211, 'dollar': 3637, 'earned': 3815, 'system': 10803, 'verifies': 11647, 'employees': 3965, 'authorized': 1322, 'inaccurate': 5690, 'anywhere': 1083, 'from': 4766, '50': 416, 'way': 11855, 'excess': 4188, 'build': 1912, 'wall': 11781, 'while': 11945, 'ago': 850, 'long': 6691, 'like': 6603, '06': 13, 'couldnt': 2880, 'environmental': 4073, 'impact': 5644, 'statements': 10439, 'sen': 9854, 'campaign': 2032, 'announced': 1046, 'choosing': 2337, 'cabinet': 1996, '2008': 211, '54': 434, 'latinos': 6427, 'registered': 9127, '35': 335, 'turned': 11352, 'public': 8778, 'high': 5387, 'schools': 9738, 'offer': 7681, 'pe': 8111, 'classes': 2406, 'republican': 9273, 'candidate': 2054, 'around': 1193, 'military': 7128, 'recruiters': 9058, 'harvard': 5263, 'elena': 3907, 'kagan': 6205, 'position': 8437, 'ruled': 9559, 'unanimously': 11408, 'she': 9955, 'wrong': 12118, 'there': 11013, '321': 317, '092': 19, 'school': 9735, 'teachers': 10879, '313': 310, '850': 546, 'mayor': 6959, 'providence': 8760, 'sanctuary': 9633, 'transgender': 11226, 'individuals': 5768, 'chance': 2253, 'being': 1540, 'murdered': 7350, 'bain': 1395, 'capital': 2075, 'helped': 5347, 'early': 3809, 'childhood': 2322, 'learning': 6475, 'called': 2019, 'bright': 1850, 'horizons': 5497, 'lady': 6376, 'michelle': 7103, 'rightly': 9439, 'praised': 8481, 'rushed': 9572, 'him': 5406, 'dayton': 3125, 'chatter': 2282, 'social': 10190, 'media': 7011, 'posts': 8451, 'phil': 8225, 'gingrey': 4945, 'gave': 4871, 'power': 8470, 'electronically': 3903, 'spy': 10368, 'without': 12037, 'warrant': 11811, 'alex': 907, 'sink': 10083, 'funneled': 4805, 'quarters': 8840, 'dollars': 3638, 'no': 7528, 'bid': 1612, 'contracts': 2783, 'take': 10821, 'population': 8412, 'virginia': 11707, 'net': 7470, 'zero': 12182, 'job': 6126, 'creation': 2951, 'bob': 1712, 'mcdonnell': 6974, 'home': 5458, 'values': 11624, 'florida': 4604, 'collapsed': 2498, 'construction': 2741, 'foreclosure': 4660, 'arizona': 1177, 'immigration': 5639, 'any': 1075, 'police': 8367, 'officer': 7688, 'can': 2041, 'stop': 10519, 'anyone': 1079, 'appears': 1109, 'them': 11004, 'reasonably': 9001, 'suspicious': 10757, 'undocumented': 11452, 'war': 11794, 'ii': 5613, 'single': 10082, 'biggest': 1620, 'factor': 4324, 'driving': 3744, 'down': 3692, 'recession': 9025, 'consumer': 2748, 'native': 7416, 'perversity': 8200, 'begun': 1535, 'save': 9664, 'savings': 9668, 'whether': 11942, 'nominee': 7538, 'forthcoming': 4687, 'confirmation': 2672, 'hearings': 5317, 'homeless': 5461, 'veteran': 11659, 'charlie': 2276, 'crist': 2974, 'cuts': 3057, 'medicare': 7016, 'advantage': 779, 'program': 8663, 'think': 11034, 'unacceptable': 11403, 'chinese': 2331, 'larger': 6411, 'wind': 11994, 'panels': 7981, 'photovoltaic': 8247, 'manufacturing': 6858, 'europe': 4139, 'put': 8819, 'together': 11118, 'forget': 4673, 'brown': 1880, 'let': 6538, 'employers': 3968, 'deny': 3306, 'coverage': 2915, 'birth': 1644, 'point': 8356, 'lives': 6651, 'past': 8055, '20': 200, 'egypt': 3877, 'great': 5078, 'strides': 10565, 'democratic': 3284, 'amount': 1003, 'attention': 1286, 'paid': 7955, 'week': 11887, 'chris': 2342, 'christie': 2348, 'makes': 6807, 'benghazi': 1573, 'pale': 7965, 'significance': 10060, 'steve': 10492, 'southerland': 10264, 'voted': 11743, 'keep': 6233, 'perrys': 8187, 'import': 5662, 'nurses': 7605, 'other': 7818, 'countries': 2896, 'criminal': 2967, 'crime': 2964, 'transport': 11238, 'dentures': 3304, 'across': 699, 'lines': 6628, 'built': 1915, 'prison': 8602, 'days': 3124, 'between': 1598, '1990': 186, 'mass': 6915, 'incarceration': 5698, 'explosion': 4272, 'nonviolent': 7554, 'offenders': 7677, 'plan': 8302, 'provides': 8764, 'virtually': 11710, 'nothing': 7577, 'burdened': 1931, 'fastest': 4386, 'growing': 5121, 'increases': 5728, 'major': 6802, 'phoenix': 8235, 'kidnapping': 6280, 'belong': 1552, 'afl': 822, 'cio': 2369, 'commissioner': 2546, 'cant': 2064, 'squat': 10374, 'poll': 8383, 'found': 4698, 'could': 2878, 'beat': 1507, 'eight': 3880, 'points': 8358, 'ronald': 9516, 'reagan': 8988, 'sent': 9869, 'troops': 11312, 'conflict': 2679, 'circumstance': 2375, 'which': 11944, 'grenada': 5095, 'peacekeeping': 8114, 'setting': 9905, 'lebanon': 6483, 'jolly': 6146, 'privatizing': 8612, 'us': 11569, 'lowest': 6735, 'depression': 3334, 'average': 1338, 'student': 10587, 'pocket': 8351, 'universities': 11489, 'as': 1211, 'much': 7334, 'spend': 10313, 'cellphones': 2196, '1968': 164, 'died': 3438, 'gunfire': 5156, 'wars': 11816, 'countrys': 2898, 'effect': 3866, '2013': 217, 'mean': 6991, 'bill': 1625, 'those': 11047, 'facing': 4322, 'millions': 7139, 'modified': 7232, 'mortgage': 7285, 'short': 10007, 'sale': 9614, 'through': 11065, 'lender': 6521, 'department': 3309, 'agricultures': 859, 'website': 11879, 'freshfromflorida': 4750, 'com': 2520, 'used': 11575, 'permit': 8180, 'carry': 2120, 'loaded': 6658, 'hidden': 5384, 'gun': 5155, 'leaving': 6482, 'your': 12158, 'house': 5522, 'streetcar': 10552, 'expected': 4242, 'create': 2945, '930': 567, 'totaling': 11158, '600': 454, 'over': 7870, 'raising': 8913, 'minimum': 7157, 'wage': 11759, 'hour': 5519, 'help': 5346, 'lift': 6595, 'secretary': 9803, 'kerry': 6260, 'senator': 9856, 'flew': 4587, 'managua': 6832, 'met': 7078, 'communist': 2565, 'dictator': 3432, 'daniel': 3099, 'ortega': 7811, 'accused': 679, 'engaging': 4024, 'terrorism': 10951, 'nato': 7417, 'opening': 7742, 'terror': 10950, 'division': 3601, 'im': 5624, 'sure': 10716, 'largely': 6410, 'because': 1513, 'saying': 9673, 'criticism': 2979, 'always': 968, 'prochoice': 8636, 'rating': 8960, 'gina': 4944, 'raimondo': 8903, 'office': 7686, 'investment': 5971, 'fees': 4435, 'pension': 8149, 'portfolio': 8424, 'gone': 4998, 'annually': 1051, 'day': 3121, 'obamas': 7625, 'longer': 6692, 'lay': 6454, 'firefighters': 4542, 'officers': 7689, '98': 578, '53': 432, 'old': 7714, 'thirds': 11037, 'wisconsinites': 12018, 'receiving': 9021, 'checks': 2294, 'required': 9287, 'search': 9787, 'current': 3043, 'exemptions': 4213, 'reforms': 9104, 'premium': 8532, 'family': 4361, 'go': 4980, '500': 417, 'per': 8156, 'irs': 6012, 'also': 958, 'investigated': 5965, 'liberal': 6559, 'groups': 5117, 'progressive': 8666, 'name': 7388, 'looking': 6697, 'everybody': 4158, 'promised': 8687, 'above': 617, 'creating': 2949, 'pace': 7937, '1999': 196, 'meet': 7026, 'prime': 8590, 'minister': 7160, 'benjamin': 1574, 'netanyahu': 7471, 'majority': 6804, 'marry': 6893, 'freely': 4741, 'love': 6727, 'say': 9672, 'reps': 9270, 'peter': 8206, 'defazio': 3219, 'earl': 3806, 'blumenauer': 1701, 'socialists': 10193, 'openly': 7744, 'serving': 9896, 'congress': 2690, 'rudy': 9552, 'giuliani': 4953, 'underqualified': 11441, 'seek': 9819, 'presidency': 8553, 'presidents': 8557, 'governors': 5030, 'senators': 9857, 'britains': 1857, 'leave': 6480, 'european': 4140, 'union': 11480, 'within': 12035, 'hours': 5521, '401': 367, 'medicaid': 7013, 'declined': 3186, '2012': 216, 'second': 9797, 'such': 10643, '47': 402, '88': 555, 'constables': 2730, 'duty': 3796, 'prepaid': 8536, 'college': 2510, 'columbus': 2517, '41': 371, 'contribute': 2788, 'guaranteed': 5130, 'check': 2291, 'pensions': 8150, 'cfo': 2226, 'shut': 10036, 'krakow': 6344, 'scam': 9709, 'refunded': 9110, 'josephine': 6158, 'victims': 11674, 'con': 2623, 'getting': 4923, 'computer': 2621, 'sciences': 9744, 'degrees': 3252, '80s': 529, 'plus': 8346, 'air': 873, 'force': 4651, 'taxpayers': 10873, 'fund': 4791, 'fantasy': 4367, 'football': 4643, 'league': 6466, 'hussein': 5572, 'courts': 2912, 'accept': 647, 'islamic': 6026, 'sharia': 9945, 'domestic': 3646, 'disputes': 3560, 'murders': 7352, 'committed': 2552, 'guns': 5157, 'legally': 6497, 'purchase': 8800, 'neighborhood': 7461, 'closing': 2456, 'told': 11123, 'gay': 4874, 'organizers': 7798, 'stronger': 10576, 'advocate': 793, 'special': 10295, 'rights': 9440, 'ted': 10900, 'kennedy': 6247, 'speaker': 10290, 'consistently': 2726, 'offered': 7682, 'leaner': 6471, 'budgets': 1906, 'halfway': 5193, '2010': 214, 'goal': 4981, '700': 487, 'seven': 9910, 'saysmichael': 9690, 'bennet': 1575, 'close': 2451, 'guantanamo': 5128, 'bay': 1494, 'prisonand': 8603, 'bring': 1852, 'terrorists': 10953, 'colorado': 2515, 'oregonians': 7788, 'amazing': 974, 'donations': 3660, 'hes': 5372, '250': 274, 'syrian': 10800, 'iraqi': 6004, 'refugees': 9107, 'research': 9294, 'shows': 10027, 'vast': 11631, 'arriving': 1199, 'immigrants': 5635, 'believe': 1546, 'source': 10260, 'prosperity': 8731, 'thats': 10984, 'support': 10702, 'newt': 7503, 'gingrichs': 4947, 'offers': 7685, 'doorway': 3674, 'amnesty': 999, 'mr': 7325, 'caprio': 2080, 'career': 2098, 'politician': 8378, 'rhode': 9408, 'island': 6029, 'temporary': 10923, 'disability': 3481, 'each': 3805, 'jersey': 6103, '17': 100, 'interest': 5908, 'exceed': 4180, 'revenue': 9388, 'money': 7248, 'street': 10551, 'anybody': 1076, 'donald': 3653, 'proliferation': 8682, 'ok': 7708, 'taken': 10822, 'lobbyists': 6668, 'expressly': 4285, 'bans': 1432, 'racial': 8873, 'profiling': 8657, 'begging': 1530, 'send': 9858, 'coast': 2477, 'guard': 5133, 'patrol': 8076, 'lakes': 6382, 'mexico': 7095, 'border': 1757, 'va': 11595, '300': 303, 'veterans': 11660, 'waiting': 11767, '42': 373, 'rob': 9477, 'cornilles': 2847, 'dan': 3093, 'branch': 1812, 'tried': 11288, 'expand': 4232, 'steady': 10466, 'progress': 8665, 'improving': 5685, 'michigan': 7104, 'bottle': 1773, 'deposit': 3329, 'afford': 814, 'redemptions': 9067, 'profit': 8658, 'admit': 760, 'general': 4889, 'goes': 4988, 'education': 3859, 'whos': 11963, 'fought': 4696, 'developers': 3402, 'draining': 3716, 'everglades': 4155, 'johnson': 6136, 'calls': 2022, 'ponzi': 8398, 'privatize': 8611, '31': 308, 'cities': 2381, 'same': 9626, 'type': 11378, 'policies': 8370, 'passed': 8046, 'referring': 9093, 'north': 7564, 'carolinas': 2110, 'climate': 2436, 'directly': 3476, 'related': 9166, 'includes': 5712, 'soup': 10259, 'kitchens': 6308, 'spent': 10316, 'taxpayer': 10872, 'electric': 3897, 'cars': 2122, 'finland': 4534, 'windmills': 11997, 'china': 2329, 'sarah': 9649, 'wasilla': 11824, 'fire': 4537, 'highly': 5390, 'respected': 9326, 'librarian': 6567, 'refused': 9114, 'consider': 2719, 'removing': 9209, 'library': 6569, 'books': 1745, 'wanted': 11790, 'removed': 9207, 'milwaukee': 7141, 'approves': 1143, 'reducing': 9081, 'maximum': 6954, 'forfeiture': 4671, 'marijuana': 6874, 'possession': 8441, '23': 257, 'different': 3447, 'bicycle': 1609, 'violations': 11701, 'illegal': 5616, 'wrote': 12121, 'letter': 6541, 'supporting': 10707, 'hillarycare': 5402, 'patent': 8059, 'trademark': 11195, 'received': 9019, 'complaints': 2599, 'washington': 11822, 'redskins': 9077, 'proposals': 8713, 'cause': 2170, 'premiums': 8533, 'increased': 5727, 'decreased': 3192, 'hundreds': 5553, 'lose': 6707, 'mexican': 7093, 'abiding': 597, 'citizens': 2384, 'statistic': 10449, 'vetoed': 11662, 'package': 7942, '30': 302, 'bills': 1631, 'mining': 7158, 'illinois': 5620, 'gubernatorial': 5140, 'bradys': 1804, 'priority': 8601, 'winning': 12008, 'sponsor': 10342, 'euthanize': 4142, 'sheltered': 9971, 'dogs': 3630, 'cats': 2164, 'chambers': 2247, 'worsened': 12092, 'action': 704, '200': 201, 'pre': 8488, 'peak': 8117, 'trailed': 11209, 'rest': 9338, 'comes': 2527, 'consecutive': 2709, 'thomas': 11042, 'eric': 4093, 'duncan': 3786, 'came': 2027, 'elevated': 3909, 'temperature': 10920, 'afghanistan': 821, 'foreign': 4662, 'conducting': 2659, 'nations': 7413, 'prices': 8581, 'webster': 11881, 'form': 4675, 'marriage': 6890, 'trap': 11242, 'abusive': 639, 'relationships': 9171, 'judges': 6170, 'better': 1595, 'benefits': 1571, 'lower': 6732, 'else': 3925, 'lot': 6713, 'casinos': 2140, 'bankrupt': 1425, 'small': 10152, 'seniors': 9864, 'kids': 6282, 'arrested': 1196, 'leader': 6461, 'rank': 8936, 'oil': 7707, 'rigs': 9442, 'operation': 7749, 'combined': 2524, 'payday': 8098, 'lenders': 6522, 'poor': 8401, 'charging': 2270, 'trust': 11330, 'sound': 10256, 'anything': 1080, 'done': 3661, 'function': 4788, 'well': 11903, '2038': 232, 'changes': 2258, 'commitment': 2550, 'voters': 11746, 'seriously': 9884, 'incumbent': 5737, 'break': 1824, 'pledge': 8333, 'stricklands': 10561, 'hike': 5396, 'defeated': 3221, 'soundly': 10257, 'tuesday': 11341, 'amber': 977, 'alert': 906, 'republicans': 9275, 'muslim': 7363, 'see': 9815, 'americas': 992, 'exploding': 4266, 'greater': 5079, 'percentage': 8159, 'behind': 1539, 'bars': 1462, 'hearing': 5316, 'gabrielle': 4820, 'giffords': 4934, 'gen': 4887, 'petraeus': 8212, 'army': 1189, 'emphasis': 3959, 'environmentally': 4075, 'damaging': 3088, 'methods': 7084, 'stabbing': 10381, 'clubbing': 2465, 'enemy': 4011, 'forces': 4653, 'order': 7779, 'minimize': 7156, 'carbon': 2089, 'output': 7851, 'blocked': 1684, 'raise': 8909, 'receive': 9018, 'living': 6653, 'adjustment': 744, 'january': 6081, '2015': 220, 'male': 6814, 'babies': 1361, 'many': 6859, 'whom': 11960, 'jose': 6156, 'authorizing': 1324, 'strike': 10567, 'syria': 10799, 'assad': 1227, 'chemical': 2302, 'weapons': 11870, 'cash': 2135, 'clunkers': 2467, 've': 11635, 'got': 5019, 'local': 6670, 'junkyard': 6190, 'tow': 11175, 're': 8974, 'guts': 5163, 'recognize': 9035, 'real': 8990, 'wages': 11760, 'top': 11145, 'dewhurst': 3414, 'record': 9045, 'promoting': 8693, 'pleasant': 8330, 'beach': 1499, 'does': 3625, 'beaches': 1500, 'privately': 8609, 'owned': 7923, 'operated': 7746, 'jenkinsons': 6096, 'mind': 7145, 'conclude': 2641, 'shouldn': 10016, '28': 290, 'killed': 6285, 'leading': 6464, 'pack': 7941, 'terms': 10943, 'denies': 3297, 'access': 653, 'hb2': 5298, 'hasnt': 5274, 'moved': 7316, 'needle': 7443, 'iota': 5987, 'consists': 2727, 'core': 2841, 'according': 666, 'agencies': 839, 'weidner': 11892, 'proposed': 8715, 'taking': 10826, 'away': 1354, 'oregons': 7789, '1985': 181, 'former': 4680, 'tom': 11129, 'kean': 6229, 'largest': 6413, 'increase': 5726, 'ready': 8986, 'commander': 2534, 'chief': 2317, 'median': 7012, 'worker': 12074, 'seen': 9825, 'adjusted': 742, 'barrett': 1454, 'held': 5339, 'property': 8705, 'member': 7042, 'representatives': 9265, 'contributions': 2793, 'unlike': 11500, 'gridlock': 5097, 'assembly': 1235, 'bipartisan': 1640, 'josh': 6159, 'mandel': 6839, 'lying': 6756, 'ohios': 7706, 'improved': 5683, 'leased': 6477, 'drilling': 3735, 'trying': 11337, 'hide': 5385, 'how': 5532, 'possible': 8442, 'lease': 6476, 'turnpike': 11358, 'beginning': 1533, 'decade': 3164, 'surplus': 10726, 'projected': 8675, '540': 435, 'nominations': 7537, 'confirmed': 2673, 'four': 4705, 'forced': 4652, 'feisal': 4440, 'abdul': 593, 'raufs': 8967, 'trip': 11300, 'east': 3833, 'county': 2900, '370': 348, 'settle': 9906, 'lawsuit': 6448, 'decision': 3178, 'sheriff': 9973, 'clarke': 2403, 'jr': 6163, 'untrained': 11532, 'corrections': 2857, 'rather': 8956, 'deputies': 3339, 'lakefront': 6381, 'fbi': 4404, 'james': 6073, 'comey': 2529, 'discussing': 3525, 'details': 3382, 'investigation': 5967, 'considerably': 2720, 'effective': 3867, 'biden': 1615, 'gulf': 5153, 'surge': 10718, 'partition': 8029, 'iraq': 6003, 'rush': 9571, 'limbaugh': 6611, 'clear': 2423, 'hed': 5332, 'fail': 4333, 'succeed': 10635, 'make': 6805, '21': 242, 'wasnt': 11826, 'before': 1527, 'recruiting': 9059, 'throughout': 11066, 'funding': 4795, 'perdue': 8164, 'abolish': 605, 'eliminate': 3914, 'loans': 6663, 'proposal': 8711, 'students': 10588, 'campus': 2039, 'twice': 11369, 'graduate': 5046, 'theyve': 11029, 'appeared': 1108, 'imprisons': 5679, 'open': 7740, 'grown': 5123, '375': 349, 'scores': 9758, 'remain': 9190, 'flat': 4578, 'affect': 801, 'alameel': 892, 'giving': 4959, 'thousands': 11052, 'party': 8036, 'candidates': 2057, 'cornyn': 2848, 'greg': 5094, 'abbott': 591, 'healthcare': 5311, 'burns': 1950, 'gdp': 4878, 'nobody': 7530, 'providences': 8761, 'miles': 7125, 'closer': 2453, 'eastern': 3834, 'need': 7440, 'photo': 8239, 'id': 5593, 'sudafed': 10646, 'twenty': 11368, 'housing': 5526, 'portlands': 8427, 'pearl': 8120, 'allowing': 944, 'payroll': 8107, 'holiday': 5446, 'expire': 4258, 'costing': 2873, 'another': 1055, 'estimated': 4126, '900': 560, 'supported': 10703, 'nafta': 7384, 'trade': 11194, 'pennsylvania': 8146, 'numerous': 7600, 'studies': 10589, 'shown': 10026, 'these': 11020, 'laws': 6447, 'generate': 4891, 'gross': 5107, 'product': 8645, 'historically': 5420, 'affairs': 799, 'scandal': 9712, 'exaggerated': 4173, 'satisfied': 9655, 'driven': 3740, 'initial': 5820, 'response': 9334, 'heard': 5315, 'christmas': 2351, 'underwear': 11450, 'bomber': 1728, 'isolated': 6039, 'extremist': 4306, 'sherrod': 9975, 'admitted': 762, '787': 518, 'stimulus': 10504, 'specifically': 10300, 'attacking': 1276, 'wanting': 11791, 'claims': 2400, 'enough': 4038, '1950s': 152, 'rich': 9415, '90': 559, 'charleston': 2275, 'shootershould': 9998, 'given': 4956, 'universal': 11487, 'background': 1372, 'fast': 4384, 'sixty': 10099, 'okay': 7709, 'shoot': 9995, 'soldier': 10211, 'twelve': 11367, 'thrown': 11070, 'legal': 6492, 'challenges': 2244, 'rejected': 9163, 'notion': 7582, 'unconstitutional': 11421, 'christies': 2349, 'reduce': 9078, 'warren': 11814, 'buffett': 1911, 'me': 6988, 'lemieux': 6519, 'precinct': 8495, 'allen': 930, 'patrick': 8070, 'murphy': 7355, 'recount': 9048, 'guatemalan': 5139, 'community': 2568, 'tally': 10837, 'showed': 10021, '230': 258, 'kathleen': 6220, 'sebelius': 9794, 'determine': 3388, 'lung': 6750, 'patient': 8067, 'murnaghan': 7354, 'live': 6649, 'die': 3437, 'klein': 6316, 'repeatedly': 9247, 'favor': 4399, 'enforcement': 4019, 'data': 3110, 'hubs': 5538, 'treasure': 11256, 'trove': 11317, 'personal': 8193, 'info': 5803, 'tenure': 10937, 'saw': 9670, 'houstons': 5528, 'drop': 3747, 'levels': 6548, 'columbia': 2516, 'university': 11490, 'barry': 1461, 'soetoro': 10201, 'richest': 9419, 'senate': 9855, 'filled': 4503, 'millionaires': 7138, 'solution': 10220, 'crisis': 2973, 'skip': 10109, 'vacations': 11601, 'infinite': 5795, 'promises': 8688, 'hypocrisy': 5584, 'foundation': 4699, 'staff': 10391, '218': 247, '029': 6, 'female': 4451, '153': 82, '014': 3, '2014': 218, 'violence': 11703, 'adopted': 766, '1994': 191, 'fallen': 4352, '67': 476, 'questioning': 8844, 'miranda': 7174, 'warning': 11808, 'minutes': 7172, 'legalizing': 6496, 'pregnancies': 8521, 'unintended': 11478, 'borrowing': 1764, 'saudi': 9659, 'result': 9353, 'dependency': 3313, 'homes': 5467, 'oswego': 7817, 'lake': 6380, '150': 80, 'welcome': 11899, 'complaining': 2597, 'gained': 4824, '590': 451, 'entire': 4060, 'difference': 3445, 'previous': 8578, 'where': 11936, 'things': 11033, 'headed': 5302, 'brought': 1878, '816': 533, 'saved': 9665, 'growers': 5120, 'dairies': 3078, 'workforce': 12076, '1978': 173, 'nationwide': 7415, 'something': 10237, 'portman': 8428, 'irresponsible': 6011, 'dekalb': 3253, 'projects': 8680, 'palin': 7969, 'wing': 12004, 'pat': 8058, 'buchanan': 1892, 'block': 1683, 'energy': 4014, 'production': 8646, 'jeanne': 6089, 'shaheen': 9934, 'measure': 7000, 'amounted': 1004, 'strictest': 10563, 'skyrocketed': 10117, 'fighting': 4488, 'move': 7315, 'toughen': 11163, 'penalties': 8135, 'workplace': 12079, 'gender': 4888, 'discrimination': 3521, 'belonged': 1553, 'cooking': 2821, 'cleaning': 2418, 'rule': 9558, 'infrastructure': 5812, '611': 458, 'proper': 8702, 'collective': 2507, 'noun': 7585, 'baboons': 1362, 'predatory': 8505, 'target': 10852, 'december': 3169, '2007': 210, 'period': 8172, '400': 365, 'difficult': 3448, 'hire': 5411, 'cbo': 2182, 'congressional': 2694, 'kill': 6284, 'thompson': 11043, 'caps': 2081, 'damages': 3087, 'fairer': 4341, 'fiscal': 4554, 'reserve': 9301, '49': 410, 'using': 11583, 'strategic': 10540, 'petroleum': 8214, 'fertile': 4459, 'teacher': 10878, 'uninsured': 11477, 'mandates': 6836, '2006': 209, 'firearms': 4539, 'homicides': 5471, 'concealed': 2625, 'upwards': 11560, 'decide': 3173, 'seeing': 9818, 'ultrasound': 11397, 'harbor': 5239, 'ban': 1415, 'common': 2556, 'forms': 4681, 'pill': 8266, 'jason': 6085, 'kander': 6210, 'remaining': 9193, 'suspected': 10751, 'soil': 10206, 'shelby': 9963, 'donated': 3656, 'sorry': 10251, '44': 383, 'memphis': 7048, 'intelligence': 5894, 'officials': 7694, 'toldevery': 11124, 'attacked': 1274, 'serious': 9883, 'threat': 11053, 'emanating': 3933, 'suburbs': 10633, 'inundated': 5950, 'absolutely': 627, 'july': 6181, '1996': 193, 'locate': 6671, 'missing': 7196, 'teenage': 10903, 'daughter': 3116, 'partner': 8032, 'blames': 1667, 'mike': 7121, 'mcintyre': 6980, 'nancy': 7394, 'pelosi': 8130, 'straight': 10532, 'beneficiaries': 1567, 'account': 667, 'transfers': 11225, 'knowing': 6328, 'mechanisms': 7008, 'place': 8295, 'internet': 5920, 'defunding': 3248, 'oppose': 7762, 'shutting': 10040, 'report': 9256, 'insisting': 5848, 'part': 8015, 'fiscalcliff': 4555, 'false': 4356, 'btw': 1890, 'barackobama': 1436, 'played': 8323, 'clips': 2449, 'knife': 6322, 'want': 11789, 'ryans': 9584, 'pockets': 8354, 'companies': 2577, 'connie': 2704, 'mack': 6768, 'iv': 6059, 'missed': 7193, 'eisenhower': 3883, 'saluted': 9623, 'personnel': 8196, 'wisconsins': 12019, 'perquisites': 8184, 'plans': 8310, 'counterparts': 2891, 'airplane': 877, '74': 500, 'afterschool': 830, 'programs': 8664, 'flow': 4610, 'wont': 12059, 'default': 3217, 'homeowners': 5465, 'lending': 6523, 'practices': 8478, 'mid': 7110, 'banks': 1429, 'wiped': 12012, 'dodd': 3621, 'frank': 4724, 'starbucks': 10421, 'brand': 1814, 'cups': 3031, 'atmospheric': 1269, 'conditions': 2653, 'push': 8815, 'footballs': 4644, 'pressure': 8562, 'approximately': 1145, 'pounds': 8464, 'square': 10373, 'inch': 5703, 'unlimited': 11501, 'until': 11529, 'moment': 7243, 'cleared': 2424, 'obtain': 7646, 'scholarships': 9734, 'attend': 1282, 'losing': 6709, 'six': 10096, 'adding': 731, 'star': 10420, 'hook': 5484, 'falcons': 4347, 'stadium': 10389, 'repaid': 9234, 'outsiders': 7855, '22': 250, 'missouri': 7201, 'lone': 6690, 'refinance': 9096, 'resolution': 9320, 'disapproval': 3493, 'condemn': 2648, 'behavior': 1537, 'younger': 12156, 'competitors': 2594, 'entirely': 4061, 'recent': 9022, 'international': 5917, 'reports': 9261, 'show': 10020, 'near': 7430, 'bottom': 1775, 'among': 1001, 'industrialized': 5774, 'academic': 640, 'achievement': 685, 'find': 4519, 'full': 4783, 'doctor': 3614, 'theyre': 11028, 'sick': 10043, 'feed': 4430, 'themselves': 11006, '15': 79, 'owe': 7919, 'value': 11622, 'policy': 8372, 'mistakes': 7204, 'clintons': 2446, 'large': 6409, 'degree': 3251, 'situation': 10094, 'arkansas': 1181, 'speed': 10309, 'train': 11212, '39': 357, 'estimates': 4127, 'fully': 4785, 'extending': 4288, 'add': 726, '2011': 215, 'ceiling': 2187, 'cay': 2179, 'johnston': 6138, 'pays': 8108, '16': 88, 'covered': 2916, '1952': 153, 'accounted': 671, '33': 322, 'despite': 3369, 'breaking': 1826, 'profits': 8662, 'targeted': 10853, 'scrutiny': 9776, 'conservative': 2716, 'patrice': 8069, 'lumumba': 6744, 'moscow': 7287, 'mahmoud': 6790, 'abbas': 590, 'ali': 912, 'khamenei': 6268, 'established': 4118, 'vladimir': 11726, 'putin': 8820, 'board': 1707, 'sboe': 9706, 'led': 6485, 'appointee': 1123, 'remove': 9206, 'jefferson': 6093, 'textbook': 10968, 'standards': 10413, 'historical': 5419, 'figures': 4491, 'inspired': 5855, 'salary': 9613, 'perks': 8175, 'bernie': 1585, '13': 60, 'pull': 8786, 'truth': 11334, 'matter': 6941, '160': 89, 'physically': 8250, 'logistically': 6686, '14': 69, 'wealth': 11866, '157': 86, 'yet': 12144, 'require': 9285, 'penny': 8147, 'foster': 4694, 'kriseman': 6347, 'ineffective': 5777, 'krisemans': 6348, 'routinely': 9543, 'gets': 4922, 'cell': 2195, 'phone': 8236, 'numbers': 7598, 'month': 7263, '184': 119, 'contract': 2779, 'negotiations': 7459, 'clackamas': 2396, 'commissioners': 2547, 'approved': 1142, 'negotiated': 7457, 'agreement': 854, 'countys': 2901, 'contribution': 2792, 'trimets': 11298, 'portland': 8426, 'milwaukie': 7143, 'light': 6599, 'rail': 8900, 'project': 8674, '11': 35, 'felonies': 4446, 'commit': 2549, 'oyster': 7932, 'unwinding': 11541, 'welfare': 11902, 'requirements': 9289, 'car': 2088, 'sales': 9616, 'dropped': 3750, 'dramatically': 3719, 'eliminated': 3915, 'annual': 1050, 'registration': 9129, 'fee': 4429, 'imposed': 5669, 'training': 11214, 'camp': 2031, 'deal': 3135, 'generated': 4892, 'born': 1760, 'anytime': 1081, 'defended': 3226, 'syrias': 10802, 'reformer': 9101, 'civil': 2392, 'postal': 8446, 'services': 9895, 'financial': 4515, 'losses': 6711, 'drains': 3717, 'post': 8444, 'service': 9893, 'overpay': 7891, 'billions': 1630, 'accounts': 672, 'delayed': 3258, 'opposition': 7767, 'amendments': 984, 'confederate': 2661, 'battle': 1489, 'building': 1913, 'gift': 4935, 'shops': 10004, 'shes': 9977, '60': 453, 'hurting': 5567, 'sheila': 9962, 'jackson': 6066, 'lee': 6487, 'hey': 5378, 'wrinkly': 12112, 'white': 11951, 'aged': 838, 'beens': 1525, 'generation': 4894, 'spot': 10350, 'planet': 8305, 'spends': 10315, 'google': 5008, 'searches': 9788, 'allow': 940, 'operator': 7753, 'iron': 6007, 'ore': 7785, 'mine': 7150, 'northern': 7568, 'wisconsin': 12017, 'fill': 4502, 'pristine': 8606, 'streams': 10550, 'ponds': 8395, 'waste': 11828, 'taxed': 10867, 'black': 1655, 'itd': 6054, '15th': 87, 'wealthiest': 11867, 'graduation': 5050, '86': 551, '65': 468, '71': 489, 'sold': 10210, 'unlicensed': 11499, 'sellers': 9844, 'either': 3884, 'online': 7735, 'deadliest': 3130, 'below': 1556, '46th': 401, '50th': 422, 'graduates': 5048, 'amanda': 971, 'fritz': 4764, 'manages': 6830, '1900s': 126, 'style': 10599, 'trolley': 11309, 'child': 2319, 'results': 9356, 'gotten': 5020, 'worse': 12090, 'polls': 8386, 'floridians': 4607, 'repeal': 9241, 'congressman': 2695, 'pascrell': 8042, 'option': 7773, 'lawmakers': 6444, 'season': 9789, 'efforts': 3873, 'lead': 6460, 'drawing': 3725, 'borders': 1758, 'surrogates': 10731, 'referred': 9092, 'rape': 8942, 'incest': 5702, 'though': 11048, 'somehow': 10234, 'confronting': 2684, 'minor': 7164, 'issue': 6045, 'offshore': 7698, 'medical': 7015, 'amendment': 983, 'refills': 9095, 'forever': 4669, 'storing': 10527, 'microchip': 7108, 'implanted': 5654, 'opt': 7770, 'become': 1516, 'enacting': 3981, 'expanding': 4234, 'predators': 8504, 'abusers': 636, 'haven': 5287, '1993': 190, 'treasurers': 11258, '37': 347, 'management': 6827, 'oversight': 7904, 'investments': 5972, 'charter': 2279, 'applied': 1118, 'jorge': 6154, 'elorza': 3924, 'impose': 5668, 'municipal': 7347, 'overrule': 7896, 'branchesof': 1813, 'roughly': 9536, 'ri': 9410, 'nathan': 7406, 'hope': 5489, 'scholarship': 9733, 'literally': 6645, 'georgians': 4912, 'technical': 10894, 'badly': 1384, 'needed': 7441, 'saving': 9667, '380': 353, 'havent': 5289, 'ive': 6060, 'teach': 10877, 'kindergartners': 6296, 'known': 6330, 'accepting': 650, 'bewildered': 1602, 'scope': 9754, 'reach': 8975, 'spying': 10369, 'apparatus': 1100, 'explicitly': 4264, 'calling': 2021, 'disclosure': 3506, 'hassans': 5277, 'raises': 8912, 'politicians': 8379, '27': 282, 'moroccans': 7280, 'pottery': 8461, 'starts': 10429, 'her': 5358, 'saysrand': 9696, 'paulhas': 8085, 'huge': 5543, 'sums': 10670, 'influence': 5801, 'legislative': 6504, '43': 378, 'arabia': 1151, 'al': 888, 'qaida': 8828, 'williamson': 11988, 'attorney': 1289, 'jana': 6077, 'prosecuted': 8722, 'adult': 771, 'felony': 4448, 'fundraising': 4800, 'grassroots': 5071, 'unmatched': 11504, 'negotiate': 7456, 'although': 963, 'seems': 9824, 'reflect': 9098, 'caused': 2171, 'shrinking': 10031, 'actual': 717, 'labor': 6367, 'hired': 5412, 'convicted': 2815, 'jensen': 6098, 'oversee': 7901, 'raid': 8897, 'employee': 3964, 'retirement': 9369, 'balance': 1400, 'battlefield': 1490, 'apply': 1119, 'green': 5084, 'packers': 7947, 'players': 8325, 'peoples': 8154, 'republic': 9271, 'donetsk': 3662, 'posted': 8447, 'bragging': 1806, 'posting': 8449, 'shot': 10013, 'then': 11008, 'apparent': 1101, 'civilian': 2393, 'pulled': 8787, 'falling': 4354, 'faster': 4385, 'looks': 6698, 'sectors': 9808, 'leisure': 6518, 'hospitality': 5508, 'mostly': 7295, 'fall': 4351, 'restaurant': 9339, 'bar': 1433, 'paying': 8100, 'proportion': 8708, 'earning': 3818, 'subminimum': 10611, 'bought': 1777, 'vehicles': 11641, 'measures': 7002, 'ones': 7733, 'prevent': 8570, 'groping': 5106, 'airport': 879, 'appointees': 1124, 'ipab': 5990, 'decisions': 3179, 'stores': 10525, 'barred': 1451, 'selling': 9845, 'watt': 11846, 'bulbs': 1917, 'back': 1369, '1800s': 116, 'row': 9544, 'consecutively': 2710, 'carter': 2126, 'promote': 8690, 'associated': 1249, 'press': 8559, 'nader': 7383, 'gonzalez': 5001, 'problem': 8624, 'soldiers': 10212, 'committing': 2555, 'suicide': 10660, 'congressmen': 2696, 'additional': 733, 'agents': 845, 'fifteen': 4481, 'master': 6924, 'locks': 6681, 'unionized': 11482, 'plant': 8311, 'running': 9565, 'capacity': 2073, 'reed': 9084, 'few': 4469, 'authorities': 1319, 'confirm': 2671, 'projections': 8678, 'estimate': 4125, 'overhaul': 7883, '76': 507, '940': 570, 'originally': 7803, 'claimed': 2398, 'payne': 8104, 'pallone': 7972, 'may': 6956, 'fingerprints': 4529, 'thing': 11032, 'indeed': 5741, 'brags': 1807, 'independent': 5746, 'agency': 840, 'investigate': 5964, 'shootings': 10000, 'course': 2906, 'attitude': 1287, 'sanctity': 9632, 'celebrations': 2191, 'eleven': 3911, 'yeah': 12135, 'miami': 7097, 'dade': 3074, 'educating': 3858, 'omnibus': 7727, 'earmarks': 3813, 'talking': 10831, 'tough': 11162, 'kim': 6293, 'myers': 7375, 'broome': 1874, 'relocated': 9185, 'headquarters': 5307, 'californias': 2017, 'prop': 8699, 'requirecondom': 9286, 'usein': 11577, 'films': 4508, 'film': 4506, 'riskfor': 9456, 'lawsuits': 6449, 'harassment': 5238, 'tolls': 11128, 'privilege': 8613, 'crossing': 2993, 'bridge': 1845, 'sens': 9865, 'isaksons': 6017, 'chambliss': 2248, 'estate': 4124, 'legislature': 6507, 'kay': 6227, 'bailey': 1392, 'hutchison': 5577, 'mica': 7099, 'borrow': 1761, 'opponent': 7758, 'mary': 6912, 'burke': 1943, 'reporters': 9259, 'bargained': 1444, 'run': 9563, 'anybodys': 1077, 'table': 10809, 'partisan': 8027, 'picked': 8254, 'multiple': 7341, 'regular': 9134, '1980s': 176, 'wasn': 11825, 'raging': 8895, 'populist': 8415, 'ran': 8925, 'complained': 2596, 'constitutional': 2737, 'shoved': 10018, 'waters': 11843, 'attended': 1284, 'convention': 2805, 'rising': 9454, 'flint': 4593, 'mich': 7100, 'poison': 8360, 'am': 969, 'burlington': 1945, 'vt': 11755, 'clean': 2415, 'complicated': 2606, 'comply': 2609, 'code': 2482, 'gives': 4957, 'provided': 8759, 'prayer': 8485, 'room': 9520, 'rugs': 9555, 'lets': 6540, 'pray': 8483, 'allah': 922, 'abolishing': 608, 'bulk': 1919, 'weapon': 11869, 'drug': 3757, 'gangs': 4844, 'motors': 7308, 'asking': 1221, 'salaries': 9612, 'uri': 11567, 'england': 4030, 'grant': 5065, 'institutions': 5873, 'carlos': 2105, 'curbelo': 3033, 'ability': 599, 'pollution': 8394, 'combat': 2521, 'asked': 1219, 'disclose': 3503, 'donors': 3665, 'suspicion': 10756, 'usa': 11570, 'continues': 2773, 'wonder': 12057, 'why': 11966, 'rand': 8928, 'shopping': 10003, 'billionaire': 1628, 'super': 10682, 'pac': 7936, 'cashed': 2136, 'sept': 9876, 'collecting': 2503, 'intended': 5896, 'recover': 9050, 'properties': 8704, 'affected': 802, 'newly': 7493, 'hold': 5438, 'payment': 8102, 'advisory': 791, 'mitchell': 7207, 'park': 8005, 'domes': 3645, 'youd': 12152, 'little': 6648, 'evidence': 4165, 'red': 9065, 'cameras': 2029, 'reduced': 9079, 'severity': 9918, 'accidents': 659, 'intersections': 5925, 'camden': 2026, 'graduated': 5047, '29': 294, 'delinquent': 3269, 'pastor': 8056, 'preacher': 8490, 'priest': 8585, 'rabbi': 8865, 'imam': 5628, 'sermon': 9885, 'moral': 7271, 'traditions': 11200, 'sexual': 9925, 'guilty': 5149, 'jobless': 6127, 'colleagues': 2500, 'cracked': 2927, 'attracting': 1293, 'hiring': 5413, 'gingrich': 4946, 'affirmative': 811, 'statement': 10438, 'barbaric': 1439, 'procedure': 8627, 'global': 4970, 'aids': 866, 'instability': 5856, 'recipient': 9028, 'thanks': 10977, 'nowhere': 7588, 'awarded': 1353, 'date': 3112, 'hundred': 5552, 'pupil': 8799, 'compared': 2583, '2009': 212, 'adjusting': 743, 'steadfast': 10464, 'path': 8063, 'citizenship': 2385, 'working': 12077, 'tammy': 10838, 'baldwin': 1404, 'introduced': 5947, 'doctors': 3616, 'ask': 1218, 'patients': 8068, 'lesbian': 6531, 'bisexual': 1649, 'identity': 5602, 'kristi': 6349, 'thibaut': 11030, 'acorn': 693, 'lobbyist': 6667, 'trading': 11196, 'slavery': 10128, 'girls': 4952, 'survey': 10739, 'transit': 11228, 'ridership': 9427, 'age': 837, '2001': 203, '191': 129, 'via': 11667, 'rendered': 9215, 'completely': 2602, 'null': 7595, 'void': 11730, 'june': 6186, 'hard': 5241, 'ends': 4007, 'jacobs': 6068, 'someone': 10235, 'albany': 899, 'region': 9123, 'fair': 4340, 'fact': 4323, 'reid': 9147, 'allowed': 943, 'rebecca': 9007, 'bradley': 1801, 'fails': 4337, 'diploma': 3466, 'charge': 2267, 'implement': 5655, 'exchange': 4189, 'tweet': 11364, 'tape': 10847, 'alicia': 914, 'machado': 6765, 'aphotograph': 1090, 'featured': 4415, 'leads': 6465, 'systematically': 10805, 'reciprocity': 9030, 'minnesota': 7162, 'cory': 2868, 'booker': 1743, 'late': 6420, 'opposes': 7764, 'safety': 9597, 'regulations': 9142, 'modern': 7228, 'release': 9175, 'least': 6479, 'returns': 9381, 'alone': 951, 'eu': 4138, 'exports': 4280, 'korea': 6337, 'market': 6881, 'farmers': 4373, 'providers': 8763, 'suffering': 10653, 'luxury': 6754, 'tim': 11092, 'kaine': 6207, 'ambitions': 978, 'dnc': 3608, 'chairman': 2236, 'flip': 4594, 'flopped': 4601, 'easy': 3835, 'breaks': 1827, 'jets': 6113, 'zack': 12173, 'space': 10275, 'resulted': 9354, 'formal': 4676, 'sanction': 9629, 'theres': 11019, 'investigative': 5969, 'subcommittee': 10603, 'hampshire': 5208, '95': 572, 'democraticcongressional': 3286, 'morgancarroll': 7276, 'racked': 8880, '59': 450, 'carol': 2108, 'shea': 9956, 'porter': 8423, 'creators': 2954, 'hopeless': 5493, 'somewhere': 10240, 'stay': 10460, 'delaying': 3259, 'districts': 3585, 'shave': 9954, 'weeks': 11889, 'intervene': 5929, 'libya': 6570, '97': 575, 'cleveland': 2431, '128': 57, 'ranks': 8940, '49th': 413, 'nationally': 7411, 'doing': 3633, 'keeping': 6235, 'distance': 3569, 'interviewers': 5937, 'sanders': 9635, 'indefinite': 5742, 'detention': 3386, 'sided': 10045, 'stand': 10410, 'vigilantes': 11691, 'minutemen': 7171, 'outposts': 7850, 'hunt': 5558, 'incentives': 5700, 'deutsche': 3395, 'gallup': 4833, 'egyptians': 3878, 'statistics': 10452, 'violent': 11704, 'maddox': 6772, 'campaigns': 2035, 'available': 1335, 'positions': 8438, 'preparation': 8537, 'managed': 6826, 'exxon': 4309, 'pocketed': 8352, 'aarp': 586, 'reseller': 9297, 'vested': 11657, 'reselling': 9298, 'supplemental': 10698, 'expands': 4235, 'monthly': 7264, '104': 26, '247': 270, '00': 0, 'incorporated': 5723, 'purposely': 8809, 'confuse': 2685, 'read': 8982, 'grade': 5039, 'level': 6547, 'cuyahoga': 3060, 'clinics': 2443, 'critical': 2977, 'emergency': 3949, 'zika': 12183, 'trouble': 11313, 'pet': 8203, 'sayspeter': 9693, 'kilmartin': 6292, 'statute': 10456, 'letting': 6544, 'occupy': 7658, 'protesters': 8747, 'woodruff': 12064, 'forward': 4692, 'probation': 8621, 'parole': 8012, 'enslaved': 4048, '1850': 120, 'fishers': 4559, 'watch': 11834, 'nine': 7521, 'limiting': 6617, 'contraception': 2777, 'cheaper': 2286, 'easier': 3829, 'udalls': 11389, 'defined': 3240, 'del': 3254, 'valle': 11618, 'drive': 3739, 'bastrop': 1478, 'closest': 2455, 'grocery': 5103, 'store': 10524, 'levees': 6546, 'flood': 4596, 'considers': 2724, 'pork': 8417, 'pledged': 8334, 'protect': 8736, 'too': 11137, 'warner': 11806, 'prohibiting': 8669, 'negotiating': 7458, 'prescription': 8545, 'drugs': 3758, 'provision': 8768, 'fccs': 4407, 'neutrality': 7482, 'whatis': 11925, 'essentially': 4115, 'massive': 6922, 'typical': 11380, '1973': 169, 'arms': 1188, 'treaty': 11267, 'certainly': 2218, 'registry': 9131, 'scale': 9707, 'confiscation': 2678, 'misadventures': 7178, 'firearm': 4538, 'remind': 9200, 'entry': 4071, 'verify': 11648, 'math': 6936, 'adds': 738, 'declining': 3188, 'apprehended': 1131, 'extremists': 4307, 'pakistan': 7962, 'acts': 716, 'stood': 10518, 'big': 1618, 'flying': 4623, 'performing': 8169, 'angel': 1028, 'taveras': 10864, 'maurice': 6948, 'ferre': 4458, 'kendrick': 6246, 'meek': 7025, 'democrat': 3283, 'advanced': 775, 'inmates': 5832, 'immigrant': 5634, 'dead': 3128, 'midwestern': 7116, 'walkers': 11779, 'ounce': 7823, 'soda': 10199, 'philadelphia': 8226, 'loss': 6710, 'sustaining': 10759, 'teamster': 10886, 'countless': 2895, 'beverage': 1599, 'challenge': 2240, 'suspend': 10753, 'tobacco': 11112, 'cigars': 2367, 'childrens': 2325, '69': 482, 'rise': 9451, 'corn': 2844, 'wheat': 11928, 'spike': 10319, 'sugar': 10655, 'smoking': 10170, 'ninety': 7522, 'texans': 10965, 'nursing': 7606, 'funded': 4794, 'needs': 7446, 'persons': 8197, 'unique': 11484, 'abilities': 598, 'politics': 8380, 'staffer': 10392, 'kasichs': 6217, 'committee': 2553, 'race': 8869, 'grants': 5068, 'participating': 8021, 'adopt': 765, 'condition': 2651, 'allows': 945, 'shared': 9943, 'fingerprinting': 4528, 'sought': 10254, 'hagee': 5182, 'believes': 1549, 'hurricane': 5564, 'katrina': 6225, 'god': 4985, 'punishment': 8797, 'catholic': 2160, 'church': 2359, 'antichrist': 1064, 'cult': 3025, 'filers': 4495, 'stock': 10506, 'rival': 9461, 'treasurer': 11257, 'ordered': 7780, 'founder': 4702, 'gaylord': 4875, 'nelson': 7466, 'discuss': 3523, 'unions': 11483, 'play': 8321, 'interview': 5934, 'financing': 4517, 'secondary': 9798, 'produce': 8639, 'dropouts': 3749, 'embryonic': 3946, 'stem': 10479, 'example': 4177, 'successful': 10640, 'treatment': 11264, 'dane': 3096, 'hand': 5210, 'counting': 2894, '2016': 221, 'presidential': 8555, 'ambassador': 976, 'christopher': 2352, 'stevens': 10494, 'requests': 9284, 'bringing': 1853, 'tens': 10934, 'households': 5524, 'towards': 11177, 'retire': 9365, 'friend': 4756, 'talked': 10830, 'switching': 10786, 'parties': 8026, 'nomination': 7536, 'agriculture': 858, 'usage': 11571, 'synthetic': 10798, 'instances': 5863, 'bodily': 1718, 'harm': 5252, 'death': 3147, 'risen': 9452, 'dismissed': 3544, 'incompetence': 5717, 'longest': 6693, '1929': 139, 'information': 5807, 'unseemly': 11521, 'deaths': 3149, 'accumulated': 676, 'hani': 5223, 'baragwanath': 1437, 'africa': 825, 'worlds': 12083, 'hospital': 5507, 'precipitation': 8498, 'inches': 5704, 'century': 2212, 'initially': 5821, 'yes': 12141, 'stupid': 10596, 'folks': 4628, 'corrected': 2855, 'again': 833, 'submitted': 10613, 'earliest': 3808, 'meeting': 7027, 'obligation': 7636, 'update': 11544, 'voter': 11745, 'registrations': 9130, 'address': 734, 'bmv': 1706, 'vietnamese': 11684, 'commonly': 2557, 'spoken': 10339, 'language': 6401, 'generous': 4899, 'opinion': 7754, 'transportation': 11239, 'referendum': 9090, 'thesis': 11021, 'criticized': 2981, 'plutocratic': 8348, 'thugs': 11072, 'constitution': 2736, 'shackles': 9928, 'youll': 12154, 'blacks': 1658, 'regiment': 9121, 'alongside': 954, 'southerners': 10266, 'triggering': 11292, 'microcephaly': 7107, 'dtap': 3762, 'vaccine': 11607, 'recently': 9023, 'mandated': 6835, 'brazilian': 1822, 'injected': 5825, 'pregnant': 8523, 'agree': 851, 'executive': 4206, 'legislators': 6506, 'carly': 2106, 'fiorina': 4535, 'banning': 1431, 'assault': 1230, 'baby': 1363, 'bond': 1734, 'multiplied': 7342, 'platform': 8319, 'pass': 8044, 'putting': 8824, 'cops': 2835, 'streets': 10553, 'hybrid': 5578, 'attacks': 1277, 'honor': 5480, 'repeated': 9246, 'failure': 4338, 'limit': 6612, 'payments': 8103, 'various': 11630, 'scoreboard': 9756, 'bucks': 1896, 'internment': 5921, 'camps': 2038, 'mccollum': 6970, 'holds': 5443, 'nra': 7589, 'leadership': 6463, 'pretty': 8568, 'intact': 5889, 'expanded': 4233, 'turkey': 11348, 'arab': 1150, 'reagans': 8989, '1980': 175, 'dying': 3802, 'hiv': 5427, '2004': 207, 'leffingwell': 6488, 'accuses': 680, 'contradictory': 2784, 'osama': 7813, 'bin': 1632, 'laden': 6374, '92': 565, 'assassination': 1229, 'drone': 3745, 'strikes': 10568, 'finally': 4511, 'double': 3679, '395': 358, 'pushed': 8816, 'triple': 11301, 'bunked': 1928, 'cells': 2197, 'classrooms': 2411, 'areas': 1161, 'supposed': 10710, 'designated': 3359, 'inmate': 5831, 'aclu': 692, 'call': 2018, 'newark': 7489, 'immediate': 5632, 'monitor': 7252, 'requiring': 9291, 'vaccinated': 11603, 'hpv': 5537, 'highway': 5392, 'closed': 2452, 'el': 3886, 'paso': 8043, 'bullets': 1921, 'extend': 4286, 'gains': 4827, 'competitive': 2591, 'races': 8870, 'hispanics': 5417, 'electorate': 3896, 'sic': 10042, 'nikita': 7519, 'khrushchev': 6271, 'extra': 4299, 'shoe': 9993, 'session': 9897, '1960': 158, 'banged': 1419, 'desk': 3366, 'protest': 8743, 'toilets': 11121, 'renacci': 9210, 'liebermans': 6580, 'covers': 2918, 'daily': 3075, 'expenses': 4248, 'powers': 8473, 'ceos': 2214, 'franklin': 4727, 'delano': 3255, 'roosevelt': 9522, 'track': 11189, 'deport': 3322, 'dreamers': 3730, 'apparently': 1102, 'vetting': 11666, 'conservatives': 2717, 'lawmaker': 6443, 'seeks': 9821, 'defund': 3246, 'pieces': 8260, 'ray': 8971, 'strauss': 10545, 'champion': 2249, 'reformers': 9102, '1944': 147, 'ronda': 9517, 'storms': 10529, 'taj': 10820, 'mahal': 6786, 'courthouse': 2910, 'france': 4718, 'surveillance': 10737, 'thousandfold': 11051, 'invasive': 5956, 'means': 6995, 'blue': 1696, 'chip': 2332, 'indicators': 5762, 'surveys': 10741, 'lots': 6714, 'forecasters': 4658, 'predicting': 8511, 'quarter': 8838, 'positive': 8439, 'fourth': 4707, 'overseas': 7900, 'troop': 11310, 'request': 9281, 'front': 4769, 'induced': 5772, 'charged': 2268, 'return': 9378, 'follow': 4629, 'backlog': 1374, 'view': 11686, 'pornography': 8419, 'molesting': 7240, 'ways': 11857, 'mccrory': 6972, 'adviser': 786, 'admits': 761, 'romneycare': 9513, 'blueprint': 1699, 'affecting': 803, 'ballot': 1410, 'especially': 4108, 'nytimes': 7613, 'subscribers': 10618, 'apologizing': 1095, 'bad': 1380, 'shrink': 10030, 'hurricanes': 5565, 'striking': 10569, 'bores': 1759, 'hole': 5444, 'whole': 11958, 'argument': 1172, 'capita': 2074, 'developed': 3401, 'switzerland': 10787, '175': 103, 'revenues': 9389, 'rainy': 8908, '270': 283, 'infants': 5785, 'reported': 9257, 'following': 4632, 'attempted': 1279, 'notably': 7574, 'spouse': 10355, 'everyone': 4160, 'everywhere': 4162, 'paychecks': 8097, 'pump': 8790, 'sleep': 10131, 'daylight': 3123, 'might': 7117, 'pose': 8433, 'risks': 9458, 'latina': 6424, 'craft': 2930, 'brewery': 1838, 'brewers': 1837, 'threshold': 11061, 'drunken': 3760, 'surrounding': 10734, 'offense': 7678, 'invested': 5963, 'dallas': 3083, 'los': 6706, 'angeles': 1029, 'houston': 5527, 'detroit': 3394, '760': 508, 'upset': 11556, 'carcieri': 2091, 'mrs': 7327, 'host': 5511, 'lighting': 6600, 'tree': 11269, 'heavily': 5328, 'deployed': 3320, 'demond': 3289, 'superintendent': 10686, 'gutted': 5164, 'saysvirginia': 9704, 'republicanscott': 9276, 'taylor': 10874, 'failing': 4335, 'appear': 1105, 'issued': 6046, 'arrest': 1195, 'travis': 11253, 'settled': 9907, 'mahatma': 6787, 'gandhi': 4842, 'once': 7730, 'ignore': 5610, 'laugh': 6430, 'win': 11993, 'achieved': 684, 'arrests': 1197, '46': 395, 'tons': 11136, 'narcotics': 7397, 'confiscated': 2676, 'appalled': 1099, 'learn': 6473, 'exempts': 4214, '1964': 162, 'potentially': 8459, 'delay': 3257, 'deregulation': 3345, 'telecommunications': 10912, 'standard': 10411, 'french': 4745, 'loretta': 6705, 'lynch': 6758, 'team': 10883, '1992': 189, 'whitewater': 11954, 'corruption': 2865, 'manhattan': 6842, 'rally': 8918, 'chanting': 2261, 'moving': 7320, 'claim': 2397, 'accelerated': 645, 'precedent': 8493, 'slower': 10147, 'pathway': 8066, 'deliver': 3270, 'jack': 6063, 'california': 2015, 'robust': 9491, 'outpaces': 7848, 'household': 5523, 'minute': 7170, 'gogebic': 4989, 'extended': 4287, 'richardson': 9418, 'denish': 3298, 'drivers': 3742, 'licenses': 6574, 'noncontiguous': 7543, 'central': 2209, 'gasoline': 4862, 'diesel': 3441, 'fuels': 4781, 'imported': 5666, '1949': 149, 'richard': 9416, 'burr': 1953, 'insider': 5843, 'brave': 1818, 'christian': 2345, 'vermont': 11650, 'sentenced': 9871, 'refusing': 9116, 'couple': 2902, 'colleges': 2511, 'duties': 3795, 'unarmed': 11409, 'email': 3931, 'monies': 7251, 'recouped': 9049, 'tarp': 10858, 'shall': 9937, 'treasury': 11259, 'treated': 11261, 'game': 4838, 'agent': 844, 'whose': 11964, 'client': 2433, 'haiti': 5188, 'doc': 3612, 'duvalier': 3797, 'despot': 3370, 'killing': 6289, 'hikes': 5398, 'becoming': 1518, 'economically': 3843, 'viable': 11668, 'acceptance': 648, 'gold': 4992, 'medal': 7009, 'accountability': 668, 'choice': 2334, 'ohioans': 7705, 'riding': 9431, 'passenger': 8047, 'trains': 11216, 'revealed': 9385, 'aid': 863, 'follows': 4633, 'applying': 1120, 'residency': 9308, 'users': 11580, 'waive': 11768, 'reasonable': 9000, 'privacy': 8607, 'don': 3652, 'experts': 4257, 'qaeda': 8827, 'kelly': 6241, 'ayotte': 1360, 'stands': 10416, 'lobby': 6665, 'network': 7475, 'constitutes': 2735, 'parallel': 7993, 'cranston': 2937, 'notifications': 7580, 'offender': 7676, 'battered': 1485, 'grew': 5096, 'aircraft': 874, 'range': 8932, 'bombers': 1729, 'carriers': 2116, 'submarines': 10610, 'compliance': 2604, 'wasted': 11829, 'averagein': 1340, '180': 115, 'electricians': 3899, 'plumbers': 8342, 'sheet': 9959, 'metal': 7080, 'retrofitting': 9377, 'buildings': 1914, 'independence': 5745, 'efficiency': 3870, 'exporters': 4278, 'loophole': 6700, 'deceptively': 3172, 'sell': 9842, 'products': 8650, 'cat': 2151, 'dog': 3628, 'fur': 4809, 'consumers': 2749, 'capitals': 2076, 'kb': 6228, 'toys': 11186, 'described': 3351, 'boston': 1769, 'herald': 5359, 'disgusting': 3536, 'roy': 9546, 'coopers': 2829, 'refusal': 9112, 'qatar': 8829, 'restrictions': 9349, 'included': 5711, 'periods': 8173, 'goldman': 4994, 'sachs': 9585, 'boss': 1767, 'ours': 7825, 'unilaterally': 11474, 'disarm': 3494, 'earmark': 3810, 'moratorium': 7272, 'milwaukees': 7142, 'problems': 8625, 'include': 5710, '52': 426, 'disputed': 3559, 'news': 7496, 'story': 10530, 'trimming': 11299, 'railroad': 8902, 'michael': 7101, 'williams': 11987, 'tea': 10876, 'gatherings': 4867, 'harry': 5259, 'aliens': 916, 'equal': 4082, 'rubios': 9551, 'increasing': 5729, 'citations': 2378, 'collected': 2502, 'kasim': 6218, 'veto': 11661, 'corleone': 2843, 'incumbents': 5738, 'respond': 9329, 'ricos': 9423, 'worst': 12094, 'corporations': 2852, '61': 456, 'voteand': 11742, 'carried': 2114, 'independents': 5748, 'redistricting': 9076, 'mentioned': 7060, 'mate': 6929, 'dissenter': 3567, 'inflationary': 5800, 'de': 3126, 'blasio': 1672, 'subway': 10634, 'delays': 3260, 'soared': 10187, 'delivered': 3271, 'relief': 9180, 'lamar': 6384, 'smith': 10164, 'bailout': 1393, 'standing': 10414, 'assure': 1253, 'bailouts': 1394, 'happen': 5229, 'gradinsurance': 5043, 'debacle': 3150, 'direct': 3472, 'mizzou': 7214, 'parent': 7998, 'works': 12081, 'often': 7701, 'array': 1194, 'parts': 8035, 'baltimore': 1414, 'palestine': 7966, 'distressed': 3579, 'nigeria': 7515, 'india': 5751, 'entitlement': 4065, 'etc': 4130, 'increasingly': 5730, 'opportunities': 7760, 'ocean': 7663, 'spray': 10359, 'bordentown': 1756, 'processing': 8634, 'facility': 4321, 'regional': 9124, 'greenhouse': 5087, 'initiative': 5824, 'northeastern': 7567, 'length': 6524, 'murderers': 7351, 'must': 7366, 'eligible': 3913, 'really': 8996, 'realized': 8995, 'diane': 3426, 'sandy': 9641, 'destructive': 3379, 'atlantic': 1268, 'storm': 10528, 'gwinnett': 5169, 'henry': 5357, 'counties': 2893, '339': 329, 'respectively': 9327, 'correctional': 2856, 'debate': 3151, 'limits': 6619, 'chiefs': 2318, 'ganley': 4845, 'himself': 5407, 'toomey': 11141, 'jeb': 6090, 'smoked': 10167, 'alive': 920, 'identical': 5597, 'shirts': 9990, 'bangladesh': 1420, 'suits': 10665, 'vodka': 11727, 'netherlands': 7473, 'crystal': 3014, 'barware': 1464, 'slovenia': 10143, 'cufflinks': 3024, 'ties': 11086, 'opened': 7741, 'subsidy': 10625, 'hotel': 5516, 'jumped': 6184, 'door': 3671, 'sessions': 9898, 'walmart': 11783, 'compact': 2576, 'fluorescent': 4618, 'lamp': 6387, 'cfl': 2225, 'pop': 8405, 'emails': 3932, 'tells': 10919, 'lags': 6378, 'howell': 5534, 'consistent': 2725, 'moderate': 7226, 'lever': 6549, 'mechanism': 7007, 'langevin': 6400, '716': 490, 'trans': 11218, 'partnership': 8034, 'tiny': 11102, 'doesn': 3626, 'barbara': 1438, 'boxers': 1786, 'worried': 12086, 'weather': 11874, 'entitlements': 4066, 'overwhelmingly': 7917, 'caught': 2168, 'merrick': 7073, 'garland': 4856, 'authored': 1318, 'prisoners': 8604, 'islamist': 6028, 'approval': 1140, 'ratings': 8961, '96': 574, 'bear': 1503, 'restrictive': 9350, 'fatalities': 4390, 'jfk': 6116, 'disenfranchised': 3530, 'felons': 4447, 'threatened': 11055, 'bomb': 1726, 'consult': 2743, 'released': 9176, 'except': 4185, 'jerry': 6102, 'gavin': 4873, 'newsom': 7500, 'kamala': 6209, 'harris': 5257, 'overseen': 7903, 'ed': 3851, 'gillespies': 4940, 'promoted': 8691, 'recommends': 9042, 'enforced': 4018, 'blake': 1664, 'rocap': 9492, 'stopped': 10521, 'refuses': 9115, 'jerusalem': 6107, 'israel': 6041, 'draft': 3710, 'homeownership': 5466, 'q2': 8826, '62': 460, '51yrs': 425, 'senior': 9862, 'staffing': 10394, 'ratio': 8962, 'seattle': 9792, 'wed': 11882, 'prohibited': 8668, 'recommending': 9041, '32': 315, 'spiral': 10326, 'staircase': 10400, 'turnout': 11356, 'experience': 4250, 'doesnt': 3627, 'kenya': 6256, 'gration': 5073, 'resign': 9314, 'pretrial': 8567, 'visited': 11718, 'nashville': 7404, 'names': 7392, 'initials': 5822, 'carved': 2130, 'desks': 3367, 'redistribution': 9075, 'characteristic': 2265, 'tampa': 10839, 'strip': 10572, 'club': 2464, 'reached': 8976, 'sharing': 9947, 'lt': 6739, 'casey': 2134, 'cagle': 2002, 'bicycles': 1610, 'parked': 8006, 'unsealed': 11520, 'records': 9047, 'marquette': 6889, 'constituent': 2733, 'cuba': 3016, 'venezuela': 11643, 'enemies': 4010, 'wildfires': 11981, 'linked': 6630, 'far': 4368, 'protection': 8739, 'earlier': 3807, 'depetro': 3317, 'sexually': 9926, 'assaulting': 1232, 'protests': 8748, 'crowd': 2998, 'sprawling': 10358, 'capitol': 2077, 'monument': 7266, 'supervisors': 10696, 'effort': 3872, 'noncitizens': 7541, 'rolls': 9508, 'withdraw': 12028, 'indefinitely': 5743, '278': 289, 'cantors': 2068, 'defeat': 3220, 'appointed': 1122, 'stamp': 10405, 'farm': 4371, 'turbine': 11346, 'risk': 9455, 'flicker': 4589, 'shadows': 9931, 'blades': 1662, 'turbines': 11347, 'poses': 8435, 'significant': 10061, 'particularly': 8024, 'seizures': 9834, 'clears': 2426, 'condemned': 2649, 'march': 6864, '1979': 174, 'hijacked': 5394, 'broad': 1862, 'revolution': 9398, 'shah': 9933, 'brutal': 1887, 'theocracy': 11009, 'spanish': 10279, 'tv': 11362, 'dem': 3277, 'controlled': 2797, 'process': 8631, 'objective': 7634, 'criteria': 2976, 'modify': 7233, 'draw': 3722, 'boundaries': 1779, 'economies': 3844, 'resources': 9324, 'body': 1719, 'armor': 1186, 'helicopters': 5341, 'ammunition': 998, 'barretts': 1455, 'video': 11680, 'whoomp': 11961, 'permits': 8181, 'uninterrupted': 11479, 'manufacturers': 6857, 'avg': 1344, 'franchised': 4720, 'dealer': 3136, 'autism': 1325, 'prior': 8598, 'issues': 6047, 'campaigning': 2034, 'rifle': 9432, 'omar': 7725, 'mateen': 6930, 'shoots': 10001, 'rounds': 9540, '399': 359, 'bluest': 1700, 'residential': 9310, 'handguns': 5215, 'bullhorns': 1922, 'trumpets': 11327, 'helium': 5342, 'balloons': 1409, 'flags': 4577, 'poles': 8366, 'banned': 1430, 'basketball': 1475, 'coach': 2473, 'drastically': 3721, 'floridas': 4605, 'farming': 4374, 'alcohol': 902, 'underage': 11427, 'bureaucrat': 1936, 'tell': 10916, 'scan': 9711, 'keystone': 6265, 'xl': 12129, 'pipeline': 8282, 'speech': 10307, 'advocated': 794, 'guest': 5144, '55': 438, 'participate': 8019, 'takeover': 10823, 'quite': 8859, 'present': 8547, 'percentof': 8163, 'parents': 8002, 'spankers': 10280, 'flores': 4603, 'laid': 6379, 'executives': 4207, 'owns': 7928, 'lands': 6395, 'govt': 5033, 'permission': 8179, '13th': 68, 'exceeded': 4181, 'medicine': 7020, 'hospitals': 5510, 'shortfall': 10011, 'assumption': 1252, 'continue': 2771, 'siphon': 10086, 'certain': 2217, 'falls': 4355, 'apart': 1085, 'seams': 9785, 'weekend': 11888, 'islamabad': 6025, '16s': 98, 'harbored': 5240, 'unnecessarily': 11506, 'flight': 4591, 'faa': 4313, 'bail': 1390, '177': 105, 'costly': 2874, 'knew': 6321, 'sixth': 10098, 'fines': 4525, 'asthma': 1254, 'opportunity': 7761, 'loaning': 6662, '38': 352, 'studios': 10591, 'ordinary': 7784, 'soccer': 10189, 'mens': 7055, 'legalized': 6495, 'pending': 8139, 'fewest': 4473, 'victors': 11678, 'nunn': 7601, 'handpicked': 5220, 'sununu': 10680, 'agenda': 842, 'gonna': 4999, 'cutbacks': 3054, 'write': 12114, 'lacks': 6372, 'defer': 3232, 'deportation': 3323, 'rises': 9453, 'complying': 2610, '163': 91, 'shuttle': 10041, 'museum': 7359, 'isnt': 6037, 'congressdecision': 2692, 'sequestration': 9880, '45th': 394, 'maj': 6801, 'nidal': 7514, 'hasan': 5268, 'fort': 4685, 'hood': 5483, 'advisor': 789, 'ceo': 2213, 'wwe': 12123, 'linda': 6623, 'mcmahon': 6984, 'tipping': 11104, 'ringside': 9445, 'physician': 8251, 'distributing': 3581, 'steroids': 10491, 'wrestlers': 12109, 'hezbollah': 5379, 'latin': 6423, 'imminent': 5640, 'food': 4635, 'stamps': 10407, 'magazine': 6780, 'beckhams': 1515, 'miamis': 7098, 'threatens': 11057, '207': 237, 'tied': 11084, 'cargo': 2103, 'cruise': 3003, 'industries': 5775, 'experienced': 4251, 'cronies': 2986, 'friends': 4758, 'contributed': 2789, '570': 444, 'development': 3404, 'actions': 705, 'burger': 1939, 'king': 6298, 'pulling': 8788, 'franchises': 4721, 'bases': 1468, 'deer': 3216, 'bidder': 1613, 'allies': 936, 'lined': 6627, 'rug': 9554, 'engage': 4021, 'historic': 5418, 'sean': 9786, 'duffy': 3775, 'ribble': 9411, 'town': 11180, 'hall': 5194, 'meetings': 7028, 'constituents': 2734, 'injecting': 5826, 'controversial': 2801, 'consent': 2711, 'idea': 5595, 'pride': 8583, 'turn': 11350, 'night': 7516, 'iowa': 5988, 'caucuses': 2167, 'focused': 4625, 'containment': 2758, 'rubber': 9549, 'stamped': 10406, 'phony': 8238, 'horse': 5503, 'racing': 8875, 'key': 6263, 'leonard': 6528, 'lance': 6388, 'smart': 10156, 'parks': 8010, 'launch': 6433, 'curbside': 3036, 'recycling': 9064, 'secondgeorge': 9799, 'served': 9890, 'theu': 11022, 'fewer': 4470, 'caseload': 2132, 'detainees': 3385, 'h1n1': 5172, '77': 512, 'startedthe': 10427, 'birther': 1645, 'controversy': 2802, 'equivalent': 4089, 'fuel': 4779, 'barrow': 1459, 'ga': 4819, 'celebrates': 2190, 'ownership': 7926, 'face': 4314, 'schoolchildren': 9736, 'justify': 6200, 'automobile': 1332, 'racking': 8881, 'anti': 1062, 'litigation': 6646, 'important': 5664, 'factors': 4327, 'expansion': 4236, 'pasco': 8041, 'confirms': 2675, 'injuries': 5828, 'assistance': 1243, 'nutrition': 7609, 'outcomes': 7833, 'enacted': 3980, 'drastic': 3720, 'misconduct': 7182, 'disgrace': 3533, 'embarrassment': 3937, 'grandfather': 5058, 'arrived': 1198, 'rejecting': 9164, 'insure': 5883, 'filling': 4505, 'finding': 4520, 'fidel': 4476, 'castro': 2149, 'preferences': 8518, 'unkind': 11493, 'beverly': 1600, 'significantly': 10062, 'reading': 8985, 'employment': 3969, 'proposes': 8717, 'rolling': 9507, 'clock': 2450, 'womens': 12055, '34th': 334, 'sayspresident': 9694, 'commission': 2544, 'unelected': 11453, 'bureaucrats': 1937, 'incl': 5709, 'altogether': 964, 'sending': 9859, 'official': 7691, 'thank': 10975, 'yous': 12161, 'similar': 10070, 'indianas': 5753, 'religious': 9183, 'freedom': 4737, 'restoration': 9341, 'affords': 818, 'burkes': 1944, '130': 61, '186': 121, '740': 501, '050': 11, '140': 70, 'visits': 11722, 'prenatal': 8534, 'imprisoning': 5677, 'sentences': 9872, 'crossed': 2992, 'exceeds': 4183, 'nose': 7572, 'dive': 3589, '523': 428, 'declared': 3182, 'earns': 3821, 'qualify': 8835, 'healthy': 5313, 'curry': 3046, '911': 564, 'wait': 11765, 'tallahassee': 10834, 'didn': 3435, 'milk': 7129, 'elementary': 3905, 'snack': 10172, 'tearing': 10890, 'foot': 4641, 'jeff': 6092, 'weems': 11890, 'defending': 3228, 'bp': 1795, 'enron': 4047, 'plummet': 8343, 'carolina': 2109, 'thom': 11041, 'tillis': 11091, 'wealthy': 11868, '1962': 161, 'prayed': 8484, 'bible': 1607, 'principal': 8592, 'sewer': 9920, 'set': 9900, 'aside': 1217, 'exclusively': 4200, 'aspirin': 1226, 'medication': 7018, 'secretly': 9804, 'adults': 773, 'ages': 846, 'torture': 11153, 'cartels': 2125, 'rebates': 9006, 'smuggled': 10171, 'danny': 3101, 'tarkanian': 10857, 'frated': 4729, 'missile': 7194, 'shield': 9979, 'russia': 9576, 'kagen': 6206, 'georgias': 4913, 'price': 8580, 'voucher': 11750, 'forty': 4689, 'newest': 7492, 'unconstitutionally': 11422, 'professionals': 8652, 'violate': 11695, 'hipaa': 5410, 'submit': 10612, 'justification': 6198, 'huckabee': 5539, 'groomers': 5104, 'happens': 5232, 'areon': 1168, 'status': 10455, 'caucus': 2166, 'esd': 4107, 'pathologists': 8065, 'instructors': 5879, 'classroom': 2410, 'traffic': 11201, 'towers': 11179, 'located': 6672, 'apple': 1112, 'currently': 3044, 'intel': 5892, 'crimea': 2965, 'ukraine': 11393, '1954': 154, 'gesture': 4920, 'mystified': 7380, 'fiduciary': 4477, 'responsibility': 9335, 'circulating': 2372, 'coins': 2492, 'catherine': 2159, 'cortez': 2866, 'masto': 6926, 'sweetheart': 10776, 'worth': 12095, 'firm': 4548, 'head': 5301, 'pled': 8332, 'amounts': 1006, 'systematic': 10804, 'fraud': 4730, 'fine': 4522, 'restricts': 9351, 'salt': 9620, 'revolutionary': 9399, 'guy': 5166, 'blown': 1695, 'nclaw': 7429, 'camera': 2028, 'footage': 4642, 'secret': 9801, 'filmed': 4507, '562': 442, '164': 93, 'bobby': 1713, 'assassinated': 1228, 'redfish': 9071, 'fishing': 4560, 'kathie': 6219, 'tovo': 11174, 'invests': 5974, 'paramedics': 7994, 'neighborhoods': 7462, 'fined': 4523, 'entirety': 4062, 'canada': 2042, 'reserves': 9302, 'accuracy': 677, 'barnes': 1447, 'proclaimed': 8637, 'anymore': 1078, 'insured': 5884, 'pick': 8253, 'uncompensated': 11420, 'males15': 6816, 'murder': 7349, 'traveled': 11248, 'advocating': 796, 'fairtax': 4345, '47th': 404, 'deborah': 3156, 'ross': 9530, 'ransom': 8941, 'hostages': 5513, 'heroin': 5368, 'addiction': 729, 'opioid': 7756, 'abuse': 633, 'named': 7389, 'toraise': 11149, 'trumps': 11328, 'chapters': 2263, 'aborted': 611, 'fetuses': 4468, 'baucus': 1493, 'deducted': 3201, 'max': 6951, '21st': 249, 'van': 11625, 'wanggaard': 11788, 'drawn': 3726, 'falks': 4350, 'islands': 6032, 'identification': 5599, 'greene': 5085, 'statewide': 10444, '192': 136, 'alison': 918, 'lundergan': 6748, 'grimes': 5100, 'saudis': 9660, 'handel': 5212, 'endorsed': 3999, 'adoption': 768, '2003': 205, 'chairwoman': 2239, 'fulton': 4786, 'wendy': 11906, 'davis': 3120, 'iranian': 6000, 'rouhani': 9537, 'belongs': 1554, 'nonnegotiable': 7548, 'virginias': 11709, 'shedding': 9957, 'fighters': 4487, 'coming': 2533, 'dozens': 3708, 'carrier': 2115, 'indiana': 5752, 'staying': 10462, 'fifty': 4484, 'zip': 12186, 'nada': 7382, 'cantor': 2067, 'subject': 10606, 'teams': 10885, 'offensive': 7680, 'side': 10044, 'meaning': 6992, 'patriotic': 8073, 'sitting': 10092, 'sheets': 9960, 'physicians': 8252, 'cecile': 2186, 'richards': 9417, 'concede': 2626, 'parenthoods': 8001, 'tourism': 11168, 'advertising': 783, 'citizen': 2383, 'fisher': 4558, 'popularity': 8410, 'debut': 3162, 'cardson': 2095, 'netflix': 7472, 'allowable': 941, 'unionization': 11481, 'overall': 7871, '105': 27, 'redirect': 9072, 'modes': 7230, 'twitter': 11372, 'followers': 4631, '830': 539, 'sculpture': 9778, 'garden': 4853, 'expressed': 4284, 'strong': 10575, 'balanced': 1401, '1798': 112, 'univision': 11491, 'rescind': 9292, 'pasch': 8040, 'scamming': 9710, 'shares': 9944, 'investigators': 5970, 'tenth': 10936, 'frankly': 4728, 'sue': 10649, 'implied': 5661, 'portion': 8425, 'compensation': 2587, 'directed': 3473, 'bruce': 1884, 'braley': 1811, '79': 522, 'nascar': 7402, 'abraham': 618, 'danced': 3094, 'chamber': 2246, 'medicares': 7017, 'pointed': 8357, 'kills': 6291, 'ebay': 3838, 'whitman': 11955, 'separate': 9875, 'sells': 9846, 'porn': 8418, 'phillys': 8232, 'handling': 5218, 'citys': 2389, 'looming': 6699, 'slashing': 10123, 'predecessors': 8507, '10th': 34, 'campaigned': 2033, 'zell': 12179, 'miller': 7135, 'againhats': 834, 'changing': 2259, 'governing': 5025, 'judicial': 6173, 'conflicts': 2680, 'barrier': 1456, 'innovation': 5835, 'dropout': 3748, 'inner': 5833, 'stops': 10523, 'whatever': 11924, 'cheated': 2288, 'deadbeat': 3129, 'association': 1250, 'leaders': 6462, 'freed': 4736, 'slaves': 10129, 'ku': 6351, 'klux': 6319, 'klan': 6315, 'evict': 4164, 'tenant': 10925, 'hometown': 5469, 'paint': 7959, 'creek': 2960, 'uber': 11387, 'ride': 9425, 'firms': 4549, 'unborn': 11413, 'emerged': 3948, 'slashed': 10122, 'invest': 5962, 'eyes': 4312, 'perfect': 8165, 'conversation': 2808, 'substance': 10626, 'jerseycomeback': 6105, 'keeps': 6236, 'govchristie': 5023, 'nj': 7526, 'attempt': 1278, 'try': 11336, 'compare': 2582, 'intellectually': 5893, 'dishonest': 3537, 'passage': 8045, 'aquarium': 1148, 'clearwater': 2427, 'future': 4815, '44th': 388, 'expensive': 4249, 'everything': 4161, 'trail': 11208, 'factually': 4330, 'accurate': 678, 'honduran': 5475, 'husband': 5570, 'thedollar': 10996, 'charitable': 2271, 'causes': 2172, 'las': 6414, 'vegas': 11637, 'conventions': 2807, 'boehner': 1720, 'returning': 9380, 'wrecked': 12108, 'commercial': 2542, 'multi': 7337, 'debbie': 3154, 'wasserman': 11827, 'schultz': 9740, 'terminally': 10941, 'ill': 5615, 'seat': 9790, 'equality': 4084, 'deadly': 3132, 'sins': 10085, 'whelan': 11933, '1990s': 187, '1920s': 137, 'analysis': 1012, 'youthpass': 12163, 'agencys': 841, 'yours': 12160, '40th': 370, 'anniversary': 1045, 'electing': 3891, '1972': 168, 'browns': 1882, 'slapped': 10120, 'sunday': 10672, 'mornings': 7279, 'usually': 11585, 'mayors': 6961, 'delta': 3276, 'animal': 1038, 'karen': 6215, 'negative': 7450, 'holder': 5439, 'involved': 5983, 'dismissal': 3543, 'charges': 2269, 'panther': 7984, 'intimidation': 5942, 'reaching': 8978, 'richmond': 9420, 'vans': 11627, 'owes': 7921, 'amenities': 985, 'gorgonzola': 5015, 'cheese': 2299, 'trips': 11307, 'glad': 4960, 'wording': 12069, 'clearly': 2425, 'exonerates': 4228, 'retirees': 9368, 'inversions': 5961, 'journalsurprisingly': 6162, 'stefani': 10476, 'contributors': 2795, 'margarita': 6870, 'machines': 6767, 'field': 4478, 'seconds': 9800, 'takes': 10825, 'text': 10967, 'wouldve': 12100, 'multimillion': 7338, 'bonus': 1739, 'packages': 7943, 'grab': 5035, 'unaccounted': 11406, 'accommodation': 662, 'shooter': 9996, 'grow': 5119, 'beard': 1504, 'reasons': 9003, 'jerseys': 6106, 'enrollees': 4044, 'matching': 6928, 'simply': 10073, 'onto': 7738, 'watered': 11840, 'sanctions': 9631, 'river': 9464, 'downstream': 3701, 'rice': 9414, 'equaled': 4083, 'austins': 1314, 'photographic': 8244, 'acres': 698, 'braves': 1820, 'produced': 8640, 'splost': 10336, 'recreation': 9055, 'enters': 4058, 'kindergarten': 6295, 'dental': 3302, 'ken': 6245, 'wishing': 12025, 'paycheck': 8096, 'fairness': 4344, 'sign': 10054, 'recall': 9015, 'petition': 8210, 'signature': 10055, 'counts': 2899, '176': 104, 'rebuild': 9012, 'proves': 8757, 'absurd': 631, 'establish': 4117, 'link': 6629, 'playing': 8327, 'chronic': 2353, 'traumatic': 11246, 'encephalopathy': 3983, 'wives': 12042, 'hijackers': 5395, 'happening': 5231, 'husbands': 5571, 'television': 10915, 'planes': 8304, 'jill': 6120, 'mccabe': 6966, 'profitable': 8659, 'pursue': 8811, 'dreams': 3731, 'passions': 8051, 'prank': 8482, 'blogger': 1688, 'posing': 8436, 'contributor': 2794, 'koch': 6333, 'publicly': 8780, 'photographs': 8245, 'earpiece': 3822, 'sympathized': 10792, 'wouldnt': 12099, 'guess': 5142, 'sterilizations': 10487, 'roland': 9503, 'burris': 1954, 'refunds': 9111, 'october': 7667, 'silent': 10067, 'feels': 4434, 'honoring': 5482, 'farrakhan': 4378, 'spoke': 10338, 'looked': 6696, 'audience': 1300, 'eye': 4311, 'deporting': 3328, 'edwards': 3865, 'trippi': 11306, 'professors': 8653, 'mris': 7326, 'forth': 4686, 'extensively': 4292, '58': 446, 'fox': 4709, '9874': 580, 'json': 6164, 'gillespie': 4939, 'strategist': 10541, '3072': 305, 'true': 11322, 'fly': 4622, '146': 77, 'transparency': 11236, 'newsmax': 7499, 'mail': 6793, 'solicitation': 10215, '2436': 268, 'repeating': 9248, '3rd': 362, 'cites': 2380, '9721': 577, 'advised': 785, 'barrel': 1452, 'trigger': 11291, 'ad': 722, '3627': 344, 'renuart': 9230, 'representative': 9264, 'comments': 2539, '11900': 46, 'pbs': 8110, '4611': 398, 'almond': 949, 'dmv': 3606, 'license': 6572, 'quiroa': 8857, 'prresident': 8772, 'alliance': 934, 'newsmaker': 7498, '3168': 312, 'census': 2203, 'gorman': 5017, 'islanders': 6031, 'radio': 8890, '6832': 480, 'guaranteeing': 5131, 'wayne': 11856, 'powell': 8469, 'lawyer': 6451, '5893': 449, 'froze': 4772, 'jamie': 6074, 'radtke': 8892, '3304': 324, 'legislator': 6505, 'fitzgerald': 4564, 'incoming': 5716, 'channel': 2260, '1638': 92, 'improve': 5682, 'chances': 2255, 'herserverof': 5371, 'jon': 6148, 'runyan': 9568, 'redefine': 9066, 'cruz': 3008, 'mathematically': 6938, 'protestant': 8744, 'eighty': 3882, 'antibiotics': 1063, 'fed': 4421, 'livestock': 6652, 'stockman': 10507, 'zones': 12191, 'expenditures': 4246, 'tries': 11289, 'undermine': 11436, 'irans': 6002, 'defend': 3224, 'scotts': 9761, 'purge': 8806, 'russians': 9578, 'crop': 2988, 'ethanol': 4131, 'poultry': 8462, '1913': 131, 'tonight': 11135, 'unopposed': 11508, 'santorum': 9648, 'interstate': 5927, 'roads': 9472, 'bridges': 1847, 'cotton': 2876, 'arkansan': 1180, 'navy': 7423, 'sailed': 9605, 'ships': 9987, 'accident': 656, 'luis': 6743, 'gutierrez': 5162, 'touring': 11167, 'joined': 6140, 'hip': 5409, 'fashion': 4381, 'refugee': 9106, 'processed': 8632, 'secured': 9811, 'grand': 5055, '116': 44, '838': 541, '763': 510, 'mahoning': 6791, 'valley': 11619, '095': 20, 'fy2010': 4818, 'enact': 3979, 'faced': 4316, '777': 516, 'gecker': 4880, 'vehicle': 11640, 'chesterfield': 2308, 'duke': 3780, '85': 545, 'organizations': 7794, 'joni': 6152, 'ernst': 4096, 'birthers': 1646, 'obtained': 7647, 'copy': 2836, 'kenyan': 6257, 'certificate': 2219, 'unlocking': 11503, 'canadian': 2043, 'tar': 10851, 'sands': 9638, 'licensed': 6573, 'dealers': 3137, 'mcdonalds': 6973, 'pittsburgh': 8292, 'steelers': 10472, 'snow': 10181, 'owners': 7925, 'safe': 9593, 'marathon': 6862, 'bombing': 1730, 'fifth': 4482, 'examined': 4175, 'felt': 4449, 'hoping': 5495, 'crash': 2939, 'contain': 2755, 'kenosha': 6252, 'casino': 2139, 'tribe': 11283, 'howard': 5533, 'metzenbaum': 7092, 'robert': 9483, 'taft': 10814, '1976': 171, 'presurge': 8566, 'basra': 1476, 'mosul': 7296, 'sadr': 9592, 'quiet': 8850, 'setbacks': 9901, 'wastewater': 11832, 'quality': 8836, 'puts': 8822, 'pentagon': 8151, 'martial': 6904, 'faith': 4346, 'cobb': 2479, 'systems': 10807, 'migration': 7119, 'belly': 1551, 'shocking': 9992, 'older': 7715, 'bigger': 1619, 'kosovo': 6341, 'kept': 6259, 'anyway': 1082, 'ultimately': 11396, 'golf': 4995, 'courses': 2907, 'travel': 11247, 'undercover': 11428, 'nurse': 7604, 'memorial': 7046, 'ceremony': 2216, 'pentagons': 8152, 'discount': 3509, 'drawdowns': 3724, 'dangerous': 3098, 'atf': 1261, 'recovered': 9051, 'traced': 11187, 'cartel': 2124, 'originated': 7805, 'broward': 1879, 'fireworks': 4546, 'safer': 9595, 'womans': 12053, 'choose': 2336, 'bonds': 1738, 'northeast': 7566, 'quick': 8847, 'identify': 5601, 'desirable': 3363, 'elllis': 3922, 'neenah': 7448, 'broke': 1868, 'abandoned': 588, 'ensure': 4049, 'quickly': 8849, 'warmer': 11800, 'mars': 6894, 'polar': 8365, 'vortex': 11740, 'caliber': 2013, 'woman': 12051, 'possibly': 8443, 'unrest': 11518, 'invasion': 5955, 'mormon': 7277, 'obey': 7632, 'obedience': 7629, 'bruun': 1888, 'commerce': 2540, 'eliminating': 3917, 'prepared': 8538, 'careers': 2099, 'cross': 2990, 'outfitted': 7837, 'decor': 3189, 'rare': 8948, 'examples': 4178, '41st': 372, 'depend': 3311, 'fec': 4419, 'detailed': 3381, 'hollen': 5448, 'kratz': 6345, 'sexting': 9924, 'leant': 6472, 'disavow': 3499, 'regulation': 9140, 'jan': 6076, 'regulates': 9138, 'dust': 3794, 'answered': 1057, 'question': 8841, 'cemetery': 2199, 'preventing': 8574, 'prayers': 8486, 'funerals': 4802, 'martha': 6902, 'kanter': 6213, 'dispatched': 3549, 'corvallis': 2867, 'craig': 2932, 'robinsons': 9487, 'condoleezza': 2655, 'answer': 1056, 'affiliation': 809, 'display': 3552, 'lobbied': 6664, 'mirrored': 7176, 'burden': 1930, 'strongly': 10578, 'disagree': 3485, 'permanently': 8178, 'bargaining': 1445, 'author': 1317, 'principles': 8595, 'postsaid': 8452, 'thatcaptured': 10981, 'essence': 4114, '6th': 485, 'committees': 2554, 'equip': 4086, 'rebel': 9008, 'unilateral': 11473, 'elect': 3889, 'pocketing': 8353, 'destroy': 3374, 'mitch': 7206, 'mcconnell': 6971, 'knocks': 6325, 'tariffs': 10856, 'goods': 5006, 'cover': 2914, 'tommy': 11131, 'implant': 5653, 'chips': 2333, 'humans': 5549, 'granite': 5064, 'staters': 10440, 'anthem': 1059, 'renew': 9222, 'manufacturer': 6856, 'thatd': 10983, '2017': 222, 'funneling': 4806, 'represent': 9262, 'recipients': 9029, 'gardner': 4855, 'championed': 2250, 'crusade': 3005, 'outlaw': 7839, 'practice': 8477, 'birthright': 1647, 'brothers': 1877, 'soar': 10186, 'cassidy': 2142, 'chai': 2232, 'distributed': 3580, 'aidsdrugs': 867, 'sub': 10602, 'saharan': 9598, 'study': 10592, 'defendants': 3225, 'skipping': 10111, 'appearances': 1107, 'steadily': 10465, 'connecticut': 2699, 'decent': 3170, 'solved': 10224, 'scientists': 9748, 'fare': 4369, 'internal': 5916, 'enforce': 4017, 'shore': 10005, 'particular': 8023, 'insecure': 5838, 'critics': 2983, 'original': 7802, 'gi': 4928, 'earners': 3817, 'trafficking': 11203, 'socialized': 10194, 'endorse': 3998, 'calendar': 2012, 'dime': 3456, 'human': 5546, 'task': 10860, 'pwned': 8825, 'dominates': 3649, 'youtube': 12165, 'papers': 7989, 'rigells': 9436, 'weaken': 11860, 'regulatory': 9144, 'finance': 4512, 'nominees': 7539, 'impossible': 5673, 'anglo': 1033, 'outlawed': 7840, 'plain': 8300, 'simple': 10072, 'cancer': 2051, 'screenings': 9773, 'alternatives': 962, 'regard': 9117, 'providing': 8765, 'liked': 6604, 'madison': 6776, 'flaw': 4581, '1995': 192, 'outer': 7836, 'continental': 2768, 'shelf': 9965, 'deep': 3210, 'royalty': 9548, 'royalties': 9547, 'katko': 6224, 'clippers': 2448, 'sterling': 10489, 'assistant': 1244, 'johnkasichs': 6134, 'oh': 7703, 'firefighter': 4541, 'wife': 11976, 'foremost': 4665, 'ebola': 3839, 'sequester': 9879, 'randy': 8930, 'hopper': 5496, 'fond': 4634, 'du': 3763, 'lac': 6370, 'testing': 10962, 'consume': 2746, 'subsidies': 10622, 'giveways': 4958, 'slowed': 10146, 'pursuing': 8813, 'sources': 10261, 'katie': 6223, 'mcgintyactually': 6978, 'bureau': 1934, 'attributed': 1294, 'sharp': 9949, 'understand': 11442, 'signs': 10064, 'english': 4031, 'sees': 9826, 'obese': 7630, '26': 278, 'auditing': 1303, 'ratifies': 8958, 'pain': 7956, 'clinic': 2442, 'religion': 9182, 'replaced': 9250, 'voluntarily': 11735, 'territorial': 10947, 'integrity': 5891, 'considered': 2722, 'clerks': 2430, 'couples': 2903, 'officially': 7693, 'emissions': 3952, 'freshman': 4751, 'elective': 3894, 'endlessly': 3997, 'waterboarding': 11839, 'happened': 5230, 'serve': 9889, 'exception': 4186, 'maine': 6796, 'covering': 2917, 'circumstances': 2376, 'mother': 7298, 'herself': 5370, 'julia': 6177, 'preventive': 8576, 'backed': 1371, '1989': 185, 'populations': 8414, 'ranking': 8938, 'slavesfreedom': 10130, 'bunch': 1927, 'korean': 6339, 'aba': 587, 'cent': 2204, 'paper': 7987, 'bags': 1388, 'll': 6655, 'summit': 10669, 'regressive': 9132, 'structure': 10582, 'controls': 2800, 'refuse': 9113, 'criminals': 2969, 'wentworth': 11909, 'sonogram': 10244, 'stephen': 10484, 'zappala': 12176, 'da': 3069, 'convict': 2814, 'homicide': 5470, 'borrows': 1765, 'clayton': 2414, 'operating': 7748, 'millage': 7133, 'metro': 7087, 'oversaw': 7899, 'bonuses': 1740, 'educated': 3857, 'repealed': 9242, 'discriminated': 3518, 'gravy': 5076, 'lawyers': 6452, 'involving': 5986, 'plummeted': 8344, 'remember': 9199, '195': 150, 'contractors': 2782, 'tap': 10846, 'devils': 3410, 'managing': 6831, 'vanderbeek': 11626, 'arbitration': 1153, 'judge': 6168, 'tennessee': 10932, 'frivolous': 4765, 'shortfalls': 10012, 'imbalance': 5629, '358': 340, 'filings': 4500, 'subpoenaed': 10616, '1982': 178, '439': 381, 'courage': 2904, 'recovery': 9054, 'tips': 11105, 'dunkin': 3788, 'donuts': 3669, 'demographic': 3288, 'payer': 8099, 'loses': 6708, 'collects': 2509, 'merit': 7070, 'reward': 9402, 'corzine': 2869, 'smartest': 10157, 'illegals': 5618, 'skyrocketing': 10118, 'bracket': 1798, 'worrying': 12089, 'bullying': 1925, 'targeting': 10854, 'color': 2513, 'muslimsand': 7365, 'blocking': 1685, 'unprecedented': 11512, 'vacancy': 11597, 'principally': 8593, 'plot': 8335, 'lois': 6688, 'lerner': 6530, 'nonprofit': 7550, 'patriots': 8075, 'fundraiser': 4798, 'featuring': 4417, 'registering': 9128, 'un': 11401, 'dozen': 3706, 'uniforms': 11472, '2002': 204, 'winter': 12010, 'olympic': 7721, 'games': 4840, 'burma': 1946, 'stroke': 10574, 'pen': 8133, 'denied': 3296, 'supportive': 10708, 'schrader': 9739, 'explain': 4259, 'supplies': 10700, 'cnn': 2469, 'showing': 10025, 'casualties': 2150, 'necessary': 7438, 'texting': 10970, 'damon': 3092, 'corporation': 2851, 'defrauding': 3245, 'kennedys': 6248, 'ammo': 996, 'hunting': 5560, 'vitro': 11724, 'fertilization': 4461, 'purchasing': 8804, 'written': 12117, 'dee': 3206, 'dragged': 3712, 'abused': 634, 'tennessees': 10933, 'postsecondary': 8453, '275': 287, 'rooms': 9521, 'drilled': 3734, 'restore': 9342, 'inherited': 5818, '236': 262, 'ended': 3993, 'repair': 9235, 'houses': 5525, 'acted': 702, '525': 430, 'lanes': 6399, 'dedicated': 3199, 'sauced': 9658, 'analysts': 1013, 'rack': 8879, 'overdosing': 7880, 'accidental': 657, 'killer': 6287, 'commonwealth': 2559, 'toledo': 11125, 'bell': 1550, 'earnings': 3819, 'panhandle': 7982, 'bed': 1519, 'collections': 2506, 'carries': 2117, 'evening': 4148, 'commuters': 2572, 'traveling': 11250, 'downtown': 3702, 'sunset': 10676, 'banfield': 1418, 'freeways': 4743, 'vice': 11670, 'kirk': 6303, 'lied': 6582, 'unemployments': 11456, 'des': 3348, 'moines': 7237, 'register': 9126, 'aug': 1306, 'deprive': 3335, 'underprivileged': 11440, 'meat': 7004, 'protein': 8742, 'lunch': 6746, 'depriving': 3337, 'thwart': 11077, 'direction': 3475, 'detainee': 3384, 'incident': 5706, 'superior': 10688, 'festival': 4464, 'yulin': 12169, 'retirements': 9370, 'horrendous': 5499, 'verona': 11652, 'swanigan': 10763, 'prosecutor': 8726, 'sentencing': 9873, 'consumption': 2752, 'opposite': 7766, '30s': 306, 'earthquake': 3825, 'youngstown': 12157, 'step': 10482, 'walk': 11776, 'nixon': 7525, 'turns': 11359, 'ducks': 3770, 'garbage': 4851, 'allan': 923, 'fung': 4803, 'drafted': 3711, 'structural': 10580, 'raided': 8898, 'administrative': 753, 'donate': 3655, 'web': 11876, 'site': 10089, 'pour': 8465, '650': 469, 'atwaters': 1298, 'busy': 1974, 'helping': 5350, 'wasting': 11833, '48': 405, 'lavish': 6440, 'dubbed': 3765, 'musuem': 7367, '110': 36, 'predicted': 8510, 'employer': 3967, 'nationsbank': 7414, 'mental': 7057, 'comeys': 2530, 'developments': 3406, 'bloomberg': 1692, 'jared': 6084, 'loughner': 6720, 'identified': 5600, 'mentally': 7058, 'zippo': 12187, 'represented': 9266, 'antonio': 1071, 'rooted': 9523, 'employed': 3963, 'trillions': 11295, 'habits': 5176, 'collection': 2505, 'patriot': 8072, 'secure': 9810, '287': 293, 'recklessly': 9032, 'susan': 10748, 'conceded': 2627, 'uranium': 11561, 'enrichment': 4040, 'capability': 2071, 'restrict': 9346, 'location': 6674, 'pot': 8455, 'passes': 8049, 'expect': 4238, 'seedy': 9817, 'elements': 3906, 'childs': 2326, 'stanley': 10418, 'mcchrystal': 6969, 'fix': 4568, 'imposes': 5670, 'espionage': 4109, 'edward': 3864, 'snowden': 10182, 'justified': 6199, 'disclosing': 3505, 'whistleblower': 11948, 'cannabis': 2060, 'reardon': 8998, 'music': 7361, 'art': 1202, 'instruction': 5875, 'teaching': 10881, 'volleyball': 11732, 'cap': 2069, 'promise': 8686, 'witness': 12039, 'reauthorization': 9004, 'export': 4276, 'mcdonnells': 6975, 'ads': 770, 'frame': 4714, 'salmonella': 9619, 'fda': 4408, 'peanut': 8119, 'quonset': 8861, '550': 439, 'cervical': 2224, 'screening': 9771, 'hedge': 5333, 'managers': 6829, 'parma': 8011, 'woonsocket': 12067, 'burning': 1949, 'fueled': 4780, 'minions': 7159, 'nestle': 7469, 'precious': 8497, 'fresh': 4749, 'ranked': 8937, 'forbes': 4649, 'ahead': 861, 'magic': 6784, 'marketplaces': 6883, 'inadequate': 5692, 'secede': 9795, 'suffered': 10652, 'zone': 12190, 'downs': 3698, 'considering': 2723, 'references': 9089, 'textbooks': 10969, 'israeli': 6043, 'relations': 9169, 'cooperation': 2828, 'malawi': 6811, 'hewlett': 5377, 'packard': 7945, 'carereform': 2101, 'nebraska': 7435, 'wrap': 12105, 'productive': 8648, 'taps': 10850, 'pants': 7986, 'moon': 7267, 'lax': 6453, '244': 269, 'followed': 4630, 'erased': 4092, 'electronic': 3902, 'communications': 2562, 'floundering': 4609, 'crushing': 3007, 'mammograms': 6822, 'refers': 9094, 'mammography': 6823, 'middlewoman': 7112, 'ice': 5589, 'releases': 9177, 'honduras': 5476, 'somalia': 10231, 'births': 1648, 'pacemaker': 7938, 'accomplishments': 665, 'basis': 1474, 'lifted': 6596, 'highs': 5391, 'instance': 5862, 'groundwater': 5113, 'damaged': 3086, 'hydraulic': 5581, 'fracking': 4711, 'sacs': 9589, 'midterm': 7114, 'review': 9393, '352': 337, 'reids': 9148, 'awaiting': 1351, 'gaming': 4841, 'occasion': 7650, 'boon': 1747, 'forest': 4667, 'planted': 8313, 'trees': 11270, 'bowl': 1783, 'unknown': 11494, 'begich': 1531, 'deciding': 3176, 'exist': 4220, 'brother': 1875, 'recovering': 9053, 'drunk': 3759, 'violatedfederal': 11697, 'scuba': 9777, 'diving': 3600, 'tested': 10957, 'input': 5836, 'locations': 6675, 'nor': 7555, 'forcing': 4655, 'ultrasounds': 11398, 'cool': 2823, 'mosque': 7288, 'cultural': 3026, 'severe': 9915, 'reactions': 8980, 'mild': 7122, 'somebody': 10233, 'intensive': 5898, 'unit': 11485, 'odds': 7670, 'monopoly': 7257, 'millionaire': 7137, 'instant': 5864, 'downgrades': 3695, 'devote': 3412, 'lent': 6527, 'brazil': 1821, 'explore': 4270, 'automatic': 1330, 'rifles': 9433, 'weaspons': 11873, 'islam': 6024, 'elimination': 3918, 'pacur': 7951, 'plastics': 8316, 'hegar': 5335, 'sit': 10088, 'squad': 10370, 'sometimes': 10239, 'shift': 9980, 'proposing': 8718, 'basic': 1471, 'overdraft': 7881, 'fedex': 4427, 'abrahamlincoln': 619, 'emancipation': 3934, 'proclamation': 8638, 'slaveholders': 10127, 'cold': 2495, 'blood': 1691, 'leaves': 6481, 'alderman': 904, 'polite': 8375, 'penalty': 8136, 'steam': 10470, 'vacation': 11600, 'repay': 9238, 'sponsoring': 10344, 'sometime': 10238, 'anglos': 1034, 'ten': 10924, 'millennials': 7134, 'provisional': 8769, 'ballots': 1411, 'disqualified': 3561, 'duly': 3781, 'adams': 724, 'spark': 10283, 'solvency': 10225, 'segment': 9827, 'beer': 1526, 'hourproposal': 5520, 'aggressive': 848, 'healthier': 5312, 'rural': 9569, 'illiterate': 5621, 'morocco': 7281, 'peters': 8207, 'fences': 4453, 'berlin': 1580, 'septic': 9878, 'inspections': 5852, 'tank': 10841, 'multnomah': 7345, 'busiest': 1965, 'ssdi': 10377, 'ssi': 10378, 'disabled': 3482, 'count': 2887, 'centerpiece': 2207, 'slots': 10141, 'outsourcing': 7858, 'outside': 7854, 'comedians': 2526, 'tour': 11166, 'collect': 2501, 'connection': 2702, 'stringent': 10571, 'petitions': 8211, 'holperin': 5453, 'harassing': 5237, 'telemarketers': 10914, 'claiming': 2399, 'insinuating': 5846, 'foul': 4697, 'circulators': 2373, 'payingjust': 8101, 'whenever': 11935, 'axelrod': 1357, 'renee': 9218, 'ellmers': 3923, 'switched': 10785, 'appoint': 1121, 'czars': 3067, 'replace': 9249, 'reopen': 9231, 'rewarded': 9403, 'shipping': 9986, 'myth': 7381, 'exempt': 4209, 'tremendous': 11272, 'whereas': 11938, 'proud': 8751, 'scandals': 9713, 'cubas': 3019, 'survival': 10742, 'depends': 3316, 'venezuelan': 11644, 'drying': 3761, 'testimony': 10961, 'witnessed': 12040, 'sotomayor': 10253, 'darryl': 3106, 'hicks': 5382, 'fortune': 4688, 'organized': 7796, 'listed': 6640, 'emirates': 3951, 'evenly': 4149, 'cutby': 3055, 'formula': 4682, 'castigated': 2144, 'settlements': 9909, 'rockets': 9494, 'rained': 8904, 'gaza': 4877, 'patrols': 8077, 'picking': 8255, 'recommended': 9040, 'incentivized': 5701, 'militarization': 7126, 'precincts': 8496, 'log': 6683, 'cabin': 1995, 'spring': 10363, 'perriello': 8185, 'lock': 6676, 'lifts': 6598, 'risky': 9459, 'contracting': 2781, 'trespassing': 11278, 'mules': 7335, 'insist': 5847, 'success': 10639, 'conventional': 2806, 'wisdom': 12020, 'solid': 10217, 'oklahoma': 7711, 'louisiana': 6723, 'kansas': 6212, 'utah': 11587, 'interactive': 5904, 'transparent': 11237, '18th': 122, 'southern': 10265, 'visa': 11713, 'overstayers': 7908, 'stark': 10422, 'contrast': 2787, '750': 506, 'willing': 11989, 'sing': 10079, 'william': 11986, 'restored': 9343, 'hawaii': 5291, 'alaska': 895, 'inherit': 5816, 'handing': 5216, 'chevrolet': 2310, 'volt': 11733, 'attributes': 1295, 'mile': 7123, 'fence': 4452, 'ops': 7769, 'enterprises': 4057, 'freddie': 4733, 'mac': 6763, 'attempts': 1281, 'activity': 713, 'indictment': 5764, 'filtered': 4509, 'science': 9743, 'warcraft': 11795, 'brain': 1808, 'decrease': 3191, 'eligibility': 3912, '257': 275, '1971': 167, 'operational': 7750, '56': 441, 'overdoses': 7879, 'espoused': 4110, 'dorman': 3676, 'grace': 5038, 'facebook': 4315, 'page': 7952, 'ess': 4112, 'atlantas': 1267, 'levy': 6552, 'minors': 7167, 'werent': 11912, 'abele': 595, 'finish': 4530, 'dropping': 3751, 'forgiving': 4674, 'agallup': 836, 'arent': 1167, 'uncertainty': 11414, 'sb': 9705, '1070': 30, 'suspects': 10752, 'releasing': 9178, 'depicting': 3318, 'personally': 8194, 'agreed': 852, 'join': 6139, 'transexuals': 11222, 'homosexuals': 5474, 'grabbing': 5037, 'stranger': 10537, 'danger': 3097, 'tactic': 10812, 'rallying': 8919, 'phones': 8237, 'schedule': 9720, 'narcotic': 7396, 'israels': 6044, 'fourths': 4708, 'father': 4393, 'absent': 624, 'apology': 1096, 'reversal': 9391, 'declines': 3187, 'underground': 11435, 'ayers': 1358, 'relationship': 9170, 'continued': 2772, 'comprehensive': 2614, 'publish': 8781, 'trayvon': 11254, 'martin': 6906, 'tattoos': 10862, 'solvent': 10226, '2033': 230, 'whitehouse': 11952, 'cosponsored': 2871, 'easily': 3831, 'tear': 10889, 'classified': 2407, 'viciously': 11672, 'minerals': 7152, 'improvements': 5684, 'specific': 10299, 'recommendations': 9039, 'aimed': 870, 'lasting': 6419, 'cia': 2362, 'interrogation': 5923, 'codes': 2483, 'reaches': 8977, 'brendan': 1834, 'doherty': 3631, 'demanding': 3280, 'occupations': 7656, 'sam': 9625, 'tent': 10935, 'pitch': 8290, 'jackow': 6065, 'trafficked': 11202, 'justices': 6197, '1912': 130, 'sharpe': 9950, 'bankruptcy': 1427, 'responders': 9332, 'unlawful': 11495, 'unethical': 11460, 'intends': 5897, 'stats': 10453, '297x': 300, 'japan': 6082, '49x': 414, '33x': 330, 'embassy': 3938, 'tragedies': 11204, '100th': 23, 'alabama': 890, 'mississippi': 7199, 'wyoming': 12127, '237': 263, 'occupants': 7655, 'hud': 5540, 'soon': 10246, 'strengthened': 10557, 'partners': 8033, 'fields': 4479, 'cuccinelli': 3021, 'halt': 5198, 'epa': 4078, 'regulating': 9139, 'gases': 4861, 'measles': 6998, '108': 31, '499': 412, 'earnonly': 3820, 'productions': 8647, 'picture': 8258, 'decapitated': 3166, 'heads': 5308, 'subhuman': 10605, 'mongrels': 7249, 'hit': 5423, 'enlist': 4036, 'panel': 7980, 'specialists': 10296, 'kinds': 6297, 'diseases': 3529, 'splitting': 10335, 'splintering': 10333, 'connecting': 2701, 'falkland': 4349, 'surpassed': 10725, 'latest': 6422, 'quinnipiac': 8854, '57': 443, 'jessica': 6109, 'repatriate': 9237, 'bullion': 1923, 'occur': 7659, 'kyrillos': 6361, 'decider': 3175, 'polling': 8385, 'investors': 5973, 'bust': 1971, 'gm': 4977, 'weight': 11896, 'warming': 11802, 'maybe': 6957, 'dispute': 3558, 'mercedes': 7064, 'landing': 6392, 'companys': 2579, 'haitian': 5189, '425': 375, 'drinking': 3737, 'ground': 5109, 'gibbs': 4932, 'poorer': 8402, 'dome': 3644, 'returned': 9379, 'western': 11915, 'northwest': 7569, 'corridor': 2859, 'cherokee': 2306, 'advisers': 787, 'destroying': 3376, 'winner': 12006, 'superdelegate': 10683, 'forbidden': 4650, 'remedies': 9198, 'advance': 774, 'saysgop': 9684, 'jeopardize': 6099, 'fundingfor': 4796, '320': 316, 'coloradans': 2514, 'destroyed': 3375, 'offering': 7683, 'walking': 11780, '25th': 277, '7th': 523, 'untreated': 11533, 'decay': 3168, 'vacuum': 11609, 'cleaners': 2417, 'salesman': 9617, 'raped': 8943, 'customer': 3049, 'statehouse': 10437, 'appearance': 1106, 'sovereignty': 10270, 'contributes': 2790, 'brandes': 1816, 'dump': 3782, 'unregulated': 11516, 'ch': 2227, 'guevara': 5145, 'superiority': 10689, 'europeans': 4141, 'descent': 3349, '1947': 148, 'incomes': 5715, 'hitler': 5424, 'abolished': 606, 'soviet': 10271, 'yuri': 12172, 'andropov': 1022, 'soviets': 10272, 'overreact': 7893, 'praise': 8480, 'holders': 5440, 'saystom': 9703, 'preparing': 8539, 'pandemics': 7979, 'dream': 3728, 'hadnt': 5180, 'kelli': 6240, 'ward': 11796, 'olds': 7717, 'preschool': 8541, 'betty': 1597, 'sutton': 10760, 'inside': 5842, 'irving': 6013, 'governments': 5028, 'lotteries': 6715, 'addition': 732, 'pete': 8205, 'hoekstra': 5435, 'whereabouts': 11937, 'mission': 7197, '587': 448, 'cocaine': 2481, 'japanese': 6083, 'quail': 8832, 'embargo': 3935, 'deductible': 3202, 'toward': 11176, 'legalization': 6493, 'commerces': 2541, 'respondents': 9331, 'paramilitary': 7995, 'equipment': 4087, 'dealing': 3140, 'singing': 10081, 'fraudulent': 4731, 'warehouse': 11797, 'runoff': 9566, 'grady': 5051, 'yarbrough': 12132, 'previously': 8579, '950k': 573, 'genetic': 4900, 'makeup': 6808, 'ants': 1072, 'elsewhere': 3927, 'era': 4091, 'kurt': 6354, 'browning': 1881, 'enroll': 4041, 'august': 1307, 'repealing': 9243, '17th': 113, 'aide': 864, 'representing': 9267, 'criticizing': 2982, 'orientation': 7799, 'encountered': 3984, 'customs': 3051, 'detained': 3383, 'politically': 8377, 'correct': 2854, 'shirley': 9988, 'word': 12068, 'buyer': 1985, '9th': 582, 'disrupt': 3565, 'discovered': 3512, '4th': 415, '23rd': 264, 'hurd': 5563, 'popcorn': 8406, 'popper': 8408, 'fry': 4776, 'squirrel': 10376, '1984': 180, '1986': 182, '1987': 183, 'ky': 6358, 'stated': 10436, 'empower': 3971, 'republicangovernors': 9274, 'performed': 8168, 'teenager': 10905, 'recommendation': 9038, 'secures': 9812, 'maternity': 6935, 'commute': 2570, 'chile': 2327, '72': 491, '12th': 59, 'straightforward': 10533, '73': 495, 'als': 957, 'bucket': 1894, 'overhead': 7886, 'external': 4295, 'strictly': 10564, 'liquor': 6637, 'tehran': 10908, 'protested': 8745, 'occurred': 7660, 'oklahomas': 7712, 'fallin': 4353, 'mayoral': 6960, 'buckhorn': 1895, 'locked': 6677, 'trunks': 11329, 'cruisers': 3004, 'pool': 8399, 'telling': 10918, 'competition': 2590, 'strategy': 10542, 'generates': 4893, 'appraises': 1129, 'piece': 8259, 'appraisal': 1127, 'helps': 5352, 'category': 2156, 'totally': 11159, '322': 318, 'blindness': 1679, 'worldwide': 12084, 'hurt': 5566, 'mainly': 6797, 'serves': 9892, 'pier': 8261, 'wipe': 12011, 'disgraced': 3534, 'gordon': 5012, 'crooked': 2987, 'openings': 7743, 'invaded': 5952, 'saddam': 9590, 'acquire': 694, 'destruction': 3378, 'capture': 2084, 'derrick': 3347, 'responded': 9330, 'offsets': 7697, 'strickland': 10560, 'tune': 11345, '840': 543, 'closes': 2454, 'haul': 5284, 'francisco': 4723, 'trucks': 11321, 'flee': 4584, 'golden': 4993, 'energys': 4016, 'ton': 11133, 'eminent': 3950, 'domain': 3643, 'incubators': 5736, 'harding': 5246, 'recessions': 9026, 'rapid': 8945, 'dramatic': 3718, 'recoveries': 9052, 'herbert': 5360, 'hoover': 5488, 'quadrupled': 8831, 'familys': 4362, 'barely': 1443, 'budged': 1901, 'views': 11690, 'portmans': 8429, 'czar': 3066, 'exploded': 4265, 'friendly': 4757, '24th': 272, 'garnisheed': 4858, 'rio': 9446, 'grande': 5057, 'ongoing': 7734, 'blind': 1678, 'heaviest': 5327, 'concentrated': 2630, 'outrageous': 7852, 'institutes': 5869, 'kathryn': 6221, 'starkey': 10423, 'continuing': 2774, 'diverse': 3590, 'calligraphers': 2020, 'paine': 7957, 'bike': 1622, 'ped': 8122, 'radiation': 8885, 'tsa': 11338, 'scanners': 9714, 'feet': 4436, 'the1992': 10989, 'beenon': 1524, 'todd': 11115, 'akin': 887, 'partly': 8031, 'pregnancy': 8522, 'academy': 642, 'pediatrics': 8126, 'boxer': 1785, 'hoax': 5431, 'chi': 2312, 'blackstone': 1660, 'proficient': 8655, 'assessments': 1240, 'crushes': 3006, 'megachurch': 7033, 'calif': 2014, '2724': 286, 'stewart': 10496, 'cloture': 2462, 'nominating': 7535, 'chuck': 2357, 'hagel': 5183, 'filibuster': 4496, 'negatively': 7451, 'impacted': 5645, 'stability': 10382, 'tapped': 10848, '35th': 341, 'socialist': 10192, 'ethnicity': 4137, 'ought': 7822, 'renders': 9217, 'bench': 1561, '1950': 151, 'alaskan': 896, 'foreclosures': 4661, 'section': 9806, 'emoluments': 3957, 'clause': 2412, 'spouses': 10356, 'foreigners': 4663, 'outstanding': 7860, 'seniority': 9863, 'doubleaballpark': 3680, 'frequently': 4748, 'socio': 10197, 'midwest': 7115, 'unfairly': 11463, 'groceries': 5102, 'material': 6931, 'marked': 6879, 'server': 9891, 'whilesecretary': 11946, 'vietnam': 11683, 'kid': 6277, 'averaged': 1339, 'gallon': 4831, 'franken': 4726, 'mccains': 6968, 'latourette': 6428, '551': 440, 'aides': 865, '333': 326, '485': 406, 'powerful': 8472, 'interests': 5911, 'factories': 4326, 'doors': 3672, '932': 568, 'impaired': 5648, 'scientist': 9747, 'fault': 4396, 'stack': 10388, '94': 569, 'heading': 5304, 'majorities': 6803, 'lyndon': 6761, 'rammed': 8922, 'loopholes': 6701, 'artists': 1207, 'justin': 6201, 'timberlake': 11094, 'jay': 6087, 'rihanna': 9443, 'canceling': 2049, 'stevie': 10495, 'further': 4813, 'suggesting': 10658, 'adjustments': 745, 'staggering': 10398, 'saves': 9666, 'flooding': 4598, 'effectively': 3868, 'successfully': 10641, 'joining': 6141, 'technology': 10898, 'pease': 8121, 'prescribed': 8543, 'yoho': 12145, 'fifths': 4483, 'database': 3111, 'pharmacies': 8219, 'prostate': 8733, 'ovarian': 7869, 'breast': 1829, 'hayworth': 5294, 'investigating': 5966, 'tech': 10893, 'blacksburg': 1659, 'talk': 10829, 'reluctance': 9187, 'damascus': 3089, 'disincorporation': 3540, 'zeldin': 12178, '3rds': 363, '1938': 143, 'timelines': 11097, 'loranne': 6703, 'ausleys': 1310, 'wreck': 12107, 'pushing': 8818, 'concession': 2640, 'counted': 2888, 'weren': 11911, 'passport': 8053, 'holly': 5450, 'turner': 11353, 'primaries': 8587, 'discretionary': 3517, 'dwight': 3800, 'poisoning': 8362, 'mercury': 7066, 'aluminum': 965, 'vaccines': 11608, 'outlined': 7844, 'kremlin': 6346, 'wish': 12023, 'forcible': 4654, 'sayshillary': 9686, 'poorest': 8403, 'subscription': 10619, 'protester': 8746, 'speaks': 10294, 'idiots': 5605, 'deliberately': 3267, 'ship': 9983, 'porous': 8420, 'accommodating': 661, 'unemployed': 11454, 'resulting': 9355, 'dried': 3732, 'limitation': 6613, 'existent': 4223, 'billionaires': 1629, 'protocol': 8749, 'addresses': 736, 'downloaded': 3696, 'jennifer': 6097, 'brunner': 1885, 'blackwells': 1661, 'mismanagement': 7189, 'filed': 4494, 'suit': 10663, 'prosecution': 8724, 'deformed': 3243, 'alcoholics': 903, 'carrying': 2121, 'vietnams': 11685, 'exchanging': 4191, 'designed': 3361, 'identifiable': 5598, 'alter': 959, 'attendance': 1283, 'unanimous': 11407, 'vaccinating': 11604, 'virus': 11712, 'shelled': 9967, 'denying': 3307, 'kesha': 6261, 'rogers': 9502, 'poised': 8359, 'seventy': 9912, 'americanschools': 991, 'segregated': 9829, '1960s': 159, 'filibustered': 4497, 'inaction': 5691, 'marsh': 6895, 'stole': 10512, '360': 343, 'inintellectual': 5819, 'pennies': 8145, 'turning': 11355, 'stretch': 10559, 'toll': 11127, 'road': 9469, 'victim': 11673, 'marlins': 6888, 'incurred': 5739, 'tourists': 11170, 'visiting': 11719, 'resident': 9309, 'quarantined': 8837, 'outbreak': 7831, '2019': 223, 'gain': 4823, 'lawn': 6446, 'overgrown': 7882, 'barking': 1446, 'loudly': 6718, 'nonpartisan': 7549, '858': 550, 'dirty': 3479, 'fossil': 4693, 'beds': 1521, 'devoted': 3413, 'holding': 5441, 'violating': 11699, 'challenger': 2242, 'errors': 4100, 'exonerations': 4229, 'uptick': 11559, 'coincide': 2491, 'expectation': 4240, 'deception': 3171, 'reconciliation': 9044, 'amend': 980, 'improperly': 5681, 'mingling': 7153, 'hurts': 5569, 'curb': 3032, 'spread': 10360, 'traces': 11188, 'gathered': 4866, 'botched': 1771, 'branded': 1815, 'tucson': 11340, 'thrive': 11063, 'logo': 6687, 'slogan': 10139, 'gifts': 4936, 'fancy': 4365, 'rides': 9428, 'joanne': 6125, 'kloppenburg': 6317, 'society': 10196, 'normandy': 7562, 'resignation': 9315, 'landings': 6393, 'reversed': 9392, 'withdrawing': 12031, 'immediately': 5633, 'convictions': 2817, 'telecommute': 10913, 'carpools': 2113, 'words': 12070, 'february': 4418, 'arlen': 1182, 'specters': 10304, 'switch': 10784, 'judiciary': 6174, 'dependent': 3314, 'donor': 3664, 'interestingly': 5910, 'kentucky': 6255, 'print': 8596, 'everybodys': 4159, 'lindsey': 6625, 'graham': 5053, 'shortage': 10008, 'interesting': 5909, 'sonia': 10243, 'propaganda': 8700, 'sites': 10090, 'saysabout': 9678, 'recruit': 9057, 'attorneys': 1290, 'neither': 7465, 'regarding': 9118, 'fathers': 4394, 'iowas': 5989, 'mattering': 6942, 'determines': 3390, 'terrificand': 10946, 'eat': 3836, 'catfish': 2157, 'hottest': 5518, 'recorded': 9046, 'hen': 5355, 'sheldon': 9964, 'upheld': 11549, 'prevented': 8573, 'obtaining': 7648, 'deals': 3142, 'appointments': 1126, 'surprised': 10728, 'subprime': 10617, 'selective': 9838, 'infanticide': 5784, 'egregious': 3876, 'maternal': 6934, 'mortality': 7284, 'strife': 10566, '20th': 241, 'myself': 7378, 'unfunded': 11467, 'options': 7775, 'bidding': 1614, 'waiver': 11770, 'hmos': 5429, 'reason': 8999, 'preventable': 8571, 'murphys': 7356, 'donation': 3659, 'tainted': 10819, 'beef': 1522, 'cafeterias': 2000, 'lewis': 6554, 'hero': 5366, 'allegations': 926, 'chapter': 2262, 'repudiate': 9278, 'remarks': 9196, 'lunatic': 6745, 'crops': 2989, 'partitioning': 8030, 'entities': 4063, 'overwhelming': 7916, 'stayed': 10461, 'missourians': 7202, 'thirty': 11039, 'menendezs': 7051, 'enter': 4053, 'pursuit': 8814, 'focusing': 4626, 'occupancy': 7653, 'apartment': 1087, 'industrial': 5773, 'dies': 3440, 'proven': 8756, 'polluted': 8390, 'thefts': 10999, 'st': 10379, 'petersburg': 8208, 'keys': 6264, 'dr': 3709, 'steven': 10493, 'chu': 2356, 'martini': 6908, 'steakhouse': 10468, 'participation': 8022, 'rely': 9188, 'contraceptive': 2778, 'insufficient': 5880, 'amtrak': 1009, 'installation': 5857, 'derailment': 3344, 'underfunding': 11432, 'reality': 8993, 'figure': 4490, 'signer': 10058, 'declaration': 3180, 'administered': 750, 'shores': 10006, 'acting': 703, 'athletes': 1263, 'ipad': 5991, '501': 419, 'applications': 1117, 'amounting': 1005, 'superstorm': 10693, 'nfl': 7506, 'odd': 7668, 'stratosphere': 10543, 'restoring': 9344, 'buses': 1961, 'limousine': 6620, 'fleet': 4586, 'thevalley': 11023, 'newspaper': 7501, 'timeline': 11096, 'victory': 11679, 'electoral': 3895, 'ensuring': 4051, 'potential': 8458, 'targets': 10855, 'nevadans': 7484, 'digit': 3450, 'nevadas': 7485, 'insurer': 5885, 'meal': 6989, 'charities': 2272, 'drives': 3743, 'harrisburg': 5258, 'pawlenty': 8092, 'flatlined': 4579, 'sheriffs': 9974, 'treat': 11260, 'horribly': 5500, 'gays': 4876, 'faceless': 4317, 'dad': 3072, 'conscious': 2708, 'pro': 8617, 'utility': 11589, 'mothers': 7299, 'preceding': 8494, 'respect': 9325, 'reforming': 9103, 'cheap': 2285, 'barton': 1463, 'finite': 4533, 'resource': 9323, 'harnessing': 5256, 'winds': 12000, 'workplaces': 12080, 'prohibit': 8667, 'deadline': 3131, 'multitude': 7344, 'crippling': 2971, 'feds': 4428, 'perlmutter': 8176, 'viagra': 11669, 'rapists': 8947, 'lockout': 6680, 'gorbachev': 5011, 'khruschev': 6270, 'mao': 6860, 'damage': 3085, 'vern': 11651, 'exonerated': 4227, 'flagging': 4576, 'unaccompanied': 11404, 'legislatures': 6508, 'ending': 3995, 'genocide': 4904, 'bosnia': 1766, 'populated': 8411, 'boats': 1711, 'spawned': 10287, 'walked': 11777, '223': 252, 'speeches': 10308, 'rationing': 8964, 'conduct': 2657, 'audits': 1305, 'evaluates': 4144, 'exams': 4179, 'craigslist': 2933, 'examiners': 4176, 'essays': 4113, 'pinnacle': 8275, 'overlook': 7887, 'southwest': 10267, 'gelber': 4884, 'needy': 7447, 'jewish': 6114, 'saturdays': 9657, 'disturbing': 3587, 'trend': 11273, 'commonplace': 2558, 'massacre': 6917, 'incidents': 5708, 'fatally': 4392, 'wounded': 12102, 'geithner': 4883, 'abandoning': 589, 'multinational': 7340, 'currency': 3042, 'contributing': 2791, 'heinrich': 5338, 'fcat': 4406, 'instructional': 5876, 'economist': 3845, 'boosts': 1751, 'tanning': 10845, 'quit': 8858, 'unable': 11402, 'warners': 11807, 'adam': 723, 'hasners': 5273, 'requesting': 9283, 'beta': 1594, 'susie': 10749, 'jet': 6111, 'halliburton': 5195, 'geo': 4906, 'wartime': 11817, 'sued': 10650, 'eighth': 3881, 'populous': 8416, 'hamilton': 5205, 'accepted': 649, 'distributors': 3583, 'buddies': 1900, 'upstate': 11557, 'split': 10334, 'downstate': 3700, 'helicopter': 5340, 'hog': 5436, 'hunts': 5561, 'eliot': 3919, 'spitzer': 10332, 'cass': 2141, 'sunstein': 10679, 'animals': 1039, 'eating': 3837, 'exploring': 4271, 'ferguson': 4456, 'mo': 7215, 'feel': 4433, 'comfortable': 2531, 'weakening': 11862, 'dearborn': 3146, 'advancement': 776, 'regime': 9120, 'influx': 5802, 'alien': 915, '134': 64, 'youve': 12166, 'sacrifice': 9586, 'intervened': 5930, 'behalf': 1536, 'charles': 2274, 'keating': 6231, 'regulators': 9143, 'incredible': 5731, 'boeing': 1721, 'factory': 4328, 'newtown': 7504, 'winery': 12003, 'charlottesville': 2277, 'accessible': 655, 'vatican': 11632, 'hopefully': 5492, 'retribution': 9375, 'opposing': 7765, 'wound': 12101, 'nbc': 7426, 'technicality': 10895, 'supplier': 10699, 'activated': 706, 'intercity': 5907, 'ignored': 5611, 'consulate': 2742, 'tool': 11139, 'sworn': 10788, 'unheard': 11470, 'obamacarerepresents': 7620, 'protections': 8740, 'couldn': 2879, 'westerners': 11916, 'ruth': 9582, 'bader': 1381, 'ginsburg': 4948, 'prefers': 8520, 'pressed': 8560, 'reset': 9305, 'button': 1980, 'lien': 6583, 'liens': 6584, 'placed': 8296, 'unpaid': 11509, 'ourselves': 7826, 'butte': 1977, 'reservoir': 9304, 'practicing': 8479, 'dominic': 3650, 'chavez': 2283, 'struggling': 10584, 'laundry': 6437, 'newborns': 7491, 'randi': 8929, 'shade': 9929, 'receipts': 9017, 'exceeding': 4182, 'administrations': 752, 'version': 11653, 'pharmaceutical': 8218, 'loves': 6728, 'che': 2284, '741': 502, 'nickel': 7509, 'rigged': 9437, 'burnt': 1952, 'rot': 9531, 'ration': 8963, 'treatments': 11265, 'wasteful': 11830, 'cheerleaders': 2297, 'cowboys': 2921, 'entertained': 4059, 'scary': 9717, '1791': 110, 'pizza': 8294, 'rotunda': 9534, 'invite': 5976, 'accommodate': 660, 'fannie': 4366, 'preschoolers': 8542, 'reduces': 9080, '214': 246, 'exchanges': 4190, 'incentive': 5699, 'laboratories': 6368, 'contained': 2756, 'goals': 4982, 'aig': 868, 'mysteriously': 7379, 'disappeared': 3490, 'supporters': 10706, 'exelon': 4208, 'yucca': 12168, 'mountain': 7312, 'depository': 3331, 'discriminating': 3520, 'legacy': 6491, 'taxing': 10870, 'crippled': 2970, 'educations': 3861, 'certifications': 2221, 'revoked': 9396, 'bizarrely': 1654, 'argued': 1170, 'creates': 2948, 'divisions': 3602, 'philly': 8231, 'mathematical': 6937, 'statistical': 10450, 'impossibility': 5672, 'blaming': 1668, 'plagiarizing': 8299, 'mexicans': 7094, 'terrible': 10945, 'algebra': 910, 'admission': 758, 'haskilled': 5269, 'palestinian': 7967, 'geneva': 4902, 'combatants': 2522, 'entitled': 4064, 'normal': 7560, 'courtesies': 2909, 'semi': 9850, 'recreational': 9056, 'indicate': 5755, 'disincentive': 3539, '09': 18, '310': 309, 'dating': 3114, 'misdemeanor': 7183, 'norcross': 7557, 'sized': 10101, 'reactor': 8981, '1970s': 166, 'exact': 4171, 'nevada': 7483, 'visitors': 11721, 'diplomas': 3468, 'warmed': 11799, 'scientifically': 9746, 'springsteen': 10365, '1975': 170, 'seton': 9903, 'orange': 7778, 'walsh': 11784, 'gym': 5170, 'enrolled': 4042, 'tarpon': 10859, 'springs': 10364, 'watching': 11836, 'wal': 11773, 'mart': 6900, 'sends': 9860, 'unstable': 11523, 'unfriendly': 11466, 'regimes': 9122, 'unrecognized': 11515, 'congenital': 2686, 'heart': 5319, 'defect': 3223, 'slash': 10121, 'counseling': 2885, 'sooner': 10247, 'widows': 11975, 'orphans': 7810, 'fights': 4489, 'coffman': 2486, 'merited': 7071, 'lasted': 6418, 'schwarzenegger': 9742, 'preserved': 8550, 'roadside': 9473, 'illicit': 5619, 'licit': 6576, 'corrine': 2861, 'alcee': 901, 'hastings': 5278, 'frederica': 4734, 'wilson': 11991, 'petrarca': 8213, 'testify': 10960, 'bryson': 1889, 'bermuda': 1581, 'fulfilled': 4782, 'assisting': 1246, 'nationalized': 7410, 'series': 9882, 'authorize': 1321, 'condoms': 2656, 'educators': 3863, 'defends': 3229, 'ridiculous': 9430, 'conservation': 2715, 'labeled': 6365, 'soft': 10203, 'abu': 632, 'bakr': 1399, 'baghdadi': 1387, 'disadvantages': 3484, 'nominated': 7534, 'mployment': 7323, 'outspent': 7859, 'establishment': 4121, 'intimacy': 5939, 'affection': 804, 'fixing': 4571, 'blowing': 1694, 'places': 8298, 'frequency': 4746, 'complete': 2600, 'lack': 6371, 'confidentiality': 2667, 'stiff': 10500, 'exacerbate': 4169, 'hb': 5297, '194': 144, 'solve': 10223, 'tower': 11178, 'rated': 8953, 'challenged': 2241, 'sharron': 9952, 'angle': 1031, 'bps': 1796, 'compensate': 2586, 'spill': 10320, 'slush': 10150, 'jacky': 6067, 'rosen': 9527, 'tracks': 11192, 'causing': 2174, 'halting': 5199, '144': 75, '541': 436, 'monkeys': 7255, 'react': 8979, 'inaugural': 5693, 'snowstorm': 10184, 'attached': 1272, 'ethical': 4132, 'spared': 10281, 'adopting': 767, 'vegan': 11636, 'diet': 3442, 'starr': 10424, 'throw': 11068, 'innocent': 5834, 'rachel': 8872, 'zenzinger': 12180, 'junket': 6189, 'joblessness': 6128, 'spills': 10323, 'seem': 9822, 'geography': 4908, 'fundamentally': 4793, 'fragile': 4713, 'warheads': 11798, 'meant': 6996, 'approach': 1133, 'writing': 12116, 'tends': 10928, 'greece': 5082, 'metropolitan': 7089, 'lieutenant': 6586, 'borrowed': 1762, 'cigarette': 2365, 'butts': 1981, 'nicotine': 7512, 'warrior': 11815, 'mattis': 6945, 'keane': 6230, 'flynn': 4624, 'retired': 9366, 'hear': 5314, '319': 313, 'selma': 9848, 'ala': 889, 'whites': 11953, 'pinprick': 8276, 'intervention': 5932, 'gill': 4938, 'residual': 9313, 'wouldn': 12098, 'footprint': 4647, 'admiral': 756, 'blair': 1663, 'interrogations': 5924, 'deeper': 3211, 'understanding': 11443, 'organization': 7793, 'gambling': 4837, 'buono': 1929, 'libraries': 6568, 'diabetes': 3419, 'infomercials': 5804, 'cures': 3039, 'endanger': 3991, '575': 445, 'dairy': 3079, 'facilities': 4320, 'swine': 10781, 'farms': 4376, 'cattle': 2165, 'unveiled': 11539, 'creatingposts': 2950, 'sly': 10151, 'honest': 5477, 'busing': 1970, 'floor': 4599, 'gerald': 4914, 'daugherty': 3115, 'discriminates': 3519, 'daycare': 3122, 'brookhaven': 1871, 'unincorporated': 11475, 'mosquito': 7290, 'erv': 4102, 'sjr': 10103, 'urgingcongress': 11566, 'residing': 9312, 'illness': 5622, 'purchases': 8803, 'pickup': 8257, 'ramp': 8923, 'renewable': 9223, 'meatpacking': 7005, 'fairmount': 4343, 'conservancy': 2714, '89': 557, 'radius': 8891, 'marketplace': 6882, 'premise': 8531, 'amongst': 1002, 'aipac': 872, 'drought': 3753, 'conceal': 2624, '168': 96, 'candidacy': 2053, 'manipulated': 6845, 'koster': 6342, 'bosses': 1768, 'handed': 5211, '492': 411, 'volunteer': 11737, 'stations': 10448, 'southwestern': 10268, 'desert': 3352, 'itself': 6058, 'enjoyed': 4033, 'detail': 3380, 'demonstrated': 3290, 'nature': 7419, 'pence': 8137, 'diverting': 3595, 'conversion': 2809, 'therapy': 11012, 'bureaucracy': 1935, 'dave': 3118, 'brat': 1817, 'welders': 11901, 'philosophers': 8233, 'teddy': 10901, 'dovilla': 3688, 'murray': 7357, 'divided': 3597, 'debra': 3157, 'medina': 7022, 'remainder': 9191, 'brennan': 1835, 'geographic': 4907, 'roe': 9500, 'wade': 11758, 'celebrity': 2193, 'grads': 5044, 'ticking': 11082, 'implemented': 5657, 'chaired': 2235, 'gores': 5014, 'suzanne': 10762, 'bonamici': 1733, 'epidemic': 4081, 'jihad': 6117, '1928': 138, 'brackets': 1799, 'saxby': 9671, 'psychological': 8775, 'distress': 3578, 'sacrificed': 9587, 'till': 11089, 'fraction': 4712, 'powered': 8471, 'docked': 3613, 'mobil': 7218, 'pages': 7954, 'removal': 9205, 'approve': 1141, 'twin': 11370, '265': 280, 'exposure': 4282, 'electromagnetic': 3901, 'leukemia': 6545, 'proficiency': 8654, 'tail': 10816, 'plane': 8303, 'zuckerbergs': 12195, 'struck': 10579, 'bridged': 1846, 'partisanship': 8028, 'subsidize': 10623, 'wildly': 11983, 'unpopular': 11511, 'developing': 3403, 'resolve': 9321, 'doorstep': 3673, 'lifetime': 6593, 'award': 1352, 'louis': 6722, 'toothpaste': 11144, 'contains': 2759, 'fluoride': 4620, 'shutdowns': 10038, 'tip': 11103, 'oneill': 7732, 'speakership': 10292, '440': 384, 'maryland': 6914, 'ralph': 8920, 'hudgens': 5541, 'raul': 8968, 'cantero': 2066, 'kenneth': 6250, 'reputations': 9280, 'activists': 711, 'certificates': 2220, 'lowering': 6734, 'strangulation': 10539, 'norm': 7559, 'groundbreaking': 5110, 'wildlife': 11982, 'arctic': 1158, 'refuge': 9105, 'defeating': 3222, 'numbersand': 7599, 'ideologue': 5603, 'affiliated': 807, 'blatantly': 1675, 'attempting': 1280, 'proposalputs': 8712, 'determining': 3391, 'pricing': 8582, 'types': 11379, 'isleading': 6033, 'earmarked': 3811, 'dole': 3635, 'atheists': 1262, 'denver': 3305, 'tebow': 10892, 'praying': 8487, 'sidelines': 10046, 'frankel': 4725, 'marble': 6863, 'shower': 10022, 'bathroom': 1480, 'uses': 11581, 'pell': 8129, 'absorbed': 629, 'fixes': 4570, 'bombed': 1727, 'blamed': 1666, 'hamas': 5203, 'marines': 6877, 'thought': 11049, 'hillsboroughs': 5405, 'cabbies': 1994, 'wear': 11871, 'socks': 10198, 'please': 8331, 'min': 7144, 'journalists': 6161, 'succeeded': 10636, 'pipes': 8284, 'poisoned': 8361, 'gore': 5013, 'reuses': 9382, '1965': 163, 'untold': 11530, 'hell': 5343, 'ann': 1042, 'mclane': 6982, 'kuster': 6355, '293': 297, 'boccieri': 1714, 'mandels': 6840, 'toy': 11185, 'severely': 9917, 'stress': 10558, 'syndrome': 10796, 'administrator': 754, '1790': 109, 'packed': 7946, 'framers': 4715, 'seamen': 9784, '1792': 111, 'mandating': 6837, 'bodied': 1716, 'mercer': 7065, 'hannity': 5225, 'dobson': 3611, 'texts': 10971, 'cohen': 2488, 'perform': 8166, '141': 72, '125': 55, 'deeply': 3213, 'flawed': 4582, 'in2004': 5688, 'egging': 3874, 'spitting': 10331, 'policemen': 8368, 'policemens': 8369, 'spiraled': 10327, 'hagels': 5184, 'celebrated': 2189, 'polluters': 8392, 'motor': 7304, 'coos': 2832, '154': 83, 'flights': 4592, 'readily': 8983, 'standpoint': 10415, 'adler': 746, 'toothbrush': 11143, 'trenton': 11276, 'blank': 1669, 'computers': 2622, 'encourages': 3988, 'collectors': 2508, '124': 54, 'rose': 9525, 'liberals': 6560, 'conditioned': 2652, 'lens': 6526, 'carolinians': 2111, 'dianne': 3427, 'feinstein': 4439, 'rounding': 9539, 'em': 3930, 'liberation': 6562, 'trusts': 11332, 'humana': 5547, 'inconsistently': 5719, 'communicate': 2561, 'rivaling': 9462, 'cato': 2163, 'interior': 5914, 'deportations': 3324, 'dwi': 3799, 'crashes': 2941, 'ridesharing': 9429, 'entered': 4054, 'foods': 4636, 'genetically': 4901, 'organisms': 7792, 'gmos': 4979, 'experiment': 4254, 'socialism': 10191, 'miscarriage': 7179, 'whatsoever': 11927, 'april': 1146, 'cycle': 3065, 'superpacs': 10691, 'roberts': 9484, 'treason': 11255, 'aboard': 604, 'iranians': 6001, 'manner': 6850, 'discussed': 3524, 'violation': 11700, 'experiencing': 4253, 'jailing': 6071, 'maryellen': 6913, 'oshaughnessy': 7815, 'indicted': 5763, 'jimmy': 6122, 'dimora': 3457, 'intimidated': 5941, 'confirming': 2674, 'silberkraus': 10065, 'fetish': 4466, 'kidnapped': 6279, 'naked': 7387, 'kennels': 6249, 'trained': 11213, 'pets': 8215, 'degrade': 3249, 'stalking': 10404, 'prep': 8535, 'incarcerates': 5697, 'apartheid': 1086, 'readiness': 8984, 'coordinating': 2830, '66': 474, '874': 553, 'outsource': 7856, 'deserved': 3355, 'reputation': 9279, 'unreasonable': 11514, 'requested': 9282, 'screamed': 9768, 'unfair': 11462, 'resigned': 9316, 'avert': 1343, 'cliff': 2435, 'eliminates': 3916, 'politifact': 8381, 'validated': 11617, 'independently': 5747, 'documented': 3619, 'adan': 725, 'ballesteros': 1407, 'hughes': 5544, 'paving': 8091, 'sprawl': 10357, 'burst': 1955, 'pronounced': 8697, 'guidelines': 5148, 'acceptingforeign': 651, 'clip': 2447, '981': 579, 'active': 708, 'bankruptcies': 1426, 'enormous': 4037, 'recognized': 9036, 'languished': 6403, 'file': 4493, 'teenagers': 10906, 'ireland': 6006, 'poland': 8364, 'raw': 8970, 'illnesses': 5623, 'percentages': 8160, 'nonprofits': 7551, 'animmigrant': 1040, 'unless': 11498, 'supervised': 10694, 'poizner': 8363, 'married': 6892, 'traditional': 11198, 'speaking': 10293, 'ironic': 6008, 'corp': 2849, 'supply': 10701, 'denhamhas': 3295, 'deported': 3326, 'knives': 6324, 'hands': 5221, 'clubs': 2466, 'hammers': 5207, 'shelters': 9972, 'crow': 2997, 'broken': 1869, 'teen': 10902, 'clintoninsists': 2445, 'encounters': 3985, 'beliefs': 1545, 'contrary': 2786, 'saysbernie': 9680, 'immunity': 5642, 'surpluses': 10727, 'proceeds': 8630, 'stabilize': 10384, 'administer': 749, 'implications': 5660, 'staffers': 10393, 'execution': 4204, 'finished': 4531, 'reporting': 9260, 'minus': 7169, 'truman': 11325, 'easing': 3832, 'sundays': 10673, 'september': 9877, '2014s': 219, 'cdc': 2183, 'transmitted': 11235, 'czech': 3068, 'confederacy': 2660, 'fools': 4640, '428': 377, 'naval': 7420, '1917': 134, 'facts': 4329, 'appellate': 1110, 'completed': 2601, 'await': 1350, 'dependence': 3312, 'proposition': 8719, 'discharge': 3500, 'yard': 12133, 'gang': 4843, 'blow': 1693, 'bath': 1479, 'salts': 9621, 'raccoons': 8868, 'stolen': 10513, 'retiring': 9372, '119': 45, '357': 339, 'liquidate': 6636, '770': 513, 'yohoattempts': 12146, 'statistically': 10451, 'consumes': 2750, 'travelers': 11249, 'males': 6815, 'policing': 8371, 'largesse': 6412, 'malfunctioning': 6818, '109': 32, 'scheduled': 9721, 'panama': 7976, 'thefirst': 10997, 'afterfive': 829, 'abort': 610, 'newborn': 7490, 'askedthedivision': 1220, 'toreport': 11151, 'obligations': 7637, 'treatyinfringes': 11268, 'upon': 11552, 'aligned': 917, 'purim': 8807, 'halloween': 5196, 'funny': 4808, 'escaped': 4106, 'imprisonment': 5678, 'participated': 8020, 'heavy': 5329, 'installed': 5859, 'urinals': 11568, 'giblets': 4933, 'anonymous': 1054, 'advocates': 795, 'communism': 2564, 'cnns': 2470, 'wolf': 12047, 'blitzer': 1680, 'impeached': 5650, 'misleading': 7187, 'assets': 1241, 'totaled': 11157, 'curbing': 3034, 'deemed': 3208, 'colonia': 2512, 'feasible': 4413, 'sanderss': 9636, 'causation': 2169, 'comp': 2575, 'whats': 11926, 'combating': 2523, 'radicalizing': 8888, 'airline': 876, 'ticket': 11079, 'runs': 9567, 'bald': 1403, 'menendez': 7050, '115': 43, 'downrange': 3697, 'tomahawk': 11130, 'attracted': 1292, 'retained': 9359, 'paulson': 8087, 'bernanke': 1582, 'drops': 3752, 'obesity': 7631, 'lowden': 6731, 'thousand': 11050, 'survived': 10744, 'orlando': 7806, 'fl': 4572, 'tomorrow': 11132, 'rock': 9493, '500k': 418, 'deem': 3207, 'pbj': 8109, 'sandwiches': 9640, 'racist': 8877, 'cured': 3038, 'sheen': 9958, 'comoros': 2574, 'goats': 4984, 'arthritis': 1203, 'yesterday': 12142, 'buyers': 1986, 'demise': 3281, 'assessed': 1238, 'captures': 2086, '83': 538, 'hemisphere': 5353, 'assaulted': 1231, 'taxi': 10869, 'driver': 3741, 'hailing': 5186, 'abuses': 637, 'concrete': 2645, 'subcommittees': 10604, 'loughlin': 6719, 'gary': 4859, 'absolute': 626, 'lie': 6578, 'worry': 12088, 'affairshealth': 800, '400k': 366, 'remodeling': 9204, 'lounge': 6725, 'oakland': 7615, 'cheating': 2289, 'glorifying': 4975, 'dismantle': 3541, 'servicemen': 9894, 'privileges': 8614, 'theft': 10998, 'divorce': 3603, 'robberies': 9480, 'immunizations': 5643, '510': 424, 'freeloaders': 4740, 'endorsements': 4001, 'annexation': 1043, 'overcrowding': 7876, 'decaturs': 3167, 'alvarez': 966, 'gimenez': 4942, 'drove': 3754, 'expense': 4247, 'pacs': 7950, 'nordic': 7558, 'graduating': 5049, 'noted': 7575, 'observers': 7642, 'superintendents': 10687, 'span': 10278, 'lagged': 6377, 'gap': 4849, '877': 554, 'gallons': 4832, 'commercials': 2543, 'vicious': 11671, 'pedestrians': 8123, 'crosswalk': 2996, 'jerseyans': 6104, 'shouldnt': 10017, 'existed': 4221, 'boozman': 1755, 'excited': 4193, 'wyden': 12126, 'exotic': 4231, 'entering': 4055, 'ninth': 7523, 'jones': 6150, 'indicating': 5758, 'blew': 1677, 'smelter': 10162, 'hodges': 5434, '908': 562, 'oldest': 7716, 'continuously': 2776, 'professional': 8651, 'sports': 10349, 'franchise': 4719, 'gst': 5126, 'steel': 10471, 'jeopardy': 6101, 'writes': 12115, 'wrongdoing': 12119, 'paragraph': 7992, 'saysjeb': 9687, 'achievements': 686, 'breath': 1830, 'spirit': 10329, 'notre': 7584, 'dame': 3090, 'stanford': 10417, 'techs': 10899, 'tuberculosis': 11339, 'implementation': 5656, '178': 106, 'relatives': 9174, 'spokesman': 10340, 'profitmaking': 8661, 'elses': 3926, 'retaliated': 9362, '91': 563, 'copenhagen': 2834, 'democracy': 3282, 'subsequent': 10620, 'andy': 1026, 'stern': 10490, 'frequent': 4747, 'visitor': 11720, 'liabilities': 6556, 'deters': 3392, 'homosexual': 5472, 'protected': 8737, 'johnsons': 6137, 'boldly': 1724, 'hagan': 5181, 'employ': 3962, 'misogynist': 7190, 'bigot': 1621, 'epic': 4080, 'proportions': 8710, 'degraded': 3250, 'musharraf': 7360, 'dip': 3465, 'wheel': 11929, 'garcia': 4852, 'others': 7819, 'lifespan': 6591, 'bluntly': 1704, 'wild': 11980, 'reservations': 9300, 'watched': 11835, 'cheering': 2296, 'planning': 8309, 'homelessness': 5462, '107': 29, '142': 73, 'dentists': 3303, 'pharmacists': 8220, 'happy': 5235, 'ribbon': 9412, 'cuttings': 3059, 'rhodemap': 9409, 'zoning': 12192, 'ease': 3827, 'worship': 12093, 'campuses': 2040, 'whopping': 11962, 'westside': 11919, 'radical': 8886, 'marxist': 6910, 'tallied': 10836, 'replacement': 9251, 'sudden': 10647, '1st': 199, 'forensic': 4666, 'dividend': 3598, 'anight': 1037, 'denham': 3294, 'ca': 1993, 'broker': 1870, 'bragged': 1805, 'estabrook': 4122, 'dam': 3084, 'janitor': 6080, 'handgun': 5214, 'chancellor': 2254, 'upscale': 11555, 'allowance': 942, 'dining': 3460, 'moose': 7269, 'correlation': 2858, 'wins': 12009, 'hostage': 5512, 'disappear': 3489, 'weighs': 11895, '340': 332, 'distinguish': 3573, 'assaults': 1233, 'fivefold': 4566, 'malaysia': 6812, 'indentured': 5744, 'servants': 9888, 'passports': 8054, 'slave': 10126, 'amiddle': 994, 'donates': 3657, 'charity': 2273, 'gates': 4864, 'presidentially': 8556, 'invades': 5954, 'choices': 2335, 'catches': 2154, 'maverick': 6949, 'summer': 10668, 'stabilizing': 10386, 'armed': 1184, 'stockpiling': 10509, 'roger': 9501, 'picks': 8256, 'swapped': 10765, 'bowe': 1782, 'bergdahl': 1578, 'automaker': 1328, 'luther': 6752, 'outperforming': 7849, '235': 261, 'alaskas': 898, 'prince': 8591, 'vaccinations': 11606, 'personhood': 8195, 'conforming': 2681, 'rulings': 9562, 'infant': 5783, 'sat': 9651, 'reinvesting': 9161, 'base': 1465, '450': 390, 'lions': 6634, '70s': 488, 'overturning': 7914, 'vs': 11754, 'define': 3239, 'conception': 2634, 'sierra': 10053, 'turtles': 11360, 'sestak': 9899, 'appropriations': 1139, 'restriction': 9348, '808': 528, 'brady': 1803, 'rescue': 9293, 'marshall': 6897, 'macon': 6770, 'drink': 3736, 'gulp': 5154, 'senseless': 9867, 'mansion': 6852, 'screeningand': 9772, 'bribe': 1843, 'exists': 4225, 'wide': 11969, 'purchased': 8801, 'nick': 7508, 'rahall': 8896, 'main': 6795, 'digits': 3452, 'contact': 2753, 'groupfeeding': 5116, 'claimsthat': 2401, 'starvation': 10432, 'proponent': 8706, 'challenging': 2245, 'suddenly': 10648, 'image': 5625, 'blondwomen': 1690, 'diversity': 3592, 'anchors': 1017, 'overturned': 7913, 'lobster': 6669, 'caviar': 2178, 'ghetto': 4925, 'vaccination': 11605, 'chick': 2314, 'fil': 4492, 'emory': 3958, 'solely': 10214, 'feedback': 4431, 'miscarriages': 7180, 'gudex': 5141, 'certify': 2223, 'perjury': 8174, 'motivating': 7301, 'stories': 10526, 'drowned': 3755, 'regardless': 9119, 'liability': 6557, 'homosexuality': 5473, 'hopeful': 5491, 'donna': 3663, 'campbell': 2036, 'dow': 3690, 'devlin': 3411, 'wic': 11968, 'deferred': 3233, 'interviewer': 5936, 'treats': 11266, 'replied': 9255, 'aspect': 1224, 'rapes': 8944, 'climbed': 2440, '229': 256, 'coca': 2480, 'cola': 2493, 'compete': 2588, 'globally': 4972, 'pillowtex': 8268, 'deposition': 3330, 'devastated': 3397, 'scoop': 9752, 'sidestep': 10048, 'abuser': 635, 'questions': 8846, 'substantial': 10628, 'probationers': 8622, 'pilot': 8269, 'simpson': 10074, 'bowles': 1784, 'urged': 11563, 'aaron': 585, 'bean': 1502, 'overstay': 7906, 'visas': 11714, 'stellar': 10478, 'mode': 7222, 'surface': 10717, 'hunger': 5555, 'thanksgiving': 10978, 'celebrate': 2188, '135': 65, 'legislated': 6501, 'bow': 1781, 'arrow': 1200, 'comparable': 2580, 'heck': 5330, 'alternative': 961, 'layoffs': 6457, 'bumped': 1926, 'belief': 1544, 'employeeswe': 3966, 'shale': 9936, 'shred': 10029, 'presented': 8548, 'thatthe': 10985, 'spontaneous': 10346, 'understood': 11445, 'grandchildren': 5056, 'saysbarack': 9679, 'ofindianas': 7699, 'freeze': 4744, 'walton': 11785, 'delegates': 3263, 'diego': 3439, 'fla': 4573, 'invade': 5951, 'obriens': 7639, 'compulsory': 2620, '205': 234, 'blocks': 1686, 'dispensaries': 3550, 'cutback': 3053, 'gaos': 4848, 'backs': 1377, 'schumer': 9741, 'flies': 4590, 'supervisor': 10695, 'brenda': 1833, 'snipes': 10179, 'lehman': 6514, 'stabilization': 10383, 'consided': 2718, '825': 535, 'dealt': 3143, 'crackdown': 2926, 'similarity': 10071, 'divorces': 3604, 'dean': 3144, 'cannon': 2062, 'haridopolos': 5251, 'comment': 2537, 'jv': 6204, 'castle': 2147, 'coons': 2825, 'hiked': 5397, 'handful': 5213, 'crists': 2975, 'bashedsen': 1470, 'nelsons': 7467, 'solutions': 10221, 'incontrovertible': 5720, 'proof': 8698, 'vehicular': 11642, 'endure': 4008, 'transvaginal': 11241, 'rufus': 9553, 'mps': 7324, 'drones': 3746, 'thanked': 10976, 'keffer': 6238, 'straus': 10544, 'strama': 10535, 'disagrees': 3488, 'ricci': 9413, 'destefano': 3372, 'rainiest': 8906, 'knopp': 6326, 'pers': 8188, 'putnam': 8821, 'temperatures': 10921, 'createda': 2947, 'maximize': 6953, 'skill': 10105, 'robocall': 9488, 'sea': 9780, 'inequality': 5780, 'disclosures': 3507, 'washing': 11821, 'mouth': 7314, 'cough': 2877, 'transmission': 11234, 'flu': 4616, 'prisons': 8605, 'arizonas': 1179, 'outundocumented': 7864, 'stays': 10463, 'saysproposal': 9695, 'boostteacherpension': 1752, 'fundputs': 4797, 'raping': 8946, 'laughing': 6431, 'occasions': 7651, 'girl': 4949, 'replicated': 9254, 'diplomatic': 3469, 'wearing': 11872, 'glasses': 4964, 'injury': 5829, 'godfathers': 4986, '84': 542, 'relation': 9168, 'strongest': 10577, 'plummeting': 8345, 'simultaneously': 10076, 'congresswoman': 2697, 'postpones': 8450, 'closure': 2458, 'orthodontia': 7812, 'plotting': 8337, 'primarily': 8588, 'melting': 7041, 'attrition': 1296, 'yale': 12130, 'hp': 5536, 'isone': 6040, 'memory': 7047, 'floodgates': 4597, 'saints': 9607, 'undefeated': 11424, 'assemblies': 1234, 'famous': 4363, '211': 244, 'proponents': 8707, 'kansans': 6211, 'anwr': 1074, 'minimal': 7155, 'scrap': 9764, 'tightened': 11088, 'photographer': 8242, 'ids': 5606, 'uncontested': 11423, 'pave': 8089, '761': 509, 'hemp': 5354, 'carters': 2127, 'seals': 9783, 'ipods': 5996, 'whales': 11922, 'seaworld': 9793, 'dolphins': 3641, 'plale': 8301, 'rolled': 9506, 'tag': 10815, 'avoided': 1348, 'scholars': 9732, 'marriages': 6891, 'vet': 11658, 'redistributed': 9074, 'rebuilt': 9014, '475': 403, '196': 157, 'induce': 5771, 'marcorubio': 6867, 'boys': 1794, 'u201cthirty': 11384, 'u2019t': 11383, 'u201d': 11385, 'enrollment': 4046, 'eventual': 4152, 'jane': 6078, 'norton': 7570, 'freshmen': 4752, 'advancing': 778, 'binding': 1634, 'zanesville': 12175, 'settlement': 9908, '1916': 133, '1940s': 146, 'projecting': 8676, 'filibusters': 4498, 'establishing': 4120, 'doyle': 3704, 'deductions': 3205, 'mortgages': 7286, 'guinta': 5150, 'role': 9504, 'patterned': 8080, 'maintained': 6799, 'circle': 2370, 'appropriation': 1138, 'conferences': 2664, 'delivering': 3272, '325': 319, 'landrieu': 6394, 'hesecured': 5373, 'macks': 6769, 'lubbock': 6740, 'alleged': 927, 'dolls': 3640, 'explosives': 4274, 'jumbo': 6182, 'singapore': 10080, 'appalachian': 1098, 'revelations': 9387, 'christ': 2344, '40s': 369, 'exclusion': 4198, 'hillsborough': 5404, 'trends': 11275, 'accountable': 669, 'producing': 8644, 'forged': 4672, 'documents': 3620, '48th': 409, 'venture': 11645, 'jazzercise': 6088, 'urban': 11562, 'gardening': 4854, 'massage': 6918, 'redirected': 9073, 'sofa': 10202, 'encouraging': 3989, 'savannah': 9663, 'federally': 4425, 'engaged': 4022, 'inventory': 5960, 'prevailing': 8569, 'netted': 7474, '120': 51, 'reelection': 9085, '38th': 356, 'huey': 5542, 'environment': 4072, 'recused': 9060, 'solicitor': 10216, 'rang': 8931, 'expects': 4243, 'informational': 5808, 'margaret': 6869, 'thatcher': 10982, 'wobbly': 12045, 'touched': 11161, '68': 478, 'drill': 3733, 'kathy': 6222, 'castor': 2148, 'prostitutes': 8734, 'responsibly': 9337, 'nondefense': 7544, '60s': 455, 'bushes': 1963, 'holes': 5445, 'skulls': 10113, 'coils': 2489, 'ears': 3823, 'intentionally': 5902, 'deafened': 3134, 'starved': 10433, 'labs': 6369, 'benefiting': 1570, 'likewise': 6608, 'rations': 8965, 'britain': 1856, 'mention': 7059, 'surtax': 10735, 'businessmen': 1968, 'engines': 4029, 'sandra': 9637, 'connor': 2705, 'ordinance': 7782, 'restrooms': 9352, 'pal': 7963, 'reclaiming': 9034, 'whove': 11965, 'tina': 11101, 'kotek': 6343, 'uncollected': 11419, 'rev': 9383, 'wright': 12111, 'corps': 2853, 'roman': 9509, 'legionnaires': 6500, 'savior': 9669, 'roberson': 9482, '1930s': 141, 'confined': 2669, 'scarcity': 9715, 'normalization': 7561, 'steps': 10486, 'controversyabout': 2803, 'wherepresident': 11939, 'realize': 8994, 'suffer': 10651, '190': 124, 'startups': 10431, 'narrowing': 7400, 'launchers': 6435, 'airports': 880, '172': 102, 'penis': 8140, 'pumps': 8792, 'lockstep': 6682, 'desire': 3364, 'comprised': 2616, 'multimillionaires': 7339, 'drowning': 3756, 'bathtubs': 1482, 'accidentally': 658, 'styrofoam': 10601, 'crucifying': 3000, 'christians': 2347, 'nailing': 7385, 'existence': 4222, 'trash': 11245, 'tyler': 11377, 'mcpherson': 6987, 'studio': 10590, 'sticker': 10498, 'helmets': 5345, 'necap': 7436, 'harder': 5244, 'dues': 3774, 'pilots': 8270, 'importance': 5663, 'arena': 1165, 'belgiums': 1543, 'commanders': 2535, 'orders': 7781, 'dick': 3429, 'cheney': 2305, 'visit': 11717, 'warrants': 11813, 'items': 6056, 'exploited': 4268, '64': 465, 'duggars': 3777, 'transgressions': 11227, 'affront': 819, 'incredibly': 5732, 'insecurity': 5839, 'unsustainable': 11526, 'unpayable': 11510, 'greed': 5083, 'vulture': 11757, 'withdrawals': 12030, 'imprisoned': 5676, 'medium': 7024, 'fish': 4557, 'barriers': 1457, 'rehabilitate': 9145, 'roading': 9470, 'trails': 11211, 'atvs': 1297, 'anticompetitive': 1067, 'challengers': 2243, 'complaint': 2598, 'reveal': 9384, 'britishand': 1859, 'libyan': 6571, 'versus': 11654, 'cresent': 2963, 'hardy': 5250, 'daca': 3071, 'govjaynixon': 5032, 'overridden': 7894, 'moleg': 7238, 'hca': 5299, 'alito': 919, 'sits': 10091, 'chronically': 2354, 'flowed': 4611, 'coffers': 2485, 'mankind': 6848, 'womankind': 12052, 'approaching': 1134, 'greenest': 5086, 'safest': 9596, 'compromising': 2618, 'volvo': 11739, 'spurned': 10367, '455': 393, 'promising': 8689, 'peach': 8115, 'ben': 1559, 'carson': 2123, 'commonwealths': 2560, 'fdr': 4410, 'consequence': 2712, 'outbreaks': 7832, 'globe': 4973, 'confines': 2670, 'barrels': 1453, 'recess': 9024, 'appointment': 1125, 'cordray': 2839, 'precisely': 8500, 'bypassed': 1991, 'stadiums': 10390, 'pres': 8540, 'transactions': 11219, 'institution': 5871, 'arsenal': 1201, 'seize': 9830, 'troubling': 11316, 'staples': 10419, 'woo': 12060, 'elderly': 3888, 'round': 9538, 'repayments': 9240, 'likes': 6607, '2037': 231, 'installment': 5861, 'faces': 4318, 'underemployed': 11430, 'wake': 11772, 'overseeing': 7902, 'showered': 10023, 'mcgreevey': 6979, 'tradition': 11197, 'announces': 1048, 'sporting': 10348, 'devices': 3408, 'concluded': 2642, 'therefore': 11017, 'unsuccessful': 11524, 'alleviating': 933, 'congestion': 2689, 'mutates': 7368, 'strikingly': 10570, 'slated': 10124, 'infusion': 5813, '643': 466, 'cayman': 2180, 'supposedly': 10711, 'endowed': 4005, 'creator': 2953, 'hardly': 5247, 'forfeit': 4670, 'employs': 3970, '165': 94, 'fy': 4817, '327': 321, '653': 471, '528': 431, 'hyde': 5580, 'championship': 2251, 'payout': 8105, 'connected': 2698, 'frisk': 4762, 'widget': 11974, 'device': 3407, 'chair': 2234, 'joint': 6142, 'poster': 8448, 'discover': 3511, 'infractions': 5810, 'ncaa': 7428, 'perspective': 8198, 'jesus': 6110, 'attract': 1291, 'leaks': 6468, 'prospects': 8729, '3m': 361, 'cutoff': 3056, 'legitimate': 6510, 'widespread': 11972, 'anomalies': 1053, 'visibly': 11716, 'waukesha': 11848, 'monday': 7247, 'marilinda': 6875, 'baseball': 1466, 'player': 8324, '248': 271, 'brookhavens': 1872, 'pink': 8274, 'pony': 8397, 'thereby': 11016, 'modeled': 7224, 'contests': 2765, 'hank': 5224, '43rd': 382, 'scientific': 9745, 'co2': 2472, 'pollutant': 8388, 'concentrations': 2632, 'ecosystems': 3850, 'boycotts': 1790, 'encouraged': 3987, 'martinez': 6907, 'prosecutors': 8728, 'avoid': 1346, 'stuck': 10586, '657': 472, 'rugsthey': 9556, 'honey': 5478, 'glazed': 4966, 'chicken': 2315, 'pilaf': 8263, 'olympics': 7722, 'swearing': 10771, 'ram': 8921, 'outstrip': 7861, 'emphatically': 3960, 'tide': 11083, 'keith': 6239, 'olbermann': 7713, 'eclipse': 3841, 'selection': 9837, 'owning': 7927, 'rebate': 9005, 'repeat': 9245, 'flush': 4621, 'deepest': 3212, 'berry': 1587, 'debates': 3153, 'cracking': 2928, 'naral': 7395, 'reproductive': 9269, 'capped': 2078, 'swap': 10764, 'cure': 3037, 'cryptosporidium': 3013, 'ch2m': 2228, 'hill': 5400, 'discovering': 3514, 'understands': 11444, 'kelo': 6242, 'ruling': 9561, 'meals': 6990, 'binational': 1633, 'trimet': 11297, 'anchor': 1016, 'concern': 2635, 'subjected': 10607, 'listening': 6642, 'excluding': 4197, 'recognizes': 9037, 'purposes': 8810, 'chafin': 2231, 'votingto': 11749, 'palace': 7964, 'extracts': 4300, 'videos': 11681, 'formed': 4679, 'fetus': 4467, 'beating': 1509, 'legs': 6513, 'kicking': 6276, 'harvest': 5264, 'entrepreneurship': 4070, '11th': 49, 'debated': 3152, 'overnight': 7889, 'hair': 5187, 'beaten': 1508, 'ushered': 11582, 'secular': 9809, 'letterman': 6542, 'threatening': 11056, 'discussion': 3526, 'islamism': 6027, 'jurisdiction': 6191, 'vagina': 11610, 'madigan': 6774, 'appeals': 1104, 'merry': 7074, 'marwig': 6909, 'madigans': 6775, 'lowered': 6733, 'profiting': 8660, 'corrupt': 2863, 'hewas': 5375, 'architects': 1157, 'balancing': 1402, 'federalbudget': 4423, 'surveille': 10738, 'discussions': 3527, 'indoor': 5770, 'uv': 11592, 'outdoor': 7834, 'melanomas': 7038, 'bus': 1958, 'duration': 3791, 'candidateterri': 2058, 'lynn': 6762, 'character': 2264, 'patriotism': 8074, 'bravery': 1819, 'cancers': 2052, 'peers': 8128, 'hovde': 5530, 'infections': 5789, 'adolescents': 763, 'numberonein': 7597, 'energyresources': 4015, 'isnumber': 6038, '123': 53, '326': 320, 'acidic': 688, 'explosive': 4273, 'scored': 9757, 'reformed': 9100, 'partially': 8017, 'hansen': 5227, 'perhaps': 8170, 'minds': 7148, 'properly': 8703, 'obamacars': 7622, 'scooters': 9753, 'deduction': 3204, 'hobby': 5432, 'catch': 2153, 'rainwater': 8907, 'stuff': 10594, 'ethnic': 4135, 'mirrors': 7177, 'clarkston': 2404, 'decriminalize': 3196, 'motorists': 7307, 'citation': 2377, 'surviving': 10745, 'tickets': 11081, 'diverts': 3596, 'trusted': 11331, 'chinas': 2330, 'dumping': 3784, 'admissions': 759, 'acute': 721, 'myocardial': 7376, 'infarction': 5786, 'angina': 1030, 'bass': 1477, 'privatization': 8610, 'batteries': 1486, 'invoked': 5980, 'dealings': 3141, 'chain': 2233, 'captured': 2085, '2070': 238, 'alabamians': 891, 'crabs': 2924, 'broadband': 1863, 'telecom': 10911, 'spain': 10277, 'tolerant': 11126, 'instructed': 5874, 'patterson': 8081, 'mob': 7217, 'mafia': 6779, 'greenlight': 5089, 'pinellas': 8272, 'fred': 4732, 'clark': 2402, 'baraboo': 1434, 'injured': 5827, 'bicyclist': 1611, 'lures': 6751, 'kittens': 6311, 'nutella': 7608, 'premeditation': 8529, 'oscar': 7814, 'pistorius': 8288, 'twinkling': 11371, 'rarer': 8950, 'daschle': 3109, 'treating': 11263, 'capturing': 2087, 'projector': 8679, 'planetarium': 8306, 'determination': 3387, 'amash': 972, 'kitzhabers': 6313, 'upcoming': 11543, 'biennium': 1617, 'immigrantspay': 5636, 'julio': 6180, 'robaina': 9478, '260': 279, 'chairmanship': 2237, 'offset': 7696, 'harmful': 5254, 'pollutants': 8389, 'nitrogen': 7524, 'oxide': 7930, 'ozone': 7934, 'disneyland': 3546, '2023': 227, '722': 492, '696': 484, 'saysthere': 9701, 'reich': 9146, 'americanscant': 990, 'unexpected': 11461, 'cards': 2094, 'hopes': 5494, 'cruzs': 3009, 'hearts': 5322, 'slouches': 10142, 'buck': 1893, 'kenney': 6251, 'qualified': 8833, 'appropriately': 1137, 'utilizing': 11590, 'lab': 6363, 'lean': 6469, 'finely': 4524, 'textured': 10972, 'slime': 10137, 'widely': 11970, 'delivers': 3273, 'prematurely': 8528, 'rays': 8972, 'judged': 6169, 'appraisers': 1128, 'mechanic': 7006, 'afscme': 827, 'forum': 4690, 'hazmat': 5296, 'prompting': 8695, 'concerns': 2637, 'anticipating': 1065, 'fighter': 4486, 'subsidized': 10624, 'supremacist': 10713, 'procedures': 8628, 'bag': 1385, 'tended': 10927, '2025': 228, 'involvement': 5984, 'withnutritional': 12036, 'supplement': 10697, 'mannatech': 6849, 'haslam': 5270, 'compliant': 2605, 'specializes': 10297, '272': 285, 'dismantling': 3542, 'slaughtered': 10125, 'extent': 4293, 'isakson': 6016, 'southeast': 10263, 'drained': 3715, 'rental': 9228, 'repaired': 9236, 'preferring': 8519, 'facilitate': 4319, 'accelerate': 644, 'acquiring': 695, 'raking': 8916, 'todays': 11114, 'rebounding': 9011, 'evers': 4156, 'detert': 3393, 'adoptions': 769, 'brings': 1854, 'hack': 5177, 'ploy': 8339, 'clients': 2434, 'enabled': 3977, 'tva': 11363, 'knowledge': 6329, 'oxendine': 7929, 'shady': 9932, 'dreamed': 3729, 'obvious': 7649, 'differences': 3446, 'oct': 7666, 'enjoy': 4032, '106': 28, '258': 276, '213': 245, 'kochs': 6334, 'sullivan': 10667, 'trucker': 11320, 'survivors': 10747, 'violated': 11696, 'lilly': 6610, 'ledbetter': 6486, 'merging': 7069, 'hortons': 5504, 'weak': 11859, 'soonerthan': 10248, 'grounded': 5111, 'airplanes': 878, 'afterwards': 831, 'projection': 8677, 'dipped': 3470, '036': 8, '644': 467, 'feingolds': 4438, 'overturn': 7912, 'scheduling': 9723, 'boards': 1709, 'letters': 6543, 'woefully': 12046, 'underpaid': 11437, 'santa': 9646, 'ranch': 8926, 'jetliner': 6112, 'tort': 11152, 'securities': 9813, 'morgan': 7275, 'carrolls': 2119, 'retardation': 9363, 'receives': 9020, 'remittances': 9202, 'nationals': 7412, 'chunk': 2358, 'gianna': 4929, 'jessen': 6108, 'alan': 893, 'greenspan': 5091, 'departments': 3310, 'nye': 7612, 'credibly': 2957, 'undertaxed': 11446, 'lambeau': 6385, 'malaria': 6810, 'excluded': 4195, 'miserably': 7185, 'gospel': 5018, 'marxists': 6911, 'design': 3357, 'volunteers': 11738, 'advisors': 790, 'endorsers': 4002, 'seminole': 9852, 'dorms': 3677, 'dorm': 3675, 'leases': 6478, 'formation': 4678, 'assisted': 1245, '443': 386, 'notified': 7581, 'cancellation': 2050, 'midnight': 7113, 'hasn': 5271, 'audit': 1302, 'obamasown': 7627, 'incorporates': 5724, 'levies': 6550, 'map': 6861, 'gerrymanders': 4919, '1991': 188, 'litmus': 6647, 'markkirk': 6886, 'andwas': 1025, 'stilltooracist': 10502, 'swaps': 10766, 'tripoli': 11305, 'outreach': 7853, 'airways': 884, 'lid': 6577, 'firing': 4547, 'vetted': 11665, 'stationed': 10447, 'vouchers': 11751, 'wolfs': 12049, 'pa': 7935, 'allencast': 931, 'votefor': 11744, '2003bushtax': 206, 'defunded': 3247, 'german': 4915, 'disarmed': 3495, 'nazis': 7425, 'evil': 4166, 'intentions': 5903, 'relatively': 9173, 'resistance': 9318, 'limited': 6615, 'inexpensive': 5782, 'congressadjourned': 2691, 'tuggey': 11342, 'toimplement': 11122, 'oval': 7868, 'jacket': 6064, 'revered': 9390, 'gunviolence': 5160, 'researching': 9296, 'nationalize': 7409, 'curriculum': 3045, 'prevents': 8577, 'metroplex': 7088, 'forums': 4691, 'announcing': 1049, 'touch': 11160, 'trey': 11280, 'radel': 8884, 'occupies': 7657, '14th': 78, 'manufacture': 6854, 'neighboring': 7463, 'outstripped': 7862, '1959': 156, 'abide': 596, 'caution': 2176, 'disturb': 3586, 'bodies': 1717, 'puddle': 8784, 'differ': 3443, 'spoiler': 10337, 'gallaghers': 4828, 'lisa': 6638, 'murkowski': 7353, 'productivity': 8649, 'uaw': 11386, 'enforcing': 4020, 'squandered': 10371, 'squandering': 10372, 'apprehensions': 1132, 'ford': 4657, 'inquiry': 5837, 'corroborated': 2862, 'continuous': 2775, 'bulgarians': 1918, 'romanians': 9510, 'brits': 1860, 'wave': 11851, 'surrender': 10729, 'withdrawal': 12029, 'plated': 8317, 'phaseout': 8222, 'camper': 2037, 'reinstated': 9158, 'elaborate': 3887, 'hollywood': 5451, 'mobile': 7219, 'gps': 5034, 'enjoying': 4034, 'miracle': 7173, '882': 556, '07': 14, 'marcy': 6868, 'kaptur': 6214, 'dennis': 3300, 'kucinich': 6352, 'extensive': 4291, 'willfully': 11985, 'leaked': 6467, 'stuxnet': 10598, 'worm': 12085, 'secrets': 9805, 'affiliates': 808, 'demonstrates': 3291, 'seized': 9831, 'ros': 9524, 'lehtinen': 6516, '442': 385, 'collapse': 2497, 'comparative': 2581, 'effectiveness': 3869, '224': 253, 'qataris': 8830, 'aka': 886, 'sewers': 9922, 'lousy': 6726, 'smog': 10166, 'caltech': 2024, 'extension': 4290, 'segments': 9828, 'sand': 9634, 'imposing': 5671, 'barbecue': 1440, 'restaurants': 9340, 'gouging': 5021, 'uva': 11593, '294': 298, 'dooley': 3670, 'inspected': 5850, '81': 530, 'gamblers': 4836, 'precleared': 8501, 'quieter': 8851, 'mayberry': 6958, 'homeopathy': 5463, 'acupuncture': 720, 'aromatherapy': 1190, 'legitimacy': 6509, 'militarize': 7127, 'bend': 1563, 'beloved': 1555, 'brad': 1800, 'schimel': 9728, 'cahoots': 2003, 'founders': 4703, 'motto': 7309, 'stokes': 10511, 'explained': 4260, '1969': 165, '155': 84, 'indexed': 5750, 'overcharging': 7873, 'ellen': 3921, 'rosenblum': 9528, 'terminated': 10942, 'overhauling': 7885, 'canadians': 2044, 'destabilize': 3371, 'inspect': 5849, 'escalation': 4105, 'boyfriends': 1793, 'anglers': 1032, 'synagogues': 10794, 'megan': 7034, 'sampson': 9627, 'marshawn': 6899, 'yards': 12134, 'terrell': 10944, 'typically': 11381, 'perceived': 8157, 'metros': 7091, 'alexi': 908, 'mobsters': 7220, '855': 548, 'reimbursements': 9153, 'slightly': 10135, 'tb': 10875, 'borrowers': 1763, 'underwater': 11449, 'vacant': 11599, '460': 396, 'lloyd': 6656, 'doggett': 3629, 'timing': 11100, 'soaring': 10188, 'merger': 7068, 'perimeter': 8171, 'gsu': 5127, 'savaged': 9662, 'dignity': 3453, 'shamed': 9938, 'propagation': 8701, 'koran': 6336, 'published': 8782, 'arabic': 1152, 'touting': 11173, 'triumph': 11308, 'notes': 7576, 'applicant': 1114, 'credentials': 2956, 'fixed': 4569, 'downturn': 3703, '1one': 198, 'panhandling': 7983, 'raffled': 8894, 'ar': 1149, 'killings': 6290, 'noisy': 7532, 'demonstrations': 3292, 'events': 4151, 'disruptive': 3566, 'crowds': 2999, 'booed': 1741, 'brian': 1842, 'kemp': 6244, 'rasmussen': 8951, 'spreading': 10361, 'valdez': 11612, 'worsen': 12091, 'vulnerable': 11756, 'rivals': 9463, 'wishes': 12024, 'predict': 8509, 'crude': 3001, 'truancy': 11318, '733': 498, 'australias': 1316, 'stylists': 10600, 'consultants': 2744, 'wrestling': 12110, 'favorite': 4401, 'sport': 10347, 'yearly': 12137, 'childbearing': 2320, '620': 461, 'screen': 9770, 'valued': 11623, 'economists': 3846, 'arising': 1175, 'riot': 9447, 'dea': 3127, 'lyme': 6757, 'infectious': 5790, 'incidence': 5705, 'underused': 11447, 'representation': 9263, 'ex': 4168, 'boyfriend': 1792, 'neurological': 7478, '1977': 172, 'dare': 3102, 'selecting': 9836, 'embrace': 3942, 'ahmadinejad': 862, 'bachelors': 1366, 'thereafter': 11015, 'vawa': 11634, 'statesman': 10442, 'cuccinellis': 3022, 'skills': 10107, 'nearby': 7431, 'angry': 1035, 'extreme': 4303, 'julin': 6179, 'referral': 9091, 'smells': 10161, 'notorious': 7583, 'mikal': 7120, 'watts': 11847, 'extremely': 4304, 'premature': 8527, 'survive': 10743, 'mentioning': 7061, 'villanovas': 11694, 'buzzer': 1988, 'championships': 2252, 'victories': 11677, 'zinn': 12185, 'taught': 10863, 'predominantislamist': 8514, 'finishing': 4532, 'actuaries': 719, 'therell': 11018, 'remodel': 9203, 'expansive': 4237, 'cubans': 3018, 'allens': 932, 'ample': 1007, 'meltdown': 7039, 'bubble': 1891, 'michigans': 7105, 'disrespect': 3564, 'involve': 5982, 'exterior': 4294, 'launched': 6434, 'predominantly': 8515, 'obamashealth': 7626, 'outage': 7829, 'zoo': 12193, 'lpez': 6738, 'cantera': 2065, 'staunchly': 10459, 'priorities': 8599, 'suggest': 10656, 'yorks': 12149, 'startup': 10430, 'canceled': 2048, 'guide': 5147, 'potshoot': 8460, 'stab': 10380, 'strangle': 10538, '226': 254, 'measured': 7001, 'mills': 7140, 'defied': 3237, 'ally': 946, 'intolerable': 5944, 'substitute': 10630, 'forcommunist': 4656, 'poors': 8404, 'proved': 8755, 'fictional': 4475, 'son': 10241, 'avoidance': 1347, 'schemes': 9726, '131': 62, 'origin': 7801, 'labeling': 6366, 'boots': 1754, 'crossings': 2994, 'pauls': 8086, 'governmental': 5027, 'dark': 3103, 'dewine': 3416, 'madoff': 6777, 'jindals': 6124, 'gainrevenue': 4826, 'sewage': 9919, 'erie': 4094, 'header': 5303, 'confidential': 2666, 'verified': 11646, 'seventh': 9911, 'predicts': 8513, 'punxsutawney': 8798, 'payback': 8095, 'footing': 4646, 'colleague': 2499, 'wrangle': 12104, 'streaming': 10549, 'calculate': 2008, 'cheetos': 2301, 'luck': 6741, 'banana': 1416, 'sort': 10252, 'bradleys': 1802, 'webb': 11877, 'reliable': 9179, 'downsizing': 3699, 'ms': 7328, 'latvala': 6429, 'lane': 6398, 'mopac': 7270, 'spilled': 10321, 'spewing': 10318, 'teapot': 10888, 'intelligent': 5895, 'trustworthy': 11333, 'scientologists': 9749, 'operatives': 7752, 'shaped': 9941, 'headstones': 5309, 'lucky': 6742, 'discretion': 3516, 'context': 2766, 'exporting': 4279, 'gamed': 4839, 'buyback': 1983, 'offlexible': 7695, 'futures': 4816, 'surgical': 10723, 'needles': 7444, 'viewed': 11687, 'brainwashing': 1809, 'dumped': 3783, 'oak': 7614, 'grove': 5118, 'guys': 5167, 'elevators': 3910, 'bird': 1641, 'presence': 8546, 'insurers': 5886, 'transcript': 11220, 'occidental': 7652, 'indonesian': 5769, 'meanwhile': 6997, 'athletic': 1264, 'dire': 3471, 'doubling': 3683, '2021': 225, 'impeachment': 5651, 'hears': 5318, 'gops': 5010, 'bet': 1593, 'marginal': 6872, 'woodrow': 12063, 'stems': 10480, 'kicker': 6275, 'asian': 1216, 'lows': 6736, 'disadvantage': 3483, 'carl': 2104, 'user': 11579, 'dodging': 3623, 'kyl': 6359, '524': 429, 'presiding': 8558, 'hurtling': 5568, 'touted': 11172, 'hardcover': 5243, 'auditor': 1304, 'finances': 4514, 'oreilly': 7790, 'factorand': 4325, 'bybilloreilly': 1990, '2nd': 301, 'suing': 10662, 'speak': 10289, 'hamburgers': 5204, 'filler': 4504, 'cleansed': 2420, 'ammonia': 997, 'stomach': 10514, 'intestinal': 5938, 'improper': 5680, 'countering': 2890, 'extremism': 4305, 'renaming': 9214, 'potent': 8457, 'yesteryear': 12143, '355': 338, 'prolife': 8681, 'apologize': 1094, 'beltline': 1557, 'intersects': 5926, 'marta': 6901, 'automatically': 1331, 'olsen': 7720, 'devastating': 3398, 'chairs': 2238, 'bracelets': 1797, 'grayson': 5077, 'retention': 9364, 'infrastructural': 5811, 'djt': 3605, 'cnbc': 2468, 'renegotiated': 9221, 'denmark': 3299, 'vapor': 11628, 'final': 4510, 'saysruben': 9697, 'kihuen': 6283, 'renaissance': 9212, 'battlefields': 1491, 'pitts': 8291, 'lieutenants': 6587, 'competitor': 2593, 'connecticuts': 2700, 'slot': 10140, 'lies': 6585, 'overtime': 7911, 'passively': 8052, 'stepped': 10485, 'advocacy': 792, 'gee': 4882, 'raked': 8915, 'whistleblowers': 11949, 'sauk': 9661, 'wednesday': 11886, 'dabbled': 3070, 'conspiracy': 2728, 'theories': 11010, '143': 74, 'tout': 11171, 'links': 6631, 'jailed': 6070, 'abramoff': 620, 'megabanks': 7032, 'advantages': 780, 'upgrading': 11548, 'instituting': 5870, 'duplication': 3790, 'clothing': 2461, 'grades': 5042, 'studying': 10593, 'amajority': 970, 'embraced': 3943, 'supportedamnesty': 10704, 'hiking': 5399, 'winnebago': 12005, 'doug': 3685, 'mckillips': 6981, 'deserve': 3354, 'refund': 9108, 'vacancies': 11596, 'gonzales': 5000, 'rauner': 8969, 'frustrations': 4775, 'applicants': 1115, 'blog': 1687, 'carpet': 2112, 'subpar': 10614, 'score': 9755, 'instructions': 5877, 'bogged': 1722, 'suggests': 10659, 'dubai': 3764, 'producers': 8642, 'retires': 9371, 'boswell': 1770, 'carnahan': 2107, 'critz': 2984, 'demanded': 3279, 'dildos': 3455, 'holidays': 5447, 'daughters': 3117, 'naive': 7386, 'throws': 11071, 'extraordinary': 4302, 'democratically': 3285, '630': 463, 'harmed': 5253, 'doyles': 3705, 'travels': 11251, 'diplomacy': 3467, 'dial': 3422, 'tone': 11134, 'showhillary': 10024, 'flipped': 4595, 'inspection': 5851, 'hartsfield': 5262, 'terminal': 10940, 'exclusive': 4199, 'censor': 2200, 'criticize': 2980, 'ofa': 7673, 'sincebarack': 10078, 'whine': 11947, 'bearing': 1505, 'isto': 6050, 'roll': 9505, 'roadmap': 9471, '2060s': 236, 'unthinkable': 11528, 'raiser': 8911, 'cruzsaid': 3010, 'inflating': 5798, 'tires': 11107, 'ups': 11554, 'bbq': 1497, 'assist': 1242, 'buying': 1987, 'surrogate': 10730, 'boosted': 1749, 'heavens': 5326, 'advertise': 781, 'method': 7083, 'evaluating': 4145, 'questionnaires': 8845, 'gridlocked': 5098, 'rein': 9154, 'bolted': 1725, 'windows': 11999, '228': 255, 'filipino': 4501, 'thehousebudget': 11000, 'anthropology': 1061, 'engineering': 4027, 'suspect': 10750, 'robbery': 9481, 'msnbc': 7329, 'practically': 8476, 'revelation': 9386, 'pressing': 8561, 'movement': 7317, 'friday': 4754, 'remained': 9192, '381': 354, 'la': 6362, 'crosse': 2991, 'exit': 4226, 'surrounded': 10733, 'rocking': 9495, 'extricated': 4308, 'islander': 6030, 'spiritual': 10330, 'rod': 9497, 'parsley': 8014, 'founding': 4704, 'gelbers': 4885, 'disqualify': 3562, 'windshield': 12001, 'gunter': 5159, 'drain': 3713, 'dukakis': 3779, 'rejection': 9165, 'cheat': 2287, 'defies': 3238, 'logic': 6685, 'diana': 3425, 'maldonado': 6813, '330': 323, 'saidas': 9600, 'guardian': 5134, 'survivor': 10746, 'parkinsons': 8009, 'glaucoma': 4965, 'associate': 1248, 'commuter': 2571, 'atms': 1270, 'wash': 11820, 'butter': 1978, 'jelly': 6094, 'sandwich': 9639, 'outstripping': 7863, 'interned': 5919, 'treuhaft': 11279, 'jurisdictions': 6192, 'surcharge': 10715, 'disabilities': 3480, 'downgraded': 3694, 'bbb': 1496, 'junk': 6188, 'match': 6927, 'exposed': 4281, 'platinum': 8320, 'usda': 11573, 'seed': 9816, 'sterilized': 10488, 'courageous': 2905, 'restraint': 9345, 'furious': 4810, 'shades': 9930, 'racetrack': 8871, 'unbelievable': 11412, 'sounds': 10258, 'zombie': 12188, 'apocalypse': 1092, 'sucked': 10644, 'bit': 1652, 'enrollee': 4043, 'actor': 714, 'dwayne': 3798, 'wore': 12071, 'shirt': 9989, 'stating': 10445, 'kneel': 6320, 'theinsurance': 11001, 'umpqua': 11400, 'fatal': 4389, 'crct': 2944, 'expectations': 4241, 'outsourced': 7857, 'qualifies': 8834, 'unaccountable': 11405, 'proving': 8767, 'sanger': 9643, 'judas': 6166, 'goat': 4983, 'principals': 8594, 'implicated': 5659, 'vows': 11753, 'institute': 5867, 'dartmouth': 3107, 'medicaids': 7014, 'obamacares': 7621, 'emit': 3953, 'rutgers': 9581, 'montclair': 7262, 'stockton': 10510, 'rowan': 9545, 'paterson': 8062, 'benson': 1577, 'unhealthy': 11469, 'farther': 4379, 'hewent': 5376, 'isunder': 6051, 'cumulatively': 3028, 'pioneers': 8279, 'kentuckians': 6254, 'bashar': 1469, 'russian': 9577, 'mint': 7168, 'coin': 2490, 'gig': 4937, 'salem': 9615, 'expectancy': 4239, 'mossad': 7293, 'shin': 9982, 'engineers': 4028, 'peyton': 8217, 'manning': 6851, 'struggles': 10583, 'membership': 7044, 'optional': 7774, 'remarkable': 9195, 'executed': 4203, 'onthe': 7737, 'dodgers': 3622, 'malfeasance': 6817, 'contagious': 2754, 'transmissible': 11233, 'fooled': 4638, 'villain': 11693, 'batman': 1483, 'movie': 7319, 'bane': 1417, 'voluntary': 11736, 'questioned': 8843, 'nerve': 7468, 'abstinence': 630, 'americanscan': 989, 'cranstons': 2938, 'retiree': 9367, 'blunt': 1703, 'inserts': 5841, 'giant': 4930, 'philip': 8228, 'morris': 7282, 'blunts': 1705, 'girlfriend': 4950, 'mocked': 7221, 'ethiopia': 4134, 'heller': 5344, 'lunches': 6747, 'ineligible': 5779, 'racially': 8874, 'ethnically': 4136, 'wise': 12021, 'omalley': 7723, 'acknowledged': 689, 'selectors': 9840, 'relocate': 9184, 'shun': 10034, 'shop': 10002, 'prosecutions': 8725, 'failures': 4339, 'matt': 6940, 'bevin': 1601, 'meg': 7030, 'memo': 7045, 'directs': 3478, 'pipe': 8281, 'byrne': 1992, 'outbound': 7830, 'traditionally': 11199, '1940': 145, 'germans': 4916, 'recidivism': 9027, 'climbing': 2441, '610': 457, 'obamaphones': 7624, 'gut': 5161, '854': 547, '489': 407, 'jeopardizing': 6100, 'regularly': 9135, 'floridian': 4606, 'announcement': 1047, 'anwar': 1073, 'awlakis': 1356, 'chosen': 2341, 'cyberattacks': 3063, 'buffalos': 1910, 'solarcity': 10208, 'andrew': 1021, 'cuomo': 3029, 'credits': 2959, 'daniels': 3100, 'groundwork': 5114, 'teamed': 10884, 'unleashes': 11497, 'benediction': 1566, 'invocation': 5979, 'silence': 10066, 'extortion': 4298, 'prohibitions': 8671, 'outlawing': 7841, 'shunned': 10035, 'bathrooms': 1481, 'das': 3108, 'wood': 12061, 'joking': 6145, 'sizes': 10102, 'lyin': 6755, 'histv': 5422, 'generations': 4895, 'trial': 11281, 'photographedwith': 8241, 'harvey': 5265, 'oswald': 7816, 'retaining': 9360, '103': 25, 'aggie': 847, 'tattoo': 10861, 'parental': 7999, 'teaches': 10880, 'placement': 8297, 'renewal': 9224, 'calculated': 2009, 'citywide': 2390, 'hotline': 5517, 'abc': 592, 'overpass': 7890, 'tysons': 11382, 'corner': 2846, 'granted': 5066, 'preborn': 8492, 'aronbergs': 1192, 'asst': 1251, 'ag': 832, 'standardized': 10412, 'lend': 6520, 'credence': 2955, 'signing': 10063, 'tourist': 11169, 'disappearing': 3491, 'spiraling': 10328, 'squeezing': 10375, 'seneca': 9861, 'timber': 11093, 'aiming': 871, 'logging': 6684, 'allay': 924, 'fears': 4412, 'shifted': 9981, 'asks': 1222, 'retooled': 9373, 'avid': 1345, 'outward': 7865, 'hoped': 5490, 'piracy': 8285, 'counterfeiting': 2889, 'mix': 7212, 'unwanted': 11540, 'advances': 777, 'deputy': 3340, '435': 380, 'cardiologists': 2093, 'heated': 5323, 'individually': 5767, 'fromsolantic': 4768, 'brochures': 1866, 'michele': 7102, 'bachmann': 1367, 'blame': 1665, 'renewals': 9225, 'thors': 11046, 'hammer': 5206, 'coalition': 2476, 'toxic': 11184, 'churns': 2361, 'giants': 4931, 'chevron': 2311, 'shell': 9966, 'valero': 11614, 'averaging': 1342, 'fold': 4627, '48m': 408, 'dept': 3338, 'partiers': 8025, 'contrarily': 2785, 'concerned': 2636, 'wiretappings': 12014, 'briefings': 1849, 'ruse': 9570, 'offend': 7675, 'pm': 8349, 'beside': 1590, 'index': 5749, 'alice': 913, 'rivlin': 9467, 'stimulate': 10503, 'nikki': 7520, 'haley': 5191, 'shots': 10014, 'hypotheticals': 5587, 'jihadi': 6118, 'germany': 4917, 'reined': 9155, 'duck': 3768, 'penises': 8141, 'publications': 8779, 'tossup': 11155, 'usual': 11584, 'dems': 3293, 'rig': 9434, 'louie': 6721, 'gohmert': 4990, 'theater': 10991, 'judeo': 6167, 'agreements': 855, 'painful': 7958, 'satellites': 9653, 'fires': 4545, 'forests': 4668, 'environmentalists': 4074, 'relates': 9167, 'initiated': 5823, 'aerial': 797, 'wolves': 12050, '78': 517, '269': 281, 'conference': 2663, 'phrase': 8248, 'error': 4099, 'flagged': 4575, 'endured': 4009, 'lifetimes': 6594, 'depending': 3315, 'confiscating': 2677, 'ira': 5998, 'strengthen': 10556, '832': 540, 'insures': 5887, 'expenditure': 4245, 'daiquiri': 3077, 'californians': 2016, 'excludes': 4196, 'themto': 11007, 'signers': 10059, 'ct': 3015, 'timetable': 11099, 'cincinnati': 2368, 'sellwood': 9847, 'mediocre': 7023, 'structurally': 10581, 'deficient': 3234, 'functionally': 4789, 'obsolete': 7643, 'mainstream': 6798, '1981': 177, 'beachs': 1501, 'seemingly': 9823, 'endless': 3996, 'decimated': 3177, 'thin': 11031, '179': 108, 'beings': 1541, 'dinner': 3461, '1997': 194, '8th': 558, '1835': 118, 'idaho': 5594, 'christine': 2350, 'capable': 2072, 'accepts': 652, 'obstruction': 7645, '241': 267, '295': 299, 'overcrowded': 7875, 'decreases': 3193, 'probability': 8619, '220': 251, 'untagged': 11527, 'alligator': 937, 'lobbying': 6666, 'empirical': 3961, 'monitoring': 7253, '1956': 155, 'asylum': 1258, 'butt': 1976, 'relative': 9172, 'rankings': 8939, 'viewers': 11688, 'hid': 5383, 'motives': 7303, 'bats': 1484, 'schooling': 9737, 'mess': 7075, 'fumes': 4787, 'transition': 11229, 'pardon': 7996, 'decorated': 3190, 'bb': 1495, 'martialed': 6905, 'philippine': 8229, 'insurgents': 5888, 'teamsters': 10887, 'slam': 10119, 'dunk': 3787, 'mill': 7132, 'ghosts': 4927, 'racism': 8876, 'conviction': 2816, 'greatest': 5080, 'station': 10446, 'unequivocally': 11459, 'reining': 9156, 'judgment': 6171, 'ogden': 7702, 'crafted': 2931, 'robin': 9485, 'skyrocket': 10116, 'freedoms': 4738, 'manual': 6853, 'manipulating': 6846, 'knows': 6331, 'talks': 10832, 'guise': 5151, 'undisclosed': 11451, 'mcdonnellsbudget': 6976, 'plantakesmoney': 8312, 'yougov': 12153, 'regret': 9133, 'imf': 5630, 'mistake': 7203, 'internationally': 5918, 'geared': 4879, 'transfer': 11223, 'invited': 5977, 'dancing': 3095, '240': 266, 'wedlock': 11885, 'stoned': 10516, 'adulteryand': 772, 'exercises': 4216, 'someplace': 10236, 'oakleys': 7616, 'thewater': 11024, 'cromnibus': 2985, 'derivatives': 3346, 'kewpie': 6262, 'burgers': 1940, 'delicious': 3268, 'theyll': 11027, 'overweight': 7915, 'fluoridation': 4619, 'nazi': 7424, 'ghettos': 4926, 'pacify': 7940, 'jews': 6115, 'rooftop': 9519, 'solars': 10209, 'hardware': 5248, 'britsare': 1861, 'spotting': 10353, 'choppers': 2338, 'deserves': 3356, 'vowed': 11752, 'donaldtrump': 3654, 'kirkpatrick': 6304, 'violates': 11698, 'deprived': 3336, 'sweden': 10773, '728': 493, 'saidsonia': 9603, 'excellent': 4184, 'altered': 960, 'beyond': 1604, 'allegation': 925, 'badger': 1382, 'ancestors': 1015, 'deposits': 3332, 'condo': 2654, 'cubicle': 3020, 'prostitution': 8735, 'allegedly': 928, 'renaccis': 9211, 'brooks': 1873, 'contracted': 2780, 'executions': 4205, 'predator': 8503, 'perpetrated': 8182, 'travesty': 11252, '50s': 421, 'endorsement': 4000, 'contest': 2764, 'prioritize': 8600, 'kkk': 6314, 'johnny': 6135, 'threats': 11058, 'woodpecker': 12062, 'cage': 2001, 'discharged': 3501, 'translators': 11232, 'moments': 7244, 'fetched': 4465, 'lbj': 6459, 'waronpoverty': 11810, 'yrs': 12167, 'betterway': 1596, 'flopping': 4602, 'dohertys': 3632, 'shape': 9940, 'responding': 9333, 'brilliant': 1851, 'motel': 7297, 'sakineh': 9608, 'mohammadi': 7235, 'ashtiani': 1214, 'stoning': 10517, 'prizes': 8616, 'battleground': 1492, 'untrustworthy': 11534, 'shanghai': 9939, 'london': 6689, 'promotional': 8694, 'balls': 1413, 'tiller': 11090, 'merely': 7067, 'prolifers': 8683, 'quotes': 8864, 'cuban': 3017, 'cornell': 2845, 'concludes': 2643, 'affecttheir': 806, '112th': 40, 'boost': 1748, 'roadway': 9474, 'safely': 9594, 'subjugation': 10609, 'simac': 10069, 'pembroke': 8132, 'pines': 8273, 'ranches': 8927, 'conclusion': 2644, 'bombs': 1732, 'resistant': 9319, '111th': 38, 'congresses': 2693, 'hated': 5280, 'competitiveness': 2592, 'honeymoon': 5479, '1988': 184, 'ballparks': 1412, '1983': 179, 'unsafe': 11519, 'aryan': 1210, 'organic': 7791, 'eggs': 3875, 'nutritious': 7610, 'offerings': 7684, 'gaspard': 4863, 'bertha': 1588, '87': 552, 'carcasses': 2090, 'generic': 4897, 'coli': 2496, 'packaging': 7944, 'provider': 8762, '277': 288, 'potato': 8456, 'pest': 8201, 'downgrade': 3693, 'upgrades': 11547, 'disastrous': 3498, 'mutual': 7370, 'firemen': 4544, 'soros': 10250, 'bioweapons': 1639, 'leone': 6529, 'wedding': 11884, 'cakes': 2006, 'diapers': 3428, 'marti': 6903, 'stuffed': 10595, 'astonishing': 1255, '335': 327, 'sunshine': 10678, 'throwing': 11069, 'saysgov': 9685, 'incorrectly': 5725, 'birmingham': 1643, 'cradle': 2929, 'budgeting': 1905, 'amtraks': 1010, 'acela': 682, 'riders': 9426, 'dnr': 3609, 'hunters': 5559, 'mismanaged': 7188, 'herd': 5361, 'dwindled': 3801, 'hoosiers': 5486, 'fit': 4561, 'prohibits': 8672, 'benefitted': 1572, 'operate': 7745, 'bankrolling': 1424, 'humongous': 5551, 'customers': 3050, 'protecting': 8738, 'kelodecision': 6243, 'steyer': 10497, 'acalifornia': 643, 'alberta': 900, 'darling': 3104, 'unqualified': 11513, 'patten': 8078, 'kicked': 6274, 'russo': 9580, 'entrance': 4067, 'op': 7739, 'airs': 881, 'stuart': 10585, 'tribute': 11285, 'abject': 602, 'guardsmen': 5137, 'heres': 5363, 'schiano': 9727, 'execute': 4202, 'nobodys': 7531, 'addicted': 728, 'temporarily': 10922, 'galveston': 4834, 'holt': 5454, 'gutting': 5165, 'keene': 6232, 'armored': 1187, 'citing': 2382, 'pumpkin': 8791, 'legion': 6499, 'tougher': 11164, 'stone': 10515, 'indebtedness': 5740, 'designers': 3362, 'manager': 6828, 'hazardous': 5295, 'materials': 6933, 'grateful': 5072, 'technically': 10896, 'buffalo': 1909, 'careless': 2100, 'economyis': 3848, 'asbig': 1212, 'actors': 715, 'assertion': 1236, 'magazines': 6782, 'latinas': 6425, 'playoff': 8328, 'unloading': 11502, 'amassing': 973, 'strength': 10555, 'motion': 7300, 'censure': 2202, 'systemic': 10806, 'wiretaps': 12015, 'implementing': 5658, 'surgeon': 10720, 'translate': 11230, 'hypocrite': 5585, 'aggressively': 849, 'afraid': 824, 'indigent': 5765, '2301': 259, 'revokes': 9397, 'retains': 9361, 'differed': 3444, 'comic': 2532, 'kits': 6310, 'pope': 8407, 'francis': 4722, 'saint': 9606, 'kingston': 6300, 'neighbors': 7464, 'fifa': 4480, 'pressured': 8563, 'budweiser': 1907, 'leticia': 6539, 'putte': 8823, 'delegation': 3264, 'exploration': 4269, 'nics': 7513, 'globalist': 4971, 'obamatrade': 7628, 'flop': 4600, 'dickens': 3430, '145': 76, 'suction': 10645, 'entrapment': 4068, 'swimming': 10779, 'pools': 8400, 'spas': 10285, 'dedicate': 3198, 'steer': 10475, 'australia': 1315, '11and': 47, 'morrissey': 7283, 'delegate': 3261, 'circumcision': 2374, 'waivers': 11771, 'westlund': 11918, 'patridge': 8071, 'shetterly': 9978, 'lundquist': 6749, 'fairly': 4342, '210': 243, 'breakfasts': 1825, 'doughnuts': 3687, 'glen': 4968, 'sturtevant': 10597, '803': 526, 'lifting': 6597, 'dakota': 3081, 'heinous': 5337, 'intentional': 5901, 'disfigurement': 3532, 'boyd': 1791, 'listen': 6641, 'burying': 1957, 'formulated': 4683, 'peterson': 8209, 'elusive': 3928, 'staunch': 10458, 'defender': 3227, 'furniture': 4812, 'frames': 4716, '033': 7, 'pardons': 7997, 'commutations': 2569, 'clemencies': 2428, 'trek': 11271, 'fingerprint': 4527, 'solving': 10227, 'plug': 8341, 'gillnets': 4941, 'inland': 5830, 'voice': 11728, 'hustleshows': 5575, 'bribes': 1844, 'approving': 1144, 'ipads': 5992, 'iphones': 5994, 'dubious': 3766, 'digital': 3451, 'atlantans': 1266, 'commuting': 2573, 'cathedral': 2158, 'archdiocese': 1154, 'parishes': 8004, 'climatic': 2438, 'mails': 6794, 'debunked': 3161, 'pps': 8475, 'sinks': 10084, 'firsts': 4552, 'overstayed': 7907, 'capabilities': 2070, 'calm': 2023, 'sets': 9904, 'automotive': 1333, 'hatred': 5282, 'ineradicably': 5781, '331': 325, 'nusbaum': 7607, 'interviewed': 5935, 'asia': 1215, 'braking': 1810, 'semitic': 9853, 'motivation': 7302, 'kosher': 6340, 'producer': 8641, 'wilsonville': 11992, 'bloated': 1681, '376': 350, '857': 549, 'pouring': 8466, 'pioneer': 8278, 'believed': 1547, 'mound': 7310, '290': 295, 'tall': 10833, 'likens': 6606, 'predicament': 8508, 'deduct': 3200, 'maureen': 6947, 'dowd': 3691, 'column': 2518, 'thompsons': 11044, 'homestead': 5468, 'supermax': 10690, '000new': 2, 'yorkers': 12148, 'affirmed': 812, 'resolving': 9322, 'purpose': 8808, 'tellers': 10917, 'peace': 8112, 'darn': 3105, 'doughnut': 3686, 'indicative': 5760, 'trait': 11217, 'surround': 10732, 'reopened': 9232, 'jury': 6194, 'panasonic': 7977, 'relocation': 9186, 'brrag': 1883, 'speculators': 10306, 'freshwater': 4753, 'balfour': 1405, 'spaces': 10276, 'shark': 9948, 'chrisabele': 2343, 'depicts': 3319, 'frontman': 4771, 'truly': 11324, 'presided': 8552, 'faux': 4398, 'acre': 697, 'narrow': 7398, 'linwood': 6633, 'holton': 5455, 'integrated': 5890, 'oust': 7827, 'houthi': 5529, 'rebels': 9009, 'yemen': 12140, 'apear': 1088, 'blatant': 1674, 'disenfranchising': 3531, 'stopping': 10522, 'fincher': 4518, 'genital': 4903, 'mutilation': 7369, 'maher': 6788, 'indication': 5759, 'counselors': 2886, 'woods': 12065, 'topics': 11148, 'havens': 5288, 'hefty': 5334, 'entrepreneurs': 4069, 'urgent': 11564, 'barrows': 1460, 'coyote': 2922, 'multiply': 7343, '280': 291, '024': 5, 'wholly': 11959, 'surveil': 10736, 'calculations': 2010, 'carroll': 2118, '3666': 346, 'stephanopoulos': 10483, '4608': 397, 'successor': 10642, 'republicam': 9272, 'hanover': 5226, '11023': 37, 'biography': 1636, '114': 42, '2096': 239, 'pundits': 8794, 'columnist': 2519, 'roundtable': 9541, '12853': 58, '12670': 56, 'condemning': 2650, 'urging': 11565, 'markedly': 6880, '1508': 81, 'sidney': 10051, 'blumenthal': 1702, 'seller': 9843, 'parking': 8008, 'tripling': 11304, 'candidatemarilinda': 2056, 'pong': 8396, 'invaders': 5953, 'iphone': 5993, 'ratepayers': 8954, 'distracted': 3577, 'roadways': 9475, 'mineral': 7151, 'chess': 2307, 'grandmasters': 5060, 'exorbitant': 4230, 'deductibles': 3203, 'fdic': 4409, 'solitary': 10218, '451': 391, 'corbett': 2838, 'infested': 5793, 'fernandez': 4457, 'migrants': 7118, 'schemer': 9725, 'rothstein': 9533, 'punished': 8796, 'exercising': 4217, 'banking': 1423, 'bailed': 1391, 'huma': 5545, 'abedin': 594, 'brotherhood': 1876, 'encourage': 3986, 'relies': 9181, 'abolition': 609, 'casting': 2146, 'message': 7076, 'machine': 6766, 'macginnitie': 6764, 'councilman': 2883, '789': 521, 'refundable': 9109, 'massively': 6923, 'whack': 11921, 'economys': 3849, 'shocked': 9991, 'asleep': 1223, 'almanac': 947, 'profiles': 8656, 'complications': 2607, 'er': 4090, 'sherwin': 9976, 'taxation': 10866, 'increment': 5733, 'learned': 6474, 'hacking': 5178, 'evolution': 4167, 'smitherman': 10165, 'generals': 4890, 'lecture': 6484, 'dioxide': 3464, 'emitted': 3954, 'chemicals': 2303, 'apples': 1113, 'cook': 2818, 'lindsay': 6624, 'parkhurst': 8007, 'intervenors': 5931, 'falk': 4348, 'continent': 2767, 'redesigned': 9069, 'mcmansion': 6985, 'comparison': 2584, 'funnels': 4807, 'morning': 7278, 'hln': 5428, 'recalled': 9016, 'backrooms': 1376, 'rodent': 9499, 'infestations': 5792, 'drainage': 3714, 'ditch': 3588, 'navigable': 7421, 'thus': 11076, 'wheretheres': 11940, 'syndicate': 10795, 'extorting': 4297, 'ganleys': 4846, 'fbis': 4405, 'hiding': 5386, 'disclosed': 3504, 'believeinsocialism': 1548, 'chores': 2339, 'observer': 7641, 'acquisition': 696, 'mcnultys': 6986, 'orp': 7809, 'erode': 4097, 'towpath': 11183, 'canal': 2045, 'loyalty': 6737, 'oath': 7617, 'maxine': 6955, 'retract': 9374, 'gonzalo': 5002, 'curiel': 3041, 'outlive': 7845, 'fertility': 4460, 'woodstock': 12066, 'concert': 2638, 'contends': 2762, 'endorses': 4003, 'broader': 1865, 'rampant': 8924, 'redevelop': 9070, 'menomonee': 7054, 'jurors': 6193, 'witnesses': 12041, 'trials': 11282, 'excuse': 4201, 'boccieris': 1715, 'irregular': 6010, 'schedules': 9722, 'undeniable': 11425, 'nh': 7507, 'greensboro': 5090, 'revive': 9394, 'faltering': 4358, 'microchips': 7109, 'seceding': 9796, 'thecbo': 10994, 'saysthe': 9700, 'originallyprojected': 7804, 'heath': 5324, 'broadcast': 1864, 'metrics': 7086, 'hover': 5531, 'terroristsfriends': 10954, 'girlfriends': 4951, 'stateswere': 10443, 'viewisis': 11689, 'favorably': 4400, 'unfortunately': 11465, 'rivera': 9465, 'spencer': 10312, 'bachus': 1368, 'percentincrease': 8161, 'heterosexual': 5374, 'overstaying': 7909, 'strict': 10562, 'jumpstarting': 6185, 'propose': 8714, 'trickle': 11287, 'tankers': 10843, 'pipelines': 8283, 'meets': 7029, 'greenland': 5088, 'melted': 7040, 'satellite': 9652, 'observation': 7640, 'thawed': 10986, 'ny': 7611, 'overcounts': 7874, 'compilation': 2595, '427': 376, 'saypresident': 9674, 'helpless': 5351, 'slept': 10132, '431': 379, 'begged': 1529, 'landed': 6390, 'greet': 5093, 'prestigious': 8565, 'josef': 6157, 'stalin': 10403, 'replicate': 9253, 'billed': 1626, 'revolving': 9401, 'blankfein': 1671, 'janice': 6079, 'hahn': 5185, 'wikipedia': 11979, 'unequal': 11457, 'distribution': 3582, 'nunns': 7602, 'addictive': 730, 'chafee': 2230, 'pam': 7974, 'bondi': 1735, 'indicator': 5761, 'ratios': 8966, 'portugal': 8431, 'smallest': 10154, 'wwii': 12125, 'wwi': 12124, 'residence': 9307, 'realistic': 8992, 'populationin': 8413, 'workman': 12078, 'hungry': 5557, 'insiders': 5844, 'ibm': 5588, 'translates': 11231, 'occupant': 7654, 'impeach': 5649, '1998': 195, 'graders': 5041, 'streetsign': 10554, 'accountant': 670, 'reclaimed': 9033, 'complex': 2603, 'propositions': 8720, 'musical': 7362, 'heritage': 5364, 'griffith': 5099, 'officeholders': 7687, 'sanctioned': 9630, 'shortest': 10010, 'intrusive': 5949, 'donating': 3658, 'uniform': 11471, 'entanglements': 4052, 'disagreed': 3486, 'saidhewould': 9601, 'neutral': 7481, 'physical': 8249, 'fitness': 4562, 'reimbursement': 9152, 'ciancis': 2363, 'plotted': 8336, '902': 561, '2022': 226, 'hardworking': 5249, 'virginians': 11708, 'tennesseans': 10931, 'swiss': 10783, 'ring': 9444, 'surveyed': 10740, 'deqs': 3341, 'disproportionate': 3556, 'robbed': 9479, 'dui': 3778, 'thwarted': 11078, 'pediatricians': 8125, 'proximity': 8771, 'thc': 10987, 'surpass': 10724, 'lifeby': 6589, 'apostle': 1097, 'lakeshore': 6383, 'caves': 2177, 'scraping': 9765, 'prescribers': 8544, 'oxycodone': 7931, '02': 4, 'importing': 5667, 'dairyland': 3080, 'cheesemakers': 2300, 'bankrupting': 1428, 'answers': 1058, 'truthful': 11335, '420': 374, 'barber': 1441, 'wasgovernor': 11819, 'seizing': 9832, 'bibles': 1608, 'tractor': 11193, 'teens': 10907, 'corey': 2842, 'mcginty': 6977, 'alarming': 894, 'undercurrent': 11429, 'misinformed': 7186, 'metric': 7085, 'batting': 1488, 'instill': 5866, 'determined': 3389, 'attitudes': 1288, 'mindsets': 7149, 'trailing': 11210, 'ratification': 8957, 'treaties': 11262, 'gloria': 4974, 'steinem': 10477, 'impersonator': 5652, 'nolan': 7533, 'harmony': 5255, 'liberties': 6565, 'telecast': 10910, 'proceedings': 8629, 'enrolling': 4045, 'triggers': 11293, 'designation': 3360, 'guzzling': 5168, 'dinosaurs': 3463, 'waited': 11766, 'reject': 9162, 'constant': 2731, 'sore': 10249, 'infects': 5791, 'teenaged': 10904, 'locker': 6678, 'kick': 6272, 'bioweapon': 1638, 'gmo': 4978, 'mosquitos': 7292, '1908': 128, 'mileage': 7124, 'suv': 10761, 'citrus': 2386, 'landfill': 6391, 'nashua': 7403, 'cited': 2379, '3c': 360, 'passengers': 8048, '1935': 142, 'somali': 10230, 'delaware': 3256, 'weatherization': 11875, 'fits': 4563, 'isn': 6035, 'algeria': 911, 'oman': 7724, 'lights': 6602, 'shelly': 9969, 'moore': 7268, 'withdrawn': 12032, 'transferred': 11224, 'delivery': 3274, 'draws': 3727, '405': 368, 'hasner': 5272, 'unequivocal': 11458, 'juice': 6176, 'drinks': 3738, 'disproportionately': 3557, 'addressing': 737, 'kip': 6302, 'kinkel': 6301, 'rita': 9460, 'difficulties': 3449, 'penalize': 8134, 'criminalize': 2968, 'constrained': 2739, 'firstenergys': 4551, 'kyrgyzstan': 6360, 'iceland': 5591, 'predecessor': 8506, 'libertarian': 6564, 'youths': 12164, 'glarus': 4962, 'brewing': 1839, 'spotted': 10352, 'cow': 2920, 'mahlon': 6789, 'boycott': 1789, 'content': 2763, 'speakers': 10291, 'radicalized': 8887, 'waushara': 11849, '2020': 224, 'seth': 9902, 'magaziner': 6781, 'retrofitted': 9376, 'educational': 3860, 'foundations': 4700, 'commented': 2538, 'lists': 6643, 'battery': 1487, 'screwdriver': 9774, 'pressurized': 8564, 'hose': 5505, 'hosni': 5506, 'mubaraks': 7333, 'besides': 1591, 'homeowner': 5464, 'headlines': 5305, 'syrians': 10801, 'laredo': 6408, 'connections': 2703, 'defaulted': 3218, 'oclock': 7665, 'misquoted': 7191, 'promptly': 8696, 'scenario': 9718, 'minded': 7146, 'govern': 5024, 'sovereign': 10269, 'promotes': 8692, 'chart': 2278, 'photographed': 8240, 'fear': 4411, 'sons': 10245, 'robs': 9490, 'toe': 11117, 'russias': 9579, 'stockpile': 10508, 'nearlyone': 7434, 'enactment': 3982, 'barr': 1449, 'louisianas': 6724, 'titled': 11109, 'orleans': 7807, 'patty': 8082, 'prolific': 8684, 'slowdown': 10145, 'exporter': 4277, 'agricultural': 857, 'gramm': 5054, 'architect': 1156, 'wi': 11967, 'institutionalization': 5872, 'developmental': 3405, 'spillover': 10322, 'escalating': 4104, 'paula': 8084, 'deen': 3209, 'creflo': 2962, 'percentlower': 8162, 'says76': 9677, 'weld': 11900, 'develop': 3400, 'upstream': 11558, 'hers': 5369, 'windfall': 11995, 'councilor': 2884, 'swindled': 10780, 'funnel': 4804, 'debo': 3155, 'adegbile': 739, 'circuit': 2371, 'abruptly': 622, 'pls': 8340, 'refer': 9087, 'hodes': 5433, 'palestinians': 7968, 'killeen': 6286, 'corrupted': 2864, 'macys': 6771, 'poliquin': 8374, 'tier': 11085, 'ut': 11586, 'wandering': 11787, 'antitrust': 1069, 'pow': 8468, 'fashioning': 4382, 'inspirational': 5854, 'symbol': 10790, 'pows': 8474, 'mt': 7330, 'lessen': 6535, 'satisfaction': 9654, 'convert': 2810, 'empty': 3973, 'controlling': 2799, 'guarantees': 5132, 'lap': 6406, 'pound': 8463, 'mph': 7322, 'packs': 7948, 'punch': 8793, 'austinites': 1313, 'regions': 9125, 'priests': 8586, 'beheaded': 1538, '168k': 97, 'removes': 9208, 'peachtree': 8116, 'pine': 8271, 'matters': 6943, 'kidney': 6281, 'binge': 1635, 'manipulation': 6847, 'inflated': 5797, 'playboy': 8322, 'networking': 7476, 'needless': 7445, 'pure': 8805, 'katy': 6226, 'freeway': 4742, 'widest': 11973, 'frontage': 4770, 'dumps': 3785, 'upgraded': 11546, 'immigrate': 5637, 'moammar': 7216, 'gadhafi': 4821, 'westchester': 11914, '271': 284, 'discredited': 3515, 'refinanced': 9097, '232': 260, 'uphold': 11550, '136': 66, 'busted': 1972, 'polled': 8384, 'impression': 5674, 'swift': 10777, 'mindless': 7147, 'drawdown': 3723, 'burdensome': 1933, 'cashier': 2137, '680': 479, 'converted': 2811, 'christianity': 2346, 'walgreens': 11775, 'outlaws': 7842, 'arvada': 1209, 'hydrogen': 5582, 'sulfide': 10666, 'tailgating': 10817, 'glass': 4963, 'steagall': 10467, '454': 392, 'comprise': 2615, 'boarding': 1708, 'dynamite': 3804, 'ak': 885, 'miscarry': 7181, 'husted': 5574, 'steakhouses': 10469, 'is3': 6015, 'taller': 10835, 'gulag': 5152, 'fiscally': 4556, 'pridemore': 8584, 'missiles': 7195, 'prize': 8615, 'winners': 12007, 'afloat': 823, 'fat': 4387, 'avowed': 1349, 'exempting': 4211, 'sticking': 10499, 'jammed': 6075, 'neighbor': 7460, 'chickens': 2316, 'unturned': 11536, 'tighten': 11087, 'belts': 1558, 'aaa': 584, 'grassley': 5070, 'negligent': 7454, 'loading': 6659, 'iq': 5997, 'spew': 10317, 'deepwaters': 3215, 'zandi': 12174, 'solo': 10219, 'ingles': 5814, 'hungriest': 5556, 'measurably': 6999, 'excise': 4192, 'burdening': 1932, 'tabulation': 10810, 'payouts': 8106, 'secretaries': 9802, 'persisting': 8190, 'succeeding': 10637, 'valuable': 11620, '520': 427, 'ukrainians': 11394, 'absentee': 625, 'climb': 2439, 'ladder': 6373, 'disasters': 3497, 'spares': 10282, 'unused': 11537, 'sixteen': 10097, 'empowered': 3972, 'postage': 8445, 'gavel': 4872, 'utilities': 11588, 'consumed': 2747, 'bonditold': 1737, 'tracker': 11191, 'fivethirtyeight': 4567, 'whoever': 11957, 'salmon': 9618, 'handles': 5217, 'saltwater': 9622, 'highways': 5393, 'lord': 6704, 'calamity': 2007, 'saidthe': 9604, 'concedes': 2628, 'painting': 7960, 'baiting': 1396, 'liberty': 6566, 'penitentiaries': 8142, 'slim': 10136, 'jims': 6123, 'embellished': 3940, 'disposable': 3553, 'locking': 6679, 'estonia': 4128, 'neglect': 7452, 'meth': 7082, 'chet': 2309, 'theatrically': 10993, 'stopgap': 10520, 'declaring': 3183, 'churches': 2360, 'underperformed': 11438, 'transporting': 11240, 'windfarm': 11996, 'impressive': 5675, 'wisely': 12022, 'soglins': 10205, 'intent': 5899, 'discourage': 3510, 'doe': 3624, 'investigations': 5968, 'exceptions': 4187, 'evey': 4163, 'instituted': 5868, 'allegiance': 929, 'interceptions': 5905, 'tackles': 10811, 'defensive': 3231, 'involuntarily': 5981, 'baker': 1397, 'curbs': 3035, 'freeing': 4739, 'proudly': 8753, 'features': 4416, 'component': 2611, 'aspects': 1225, 'blanket': 1670, 'lightning': 6601, 'thanfind': 10974, 'nras': 7590, 'weakened': 11861, 'doubles': 3682, 'triples': 11303, 'heatstroke': 5325, 'deployment': 3321, 'liberia': 6563, 'mall': 6819, 'embedded': 3939, 'hits': 5425, 'sanford': 9642, 'organize': 7795, 'manage': 6825, 'rallies': 8917, 'zimmerman': 12184, 'psychologists': 8776, 'affordability': 815, 'warns': 11809, 'taxman': 10871, 'cometh': 2528, 'enterprise': 4056, 'strawberry': 10546, 'rough': 9535, 'visible': 11715, 'keepsome': 6237, 'hoarding': 5430, 'feral': 4455, 'modest': 7231, 'abroad': 621, 'falsely': 4357, 'citycouncilpasseda': 2388, 'lawbanninglethalrat': 6442, 'trapping': 11244, 'cooper': 2826, 'fran': 4717, 'dewines': 3417, 'scratch': 9766, 'rarely': 8949, 'kings': 6299, 'crack': 2925, 'kohls': 6335, 'discriminatory': 3522, 'scoring': 9759, 'mathematics': 6939, 'ensures': 4050, 'preservation': 8549, 'farmland': 4375, 'foroil': 4684, 'alwaleed': 967, 'talal': 10827, 'acceleration': 646, 'depressed': 3333, 'antidepressant': 1068, 'prototype': 8750, 'garages': 4850, 'arizonans': 1178, 'sacrificing': 9588, 'wrongly': 12120, 'conveyed': 2813, 'stance': 10409, 'infected': 5787, 'questionable': 8842, 'dividends': 3599, 'withheld': 12033, 'document': 3618, 'seizure': 9833, 'revoke': 9395, 'norbert': 7556, 'fool': 4637, 'amending': 982, 'metering': 7081, 'mickey': 7106, 'mouse': 7313, 'adolf': 764, 'valid': 11615, 'signatures': 10056, 'cruzsname': 3011, 'prohibition': 8670, 'apex': 1089, 'longstanding': 6694, 'sidewalks': 10050, 'neglected': 7453, 'maintenance': 6800, 'anheuser': 1036, 'busch': 1959, 'reserving': 9303, 'layer': 6455, 'hayne': 5293, 'outfitters': 7838, 'miss': 7192, 'universe': 11488, 'pageant': 7953, 'defrauded': 3244, 'abortionists': 614, '1789': 107, 'fromcalifornia': 4767, 'stripping': 10573, 'hawaiian': 5292, 'indicates': 5757, 'definition': 3241, 'monarch': 7246, 'butterflies': 1979, 'extinct': 4296, 'withstand': 12038, 'pesticides': 8202, 'egypts': 3879, 'rex': 9405, 'afc': 798, 'preventative': 8572, 'wellness': 11904, 'checkups': 2295, 'steelworkers': 10473, 'buried': 1942, 'fundraisers': 4799, 'tenet': 10929, 'notice': 7578, 'horn': 5498, 'ballooned': 1408, 'austinincluding': 1312, 'anderson': 1020, 'definitions': 3242, 'taliban': 10828, 'loosely': 6702, 'robinson': 9486, 'gauges': 4870, 'measuring': 7003, '1930': 140, 'beirut': 1542, 'barracks': 1450, 'skew': 10104, 'smokers': 10169, 'elizabeth': 3920, 'mvc': 7372, 'earmarker': 3812, 'renovate': 9226, 'blueberry': 1698, 'snowmobile': 10183, 'cousin': 2913, 'happily': 5233, 'suspending': 10755, 'dictionary': 3433, 'happiness': 5234, 'loaned': 6661, 'reinstate': 9157, 'goeb': 4987, 'debts': 3159, 'custody': 3048, 'outweighs': 7866, 'cumberland': 3027, 'pedophiles': 8127, 'farmer': 4372, 'vegetation': 11638, 'superdelegates': 10684, 'bloggers': 1689, 'voicing': 11729, 'frustration': 4774, 'discontent': 3508, 'administrators': 755, 'explicit': 4263, 'myriad': 7377, 'boy': 1788, 'scouts': 9762, 'speedy': 10310, 'abolishes': 607, 'lgbt': 6555, 'friendship': 4759, 'felon': 4445, 'trick': 11286, 'jobs4tn': 6130, 'persists': 8191, 'negating': 7449, 'affects': 805, 'accruals': 673, 'counterterrorism': 2892, 'granholm': 5063, 'crashed': 2940, 'masters': 6925, 'gladly': 4961, 'violentunder': 11705, 'admin': 748, 'projchildsafe': 8673, 'marcia': 6865, 'fudge': 4778, 'wrapped': 12106, 'pallets': 7971, 'runaway': 9564, 'ailments': 869, 'muscle': 7358, 'spasms': 10286, 'neck': 7439, 'menstrual': 7056, 'cramps': 2935, 'sneeze': 10176, 'bishops': 1651, '1919': 135, 'garlandvoted': 4857, 'fundamental': 4792, 'kentuckian': 6253, 'minorities': 7165, 'molesters': 7239, '1904': 127, 'victor': 11676, '102': 24, 'contenders': 2761, 'introduce': 5946, 'creationism': 2952, 'invites': 5978, 'affluent': 813, 'fanatical': 4364, 'amidst': 995, 'confronted': 2683, 'rigell': 9435, 'inform': 5805, 'absence': 623, 'olens': 7718, 'lazy': 6458, 'offenses': 7679, 'overtesting': 7910, 'decreasing': 3194, 'burton': 1956, '378': 351, 'websites': 11880, 'plates': 8318, 'peta': 8204, 'achieving': 687, 'installations': 5858, 'objection': 7633, 'alfred': 909, 'brissette': 1855, 'unusual': 11538, 'thanthe': 10979, 'severance': 9914, 'sky': 10114, 'dep': 3308, '812': 531, 'faucet': 4395, '1absentee': 197, 'grandfathered': 5059, 'motorist': 7306, 'sentence': 9870, 'airstrikes': 882, 'missions': 7198, 'equally': 4085, 'surged': 10719, 'isissends': 6023, 'messages': 7077, 'crises': 2972, 'koreahas': 6338, 'dozennuclear': 3707, 'closings': 2457, '300k': 304, 'suicides': 10661, 'raila': 8901, 'odinga': 7671, 'videotape': 11682, 'rocky': 9496, 'curfew': 3040, 'ordinances': 7783, 'merkley': 7072, 'unmitigated': 11505, 'sodas': 10200, 'iced': 5590, 'teas': 10891, 'flavored': 4580, 'unchecked': 11416, 'diversions': 3591, 'abillion': 601, 'dollarsout': 3639, 'exacerbated': 4170, 'sadly': 9591, 'turnouts': 11357, 'sponsors': 10345, 'birds': 1642, 'uploaded': 11551, 'selectively': 9839, 'editing': 3853, 'spine': 10324, 'coordinator': 2831, 'hooters': 5487, 'derail': 3342, 'schneider': 9730, 'energized': 4013, 'tab': 10808, 'laundered': 6436, 'laureate': 6438, 'honorary': 5481, 'nsa': 7591, 'distortedwhat': 3575, 'rents': 9229, 'lego': 6512, 'insidious': 5845, 'futile': 4814, 'vitter': 11725, 'activates': 707, 'anticipation': 1066, 'furloughed': 4811, 'reimbursable': 9150, 'fema': 4450, 'lenient': 6525, 'limitless': 6618, 'specified': 10301, 'ismore': 6034, 'appropriated': 1136, 'transcripts': 11221, 'oral': 7777, 'arguments': 1173, 'antonin': 1070, 'scalia': 9708, 'jokes': 6144, 'laughs': 6432, 'raids': 8899, 'dhs': 3418, 'pew': 8216, 'oppressive': 7768, 'narrowed': 7399, 'cop': 2833, 'thereabout': 11014, 'marshals': 6898, 'rangers': 8935, 'hillaryclintons': 5403, 'knights': 6323, 'ceremonies': 2215, 'bombings': 1731, 'scramble': 9763, 'beyonce': 1603, 'eddie': 3852, 'bernice': 1584, 'quietly': 8852, 'mcauliffes': 6965, 'krolicki': 6350, 'annuity': 1052, 'celilo': 2194, 'intimate': 5940, 'vest': 11656, 'groped': 5105, '694': 483, '773': 514, 'newports': 7495, 'fleeing': 4585, 'tuitions': 11344, 'naming': 7393, 'cancel': 2047, 'waldens': 11774, 'evaluation': 4146, 'colas': 2494, 'finds': 4521, 'ate': 1260, 'agreeing': 853, 'derailed': 3343, 'paved': 8090, 'gravel': 5074, 'inheritance': 5817, '08': 16, 'obrien': 7638, 'sayreville': 9675, '081': 17, 'quipped': 8856, 'envision': 4076, 'reneging': 9219, 'schip': 9729, 'aren': 1164, 'cairo': 2005, 'experiences': 4252, 'jong': 6151, 'harwood': 5266, '5802': 447, '6153': 459, '6515': 470, 'crossroads': 2995, '385': 355, 'westerville': 11917, '10932': 33, 'exam': 4174, '5076': 420, 'editorial': 3856, '12189': 52, 'heckler': 5331, 'activist': 710, 'mom': 7242, 'confrontation': 2682, '945': 571, 'magnetic': 6785, 'levitation': 6551, 'halvorson': 5201, 'navigators': 7422, 'maneuver': 6841, 'processes': 8633, 'filing': 4499, 'saysjosh': 9688, 'smartphones': 10158, 'ugly': 11391, 'wider': 11971, 'wells': 11905, 'hating': 5281, 'eckhardt': 3840, 'becomes': 1517, 'prosecute': 8721, 'cyber': 3062, 'harass': 5236, 'cordrays': 2840, 'marks': 6887, 'blaspheming': 1673, 'mohammad': 7234, 'feeding': 4432, 'commended': 2536, 'cleaner': 2416, 'ruins': 9557, 'reign': 9149, 'exponential': 4275, 'ticketing': 11080, 'catholics': 2161, 'unger': 11468, 'busting': 1973, 'badgercare': 1383, 'coggs': 2487, 'classify': 2408, 'specter': 10303, 'fiorinas': 4536, 'felipe': 4442, 'calderon': 2011, 'exempted': 4210, 'acknowledges': 690, 'purchasers': 8802, '16th': 99, 'shellfish': 9968, 'incandescent': 5695, 'bulb': 1916, 'partys': 8037, 'selected': 9835, 'imitation': 5631, 'laurie': 6439, 'monnes': 7256, 'appealing': 1103, '20s': 240, 'substantially': 10629, 'perpetuity': 8183, 'socially': 10195, 'juarez': 6165, 'gimmick': 4943, 'swaziland': 10770, 'infection': 5788, '729': 494, 'isner': 6036, 'mahut': 6792, 'cuellar': 3023, 'incarcerated': 5696, 'harshness': 5261, 'neversaid': 7487, 'opinions': 7755, 'grandmother': 5061, 'judithanne': 6175, 'mclauchlan': 6983, '765': 511, '828': 536, 'pancakes': 7978, 'yuppies': 12171, '675': 477, 'dna': 3607, 'liechtenstein': 6581, 'luxembourg': 6753, 'grabbed': 5036, 'regulation21': 9141, 'municipalities': 7348, 'sympathetic': 10791, 'lesbians': 6532, 'brewpubs': 1840, 'growlers': 5122, 'est': 4116, 'bi': 1605, 'paperwork': 7990, 'absorb': 628, 'mount': 7311, 'rushmore': 9574, '547': 437, 'remedial': 9197, 'andrubio': 1023, 'sgt': 9927, 'hardest': 5245, 'topfive': 11147, 'staged': 10397, 'exercised': 4215, 'cup': 3030, 'commissioned': 2545, 'inconvenient': 5722, 'attackers': 1275, 'mixed': 7213, 'buybacks': 1984, 'burglary': 1941, 'decriminalized': 3197, 'coffee': 2484, 'elephant': 3908, 'ivory': 6061, 'tusks': 11361, 'raisingis': 8914, 'organizer': 7797, '112': 39, 'utter': 11591, 'semblance': 9849, 'sittons': 10093, 'carts': 2128, 'umatilla': 11399, 'threaten': 11054, 'title': 11108, 'ix': 6062, 'megyn': 7036, 'specifying': 10302, 'monica': 7250, 'wehby': 11891, 'conger': 2687, 'consequences': 2713, 'ejected': 3885, 'husseins': 5573, 'kuwait': 6356, 'kuwaitis': 6357, 'waved': 11852, 'vaticans': 11633, 'afforded': 817, 'rezko': 9406, 'skips': 10112, 'fatah': 4388, 'territory': 10949, '5th': 452, 'confer': 2662, 'phds': 8224, 'berkeley': 1579, 'mullahs': 7336, '444': 387, 'stake': 10401, 'barnett': 1448, 'portends': 8422, 'horrific': 5501, 'situations': 10095, 'inventing': 5959, 'alot': 955, 'unauthorized': 11410, 'tribuneseditorial': 11284, 'comptroller': 2619, 'leslie': 6533, 'munger': 7346, 'backing': 1373, 'conocophillips': 2706, 'exxonmobil': 4310, '347': 333, 'assessment': 1239, 'beneficiary': 1568, 'fourteen': 4706, 'disagreeing': 3487, 'audiences': 1301, 'doctrine': 3617, 'allocate': 938, 'satisfy': 9656, 'enable': 3976, 'civilians': 2394, 'kiss': 6306, 'goodbye': 5004, 'toothache': 11142, 'frishe': 4761, 'roof': 9518, 'exemption': 4212, 'ancient': 1018, 'babylonians': 1364, 'compass': 2585, 'pens': 8148, 'discoveries': 3513, 'neumann': 7477, 'mayweather': 6962, 'pacquiao': 7949, 'bonding': 1736, 'distortions': 3576, 'sarswas': 9650, 'heartless': 5321, 'outlived': 7846, 'usefulness': 11576, 'vital': 11723, 'distinctions': 3572, 'load': 6657, '1915': 132, 'rushing': 9573, 'gao': 4847, 'disposal': 3554, 'wastes': 11831, 'ashbritt': 1213, 'contaminated': 2760, 'superfund': 10685, 'sanitation': 9645, 'repeals': 9244, 'shuts': 10039, 'accrue': 674, 'gattaca': 4869, 'ripped': 9449, 'astronauts': 1256, 'stagnant': 10399, 'wonhealth': 12058, 'surgery': 10722, 'disparities': 3547, 'cooperate': 2827, 'locating': 6673, 'breweries': 1836, 'pint': 8277, 'careand': 2097, 'prediction': 8512, 'donovan': 3666, 'equity': 4088, 'deepwater': 3214, 'admire': 757, 'beck': 1514, 'grandparents': 5062, 'immigrated': 5638, 'northam': 7565, 'label': 6364, 'racists': 8878, 'graveyard': 5075, 'ankle': 1041, 'loud': 6717, 'yell': 12139, 'courtroom': 2911, 'massaged': 6919, 'doctored': 3615, 'printed': 8597, 'pile': 8264, 'weigh': 11893, '292': 296, 'bloc': 1682, 'mavericks': 6950, 'copycat': 2837, 'tohave': 11119, 'inaccuracies': 5689, 'automated': 1329, 'shipment': 9985, 'wine': 12002, 'click': 2432, 'limousines': 6621, 'likud': 6609, 'israelfor': 6042, 'exclude': 4194, 'wahhabism': 11764, 'devil': 3409, 'riots': 9448, 'inserted': 5840, 'researchers': 9295, 'cruelty': 3002, 'kaines': 6208, 'texan': 10964, 'reaffirmed': 8987, 'intention': 5900, 'preconditions': 8502, 'civilized': 2395, 'provincial': 8766, 'endangered': 3992, 'tamper': 10840, 'thumbprint': 11073, 'embossed': 3941, 'hologram': 5452, 'begins': 1534, 'nonstop': 7553, '1900': 125, 'anthony': 1060, 'medications': 7019, 'wedc': 11883, 'beaumont': 1510, 'sox': 10273, 'playoffs': 8329, 'distinction': 3571, 'availability': 1334, 'sununus': 10681, 'accessed': 654, 'overlooked': 7888, 'concussion': 2646, 'stream': 10548, 'occurring': 7662, 'handout': 5219, 'budgeted': 1904, 'congested': 2688, 'yuma': 12170, 'couldve': 2881, 'moms': 7245, 'starving': 10434, 'skyline': 10115, 'dominated': 3648, 'cranes': 2936, 'notices': 7579, 'underfunded': 11431, 'reference': 9088, 'almighty': 948, 'bending': 1564, '743': 503, 'authorizes': 1323, 'crc': 2943, 'dewhursts': 3415, 'photos': 8246, 'prove': 8754, 'smoker': 10168, 'quits': 8860, 'disney': 3545, 'happ': 5228, 'assists': 1247, 'dominant': 3647, 'lynching': 6759, 'cellular': 2198, 'mow': 7321, 'grass': 5069, '1961': 160, 'wherever': 11941, 'enrich': 4039, 'legler': 6511, 'installing': 5860, 'sprinklers': 10366, 'generators': 4896, 'boomers': 1746, 'flowing': 4614, 'dynamic': 3803, 'unsuccessfully': 11525, '466': 399, 'diagnosis': 3421, 'plouffe': 8338, 'piles': 8265, 'wallace': 11782, 'swings': 10782, 'theyd': 11026, 'allocation': 939, 'advertises': 782, 'preach': 8489, 'performance': 8167, 'palm': 7973, 'energies': 4012, 'enjoys': 4035, 'involves': 5985, 'restricting': 9347, 'pip': 8280, 'afghan': 820, 'shrank': 10028, 'shoes': 9994, 'ifmercury': 5609, 'pattern': 8079, 'ducking': 3769, 'jihadists': 6119, 'swim': 10778, 'saysted': 9699, 'nude': 7593, 'melania': 7037, 'slowly': 10149, 'gradually': 5045, 'inauguration': 5694, 'rangel': 8933, 'breakup': 1828, 'geopolitical': 4909, 'tragedy': 11205, 'washingtons': 11823, 'extends': 4289, 'beneath': 1565, 'oceans': 7664, 'finest': 4526, 'desjarlais': 3365, 'sanitary': 9644, 'harshest': 5260, 'generosity': 4898, 'sweater': 10772, 'vets': 11664, 'cheats': 2290, '78702': 519, 'gentrified': 4905, 'fares': 4370, '219': 248, 'deserted': 3353, 'deans': 3145, 'ranger': 8934, 'recon': 9043, 'introducing': 5948, 'omitted': 7726, 'holy': 5456, 'communion': 2563, 'horror': 5502, 'sympathy': 10793, 'unnecessary': 11507, 'philando': 8227, 'castile': 2145, 'chase': 2280, 'proactive': 8618, 'rode': 9498, 'serial': 9881, 'polluter': 8391, 'polluting': 8393, 'disappointment': 3492, 'pig': 8262, 'natalyn': 7405, 'archibong': 1155, 'abill': 600, 'havechanged': 5286, 'manufactured': 6855, 'nih': 7518, 'origami': 7800, 'usas': 11572, 'friedan': 4755, 'icons': 5592, 'emulate': 3974, 'upper': 11553, 'evading': 4143, 'monkey': 7254, 'sealed': 9782, 'nonessential': 7546, 'dakotas': 3082, 'reeling': 9086, 'reporter': 9258, 'failings': 4336, 'bikes': 1623, 'weinstein': 11897, 'cadets': 1997, 'julie': 6178, 'parrish': 8013, 'clay': 2413, 'unchanged': 11415, 'aired': 875, 'inspector': 5853, '747': 504, 'sneak': 10174, 'threw': 11062, 'dine': 3458, 'barring': 1458, 'hats': 5283, 'dates': 3113, 'easiest': 3830, 'recite': 9031, 'sayssenate': 9698, 'simulation': 10075, 'conceive': 2629, 'hindus': 5408, 'buddhists': 1899, 'controllers': 2798, 'tanking': 10844, 'sylvia': 10789, 'elyse': 3929, 'lanie': 6404, 'lanier': 6405, 'interim': 5913, 'legislationto': 6503, 'formammograms': 4677, 'imagery': 5626, 'describe': 3350, 'scholarly': 9731, 'articles': 1204, 'procedural': 8626, 'viktor': 11692, 'yanukovych': 12131, 'opted': 7772, 'informed': 5809, 'owed': 7920, 'warmest': 11801, 'prosser': 8732, 'prejudges': 8525, 'editor': 3855, 'levying': 6553, 'liaison': 6558, 'route': 9542, 'affirm': 810, 'addressed': 735, 'reductions': 9083, 'sharpton': 9951, 'posed': 8434, 'armies': 1185, 'useless': 11578, 'monoxide': 7258, 'fosters': 4695, 'kirks': 6305, 'expertise': 4256, 'bishop': 1650, 'rainfall': 8905, 'averages': 1341, 'aa': 583, 'thedford': 10995, 'speculative': 10305, 'namely': 7390, 'reinstating': 9159, 'exploit': 4267, 'celebrities': 2192, 'hot': 5515, 'handsomely': 5222, 'patently': 8060, 'unjust': 11492, '535': 433, '05': 10, 'endowment': 4006, 'rosemary': 9526, 'lehmberg': 6515, 'bottles': 1774, 'saysmichele': 9691, 'pluto': 8347, 'astronomical': 1257, 'planetary': 8307, 'declassified': 3184, 'sun': 10671, 'themed': 11005, 'apologies': 1093, 'camilo': 2030, 'maria': 6873, 'characteristics': 2266, 'mirror': 7175, 'earths': 3826, 'habitability': 5174, 'frozen': 4773, 'wolfe': 12048, 'mu': 7331, 'homecoming': 5459, 'parade': 7991, 'jump': 6183, 'diverted': 3594, 'misuse': 7205, 'overspend': 7905, 'phasing': 8223, 'duckworth': 3771, 'doma': 3642, 'legalize': 6494, 'confidently': 2668, 'cathy': 2162, 'jordan': 6153, 'swat': 10769, 'hooligans': 5485, 'complied': 2608, 'causingclimate': 2175, 'intergovernmental': 5912, 'manchester': 6833, 'gatsas': 4868, 'bernies': 1586, 'soul': 10255, 'txdems': 11375, 'tx': 11374, 'recusing': 9061, 'shariah': 9946, 'cvs': 3061, 'pulls': 8789, 'curtain': 3047, 'tragically': 11207, 'recyclers': 9063, 'recycle': 9062, 'plastic': 8315, 'protects': 8741, 'rotc': 9532, 'stakes': 10402, 'fisa': 4553, 'precipitous': 8499, 'rnc': 9468, 'yost': 12150, 'threeblack': 11060, 'dold': 3634, 'consideration': 2721, 'salvador': 9624, 'guatemala': 5138, 'amniocentesis': 1000, 'functioning': 4790, 'stoves': 10531, 'certified': 2222, 'cruzswife': 3012, 'heidi': 5336, 'superpower': 10692, 'sole': 10213, 'earner': 3816, 'tend': 10926, '65th': 473, 'territories': 10948, 'ufos': 11390, '133': 63, 'subpoena': 10615, 'delete': 3265, 'zephyr': 12181, 'teachout': 10882, 'flowers': 4613, 'realdonaldtrump': 8991, 'forecasting': 4659, 'hampshires': 5209, 'warrantless': 11812, 'wiretapping': 12013, 'graffiti': 5052, 'sidewalk': 10049, 'stenciled': 10481, 'images': 5627, 'smeared': 10160, 'statue': 10454, 'crazy': 2942, 'mequon': 7063, 'disparity': 3548, 'prekindergarten': 8526, 'erupted': 4101, 'sunny': 10674, 'carve': 2129, 'agendas': 843, 'valentine': 11613, 'roses': 9529, 'violets': 11706, 'pause': 8088, 'resettlement': 9306, 'necessarily': 7437, 'statutes': 10457, 'moves': 7318, 'patents': 8061, 'revolutionized': 9400, 'mitigation': 7209, 'cleanup': 2421, 'rebuilding': 9013, 'republicansenators': 9277, 'theislamic': 11003, 'dealership': 3138, 'pamphlet': 7975, 'mentions': 7062, 'prosecuting': 8723, 'lip': 6635, 'instructor': 5878, 'deaf': 3133, 'damn': 3091, 'uncle': 11418, 'auschwitz': 1309, 'liberate': 6561, 'concentration': 2631, 'dec': 3163, 'holdings': 5442, 'greatly': 5081, 'weakens': 11863, 'converting': 2812, 'participants': 8018, 'sustained': 10758, 'confidence': 2665, 'competence': 2589, 'troubles': 11315, 'lit': 6644, 'mae': 6778, 'classmate': 2409, 'risking': 9457, 'interlink': 5915, 'sal': 9610, 'esquivel': 4111, 'joke': 6143, 'endemic': 3994, 'weakness': 11865, 'marking': 6885, 'artificial': 1205, 'jorge_elorza': 6155, 'captain': 2083, 'kenyon': 6258, 'electronics': 3904, 'possess': 8440, '137': 67, 'flows': 4615, 'pushes': 8817, 'glow': 4976, 'jellyfish': 6095, 'hybrids': 5579, 'feces': 4420, 'swastika': 10768, 'halls': 5197, 'obamaexempted': 7623, 'aunt': 1308, 'convene': 2804, 'nlike': 7527, 'apiece': 1091, 'medals': 7010, 'clerk': 2429, 'nickolaus': 7510, 'screwed': 9775, '776': 515, 'cooling': 2824, 'interchange': 5906, 'sister': 10087, 'hardcore': 5242, 'declare': 3181, 'checked': 2292, 'gorillas': 5016, 'concept': 2633, '170': 101, 'activities': 712, 'townsend': 11182, 'faulty': 4397, 'advice': 784, 'raese': 8893, 'laser': 6415, 'rewards': 9404, 'au': 1299, 'pair': 7961, 'seafood': 9781, 'processors': 8635, 'daddy': 3073, 'assertions': 1237, 'shattered': 9953, 'victimsoutnumbers': 11675, 'bahamas': 1389, 'centrifuges': 2210, 'saidpresident': 9602, 'sweepstakes': 10775, 'cafe': 1998, 'bounty': 1780, 'severed': 9916, 'foreleg': 4664, 'sewerage': 9921, 'obligated': 7635, '2040': 233, 'neurosurgeon': 7479, 'marshal': 6896, 'quiones': 8855, 'capps': 2079, 'hass': 5275, 'newspapers': 7502, 'schaufler': 9719, 'testified': 10959, 'tailpipe': 10818, 'hundredths': 5554, 'fahrenheit': 4332, '2050': 235, 'explanation': 4262, 'thurmond': 11075, 'breed': 1832, 'pit': 8289, 'bulls': 1924, 'academies': 641, 'ambitious': 979, 'communists': 2566, 'goodlattes': 5005, 'budgetamendment': 1903, 'alaskans': 897, '315': 311, 'redesign': 9068, 'thirteen': 11038, 'softening': 10204, 'divert': 3593, 'thoroughly': 11045, 'oregonian': 7787, 'baggage': 1386, 'beavers': 1511, 'sneezes': 10177, '162nd': 90, 'avenue': 1337, 'burnside': 1951, 'lawton': 6450, 'chiles': 2328, 'nightmare': 7517, 'bull': 1920, 'tireless': 11106, 'premier': 8530, 'hypocritically': 5586, 'embracing': 3944, 'throughs': 11067, 'toddlers': 11116, 'limitations': 6614, 'spay': 10288, 'neuter': 7480, 'gaining': 4825, 'federation': 4426, 'produces': 8643, 'ged': 4881, 'wauwatosa': 11850, 'pelosis': 8131, 'acknowledging': 691, 'epas': 4079, 'financiers': 4516, 'improvised': 5686, 'ied': 5607, 'hales': 5190, 'sweeping': 10774, 'infill': 5794, 'basics': 1473, 'unleash': 11496, '2030': 229, 'wendys': 11907, 'deathbed': 3148, 'closures': 2459, 'wu': 12122, 'conspirators': 2729, 'ayman': 1359, 'zawahiri': 12177, 'khalid': 6267, 'sheikh': 9961, 'mohammed': 7236, 'wristbands': 12113, 'reminder': 9201, 'nonproliferation': 7552, 'stabilized': 10385, 'concerts': 2639, 'siemens': 10052, 'skilled': 10106, 'arts': 1208, 'waterfront': 11841, 'warn': 11804, 'british': 1858, 'bennett': 1576, 'delphi': 3275, 'salaried': 9611, 'favoritism': 4402, 'backroom': 1375, 'wifes': 11977, 'canals': 2046, 'scientology': 9750, 'massages': 6920, '30th': 307, 'creeping': 2961, 'commitments': 2551, 'palins': 7970, 'trig': 11290, 'sniper': 10178, 'tracked': 11190, 'fled': 4583, 'childless': 2323, 'feasting': 4414, 'hogs': 5437, 'linn': 6632, 'saystheres': 9702, 'areindividuals': 1163, 'okays': 7710, 'disposing': 3555, 'unclaimed': 11417, '1400': 71, 'dishonorably': 3538, 'substances': 10627, 'noncompliant': 7542, 'kiters': 6309, 'devastate': 3396, 'interventionism': 5933, 'mvp': 7373, 'slowest': 10148, 'exile': 4219, 'outdrawn': 7835, 'arenas': 1166, 'santarsiero': 9647, 'pas': 8038, 'undergraduate': 11434, 'nuns': 7603, 'goodwill': 5007, 'heroics': 5367, '730': 496, 'nonexistent': 7547, 'bucyrus': 1898, 'sayspatrick': 9692, 'denounce': 3301, 'untruthful': 11535, 'politifacts': 8382, 'en': 3975, 'ideology': 5604, 'wheelchairs': 11931, 'puckett': 8783, '813': 532, 'halve': 5200, 'norway': 7571, '63k': 464, 'loving': 6729, 'apprehend': 1130, 'erratic': 4098, 'inconsistent': 5718, 'feldstein': 4441, 'pencil': 8138, 'gallery': 4830, 'flowering': 4612, 'tore': 11150, 'rd': 8973, 'truethat': 11323, 'ciudad': 2391, 'lesser': 6537, 'enables': 3978, 'amputee': 1008, 'pirates': 8286, 'relying': 9189, 'pawn': 8093, 'cashing': 2138, 'engineered': 4026, 'delegated': 3262, 'markets': 6884, 'saysdonald': 9682, 'inconvenience': 5721, 'amid': 993, 'incriminate': 5734, 'giveaways': 4955, 'discharging': 3502, 'watersheds': 11844, 'prejudged': 8524, 'withholding': 12034, 'diagnosed': 3420, 'fervently': 4463, 'jungles': 6187, 'pistol': 8287, 'herman': 5365, 'cain': 2004, '82nd': 537, 'ouzinkie': 7867, 'dildo': 3454, 'nearly100': 7433, 'regulated': 9137, 'businesspeople': 1969, 'areaswho': 1162, 'rebidding': 9010, 'metrorail': 7090, 'backdoor': 1370, 'pasadena': 8039, 'wikileaks': 11978, 'podesta': 8355, 'oversampling': 7898, 'suppression': 10712, 'technique': 10897, 'brexit': 1841, 'backwards': 1378, 'window': 11998, 'quorum': 8862, 'pepperoni': 8155, 'ham': 5202, 'dominos': 3651, 'hut': 5576, 'flunked': 4617, 'farouk': 4377, 'isthe': 6048, 'kickbacks': 6273, 'directing': 3474, 'consuming': 2751, 'trendline': 11274, 'cease': 2184, 'arguing': 1171, 'dug': 3776, 'validate': 11616, 'wmds': 12044, 'continual': 2769, 'distort': 3574, 'airwaves': 883, 'accomplished': 663, 'aprovision': 1147, 'trooper': 11311, 'shrunk': 10033, 'shoveled': 10019, 'troubled': 11314, 'dialogues': 3423, 'volcano': 11731, 'cybersecurity': 3064, 'overdosed': 7878, 'masshealth': 6921, 'overbuilt': 7872, 'succeeds': 10638, 'engine': 4025, 'embroiled': 3945, 'knox': 6332, 'adlers': 747, 'replacing': 9252, 'expert': 4255, 'buehler': 1908, 'backyard': 1379, 'overdose': 7877, 'outnumber': 7847, 'corridors': 2860, 'ripta': 9450, 'fullest': 4784, 'cargill': 2102, 'vacancyexcept': 11598, 'cleans': 2419, 'witch': 12026, 'cooks': 2822, 'helpers': 5348, 'gaga': 4822, 'containers': 2757, 'updated': 11545, 'boucher': 1776, 'postwar': 8454, '336': 328, 'trapped': 11243, 'underperforming': 11439, 'bids': 1616, 'inhabited': 5815, 'efficient': 3871, 'models': 7225, 'appropriate': 1135, 'continually': 2770, 'boardwalk': 1710, 'pillars': 8267, 'fertilizer': 4462, 'officialinquiryon': 7692, 'informal': 5806, 'psychiatric': 8774, 'snitker': 10180, 'languages': 6402, 'financed': 4513, 'prosecutorial': 8727, 'manifests': 6843, 'canned': 2061, 'blueberries': 1697, 'uline': 11395, '468': 400, 'boosting': 1750, 'nasa': 7401, 'alonewill': 952, 'cbd': 2181, 'compound': 2613, 'whetherbarack': 11943, 'covert': 2919, 'hickok': 5381, 'duel': 3773, 'legend': 6498, 'distant': 3570, 'sunsets': 10677, 'morell': 7274, 'isisoil': 6022, 'awho': 1355, 'portrays': 8430, 'obstacle': 7644, 'lassa': 6416, 'willingly': 11990, 'respiratory': 9328, 'decree': 3195, 'philosophy': 8234, 'footed': 4645, 'bachelor': 1365, 'overrun': 7897, 'renegotiate': 9220, 'ratify': 8959, 'amazon': 975, 'aneducational': 1027, 'gettysburg': 4924, 'blackouts': 1657, 'uninsurable': 11476, 'headquarter': 5306, 'prosper': 8730, 'candidatejason': 2055, 'attending': 1285, 'dinners': 3462, 'familiar': 4359, 'hitting': 5426, 'durbin': 3792, 'screaming': 9769, 'pta': 8777, 'golfed': 4996, 'violators': 11702, 'rendering': 9216, 'application': 1116, 'lawmaking': 6445, '181': 117, 'humanitarian': 5548, 'displaced': 3551, 'suns': 10675, 'solyndrahad': 10229, 'robots': 9489, 'whistled': 11950, 'songs': 10242, 'kidding': 6278, 'electrical': 3898, 'outlets': 7843, 'banker': 1422, 'udall': 11388, 'ofsupporting': 7700, 'cafes': 1999, 'diners': 3459, 'gather': 4865, 'kit': 6307, 'interpol': 5922, 'despise': 3368, 'theorists': 11011, 'groundlaw': 5112, '972': 576, 'warned': 11805, 'foolproof': 4639, 'verifying': 11649, 'guessed': 5143, 'modernizing': 7229, 'spots': 10351, 'oddest': 7669, 'ladies': 6375, 'soy': 10274, 'nico': 7511, 'estatal': 4123, 'quin': 8853, 'es': 4103, 'hombre': 5457, 'negocios': 7455, 'chrysler': 2355, 'italians': 6053, 'jeeps': 6091, 'analyzed': 1014, 'suites': 10664, 'racks': 8882, 'mini': 7154, 'xiv': 12128, 'cambodia': 2025, 'indias': 5754, 'pharmacy': 8221, 'medicines': 7021, 'spokesperson': 10341, 'arid': 1174, 'landscape': 6396, 'preference': 8517, 'steeper': 10474, 'gallego': 4829, 'wavered': 11853, 'spinnett': 10325, 'judgments': 6172, 'trespass': 11277, 'clothes': 2460, 'shelter': 9970, 'monsanto': 7259, 'syngenta': 10797, 'biotech': 1637, 'snail': 10173, 'meningitis': 7053, 'atomic': 1271, 'hiroshima': 5414, 'express': 4283, '04': 9, 'spotty': 10354, 'missive': 7200, 'destination': 3373, 'mexicos': 7096, 'sufficient': 10654, 'thurbert': 11074, 'zuckerberg': 12194, 'bookers': 1744, 'allied': 935, 'stafford': 10395, 'fewerwars': 4472, 'fewerpeople': 4471, '11s': 48, 'cloud': 2463, 'proposedcorporate': 8716, 'estuary': 4129, 'constructed': 2740, 'impacts': 5647, 'mitigated': 7208, 'expended': 4244, '805': 527, 'importantly': 5665, 'persuaded': 8199, 'skin': 10108, 'disregarded': 3563, 'chad': 2229, 'causey': 2173, 'milken': 7130, 'nukes': 7594, 'irrefutable': 6009, 'solv': 10222, 'cleanups': 2422, 'volume': 11734, 'stable': 10387, 'embarked': 3936, 'pollster': 8387, 'mittromneys': 7211, 'theaffordable': 10990, 'actalters': 701, 'sensible': 9868, 'centered': 2206, 'enzi': 4077, 'gunshot': 5158, 'wounds': 12103, 'saysgary': 9683, 'sakonnet': 9609, 'critically': 2978, 'tanked': 10842, 'andso': 1024, '685': 481, 'inefficiencies': 5778, 'scare': 9716, 'blackberry': 1656, 'eased': 3828, 'peaked': 8118, 'accumulate': 675, 'mama': 6821, 'grizzlies': 5101, 'isd': 6018, 'areunwilling': 1169, 'preside': 8551, 'abortioneven': 613, 'censored': 2201, 'muzzled': 7371, 'glbt': 4967, 'lifestyle': 6592, '31st': 314, 'misdemeanors': 7184, 'istheone': 6049, 'leg': 6490, 'reaped': 8997, 'underutilized': 11448, 'saysloretta': 9689, 'lynchs': 6760, 'adequately': 740, 'ipod': 5995, 'habit': 5173, 'bused': 1960, 'acentral': 683, 'brush': 1886, 'huntsman': 5562, 'isfighting': 6019, 'iraqis': 6005, 'ornamental': 7808, 'rabid': 8866, 'strains': 10534, 'rabies': 8867, 'serums': 9887, 'bakers': 1398, 'florists': 4608, 'photographers': 8243, 'nc': 7427, 'gerrymandering': 4918, 'optech': 7771, 'iii': 5614, 'constitutionally': 2738, 'scuttle': 9779, 'pivotal': 8293, 'bias': 1606, 'flexible': 4588, 'fsas': 4777, 'inflammatory': 5796, 'newsletters': 7497, 'dealerships': 3139, 'overhauled': 7884, 'amended': 981, 'components': 2612, 'unbeknownst': 11411, 'weird': 11898, 'henceforth': 5356, 'scratched': 9767, '668': 475, 'habitat': 5175, 'poachers': 8350, 'mubarak': 7332, 'autocrats': 1327, 'establishes': 4119, 'dictate': 3431, 'mollis': 7241, 'malls': 6820, 'species': 10298, 'ballast': 1406, 'rivers': 9466, 'hydropower': 5583, 'sayscongressman': 9681, 'wizard': 12043, 'oz': 7933, 'theaters': 10992, 'designate': 3358, 'sneaky': 10175, 'unsigned': 11522, 'meaningfully': 6994, 'uk': 11392, 'fatality': 4391, 'sentiment': 9874, 'overreached': 7892, 'journal': 6160, 'explains': 4261, 'jody': 6131, 'hice': 5380, 'prominent': 8685, 'resigning': 9317, 'meaningful': 6993, 'reasoning': 9002, 'unrelated': 11517, 'bureaus': 1938, 'ceasing': 2185, 'invent': 5957, 'hosted': 5514, 'seminars': 9851, 'prefer': 8516, 'zombies': 12189, 'immokalee': 5641, 'watson': 11845, 'repayment': 9239, 'fell': 4443, 'coyotes': 2923, 'pediatric': 8124, 'rigorous': 9441, 'fringe': 4760, 'policyholders': 8373, 'waving': 11854, 'wand': 11786, 'unfairness': 11464, 'override': 7895, 'daines': 3076, 'mont': 7260, 'ottumwa': 7821, 'heartland': 5320, 'bilingual': 1624, 'ariz': 1176, 'ignores': 5612, '2009s': 213, 'swarming': 10767, 'reinvested': 9160, 'shalala': 9935, 'doses': 3678, 'smallpox': 10155, 'vaccinate': 11602, 'tools': 11140, 'milking': 7131, 'wheelbarrow': 11930, 'wheelers': 11932, 'hollowed': 5449, 'exhaustive': 4218, 'minneapolis': 7161, '166': 95, 'shooters': 9997, 'advising': 788, 'ovide': 7918, 'lamontagne': 6386, 'opioids': 7757, 'montana': 7261, 'faso': 4383, 'fracked': 4710, 'cramming': 2934, 'throat': 11064, 'preaches': 8491, 'keeper': 6234, 'indicated': 5756, 'pursued': 8812, 'hospitalized': 5509, 'portugals': 8432, 'wantsillegal': 11793, 'collectingsocial': 2504, 'kloppenburgs': 6318, 'tactics': 10813, 'educator': 3862, 'vehemently': 11639, 'weakest': 11864, 'checking': 2293, 'keystonexl': 6266, 'fiat': 4474, 'intrinsically': 5945, 'doled': 3636, 'scion': 9751, 'aleading': 905, 'spells': 10311, 'ducey': 3767, 'guards': 5136, 'to1': 11111, 'minnesotas': 7163, 'killers': 6288, 'abusing': 638, 'stirred': 10505, 'persecutes': 8189, 'granting': 5067, 'jollys': 6147, 'cons': 2707, 'penitentiary': 8143, 'ags': 860, 'matthew': 6944, 'artificially': 1206, 'benchmarks': 1562, 'isil': 6020, 'resemble': 9299, 'sparklers': 10284, 'aronberg': 1191, 'devastation': 3399, 'reimbursed': 9151, 'beruff': 1589, 'insulted': 5881, 'gyms': 5171, 'corzines': 2870, 'menhaden': 7052, '113': 41, 'varied': 11629, 'emember': 3947, 'shipbuilders': 9984, 'briefing': 1848, 'frisked': 4763, 'shortcomings': 10009, 'materialize': 6932, 'stranded': 10536, 'gemma': 4886, 'bound': 1778, 'smear': 10159, 'norms': 7563, 'mcallen': 6963, 'interstates': 5928, 'ernesto': 4095, 'guevaras': 5146, 'quicker': 8848, 'mosquitoes': 7291, 'mature': 6946, 'bite': 1653, 'metabolism': 7079, 'incubate': 5735, '156': 85, 'consultation': 2745, 'buckyballs': 1897, 'candy': 2059, 'licensing': 6575, 'strayed': 10547, 'lieberman': 6579, 'turkeys': 11349, 'weighed': 11894, 'applauded': 1111, 'vetoing': 11663, '282': 292, 'impacting': 5646, 'renal': 9213, 'radar': 8883, 'mega': 7031, 'boot': 1753, 'bogus': 1723, 'teilhet': 10909, 'slice': 10133, 'bread': 1823, 'slices': 10134, 'tapping': 10849, 'breathe': 1831, 'goliad': 4997, 'deportationsin': 3325, 'deportedin': 3327, 'subjective': 10608, 'worthy': 12096, 'tester': 10958, 'layered': 6456, 'fencing': 4454, 'webber': 11878, 'childcare': 2321, 'playgrounds': 8326, 'coaches': 2474, 'romanticized': 9511, 'leander': 6470, 'ap': 1084, 'pastors': 8057, 'sermons': 9886, 'accusing': 681, 'oligarchs': 7719, 'greer': 5092, 'takers': 10824, 'makers': 6806, 'lizbeth': 6654, 'benacquistos': 1560, 'substitution': 10632, 'dissuade': 3568, 'helpful': 5349, 'barehanded': 1442, 'penn': 8144, 'cigarettes': 2366, 'jasper': 6086, 'untoward': 11531, 'virtue': 11711, 'guardians': 5135, 'lifeguard': 6590, 'firefighting': 4543, 'coats': 2478, 'brock': 1867, 'turners': 11354, 'occurrence': 7661, 'megans': 7035, 'boxes': 1787, 'silver': 10068, 'valuables': 11621, 'concussions': 2647, 'cheerleading': 2298, 'waterboard': 11838, 'incidentally': 5707, 'juveniles': 6203, 'juvenile': 6202, 'wahabi': 11762, 'jakarta': 6072, 'wahabism': 11763, 'waging': 11761, '731': 497, 'federalism': 4424, 'extracurricular': 4301, 'panthers': 7985, 'torturing': 11154, 'debunk': 3160, 'moderator': 7227, 'pathological': 8064, 'categorize': 2155, 'gambler': 4835, 'grader': 5040, 'warms': 11803, 'rhetoric': 9407, 'emmy': 3955, 'tweeting': 11366, 'emmys': 3956, 'top25': 11146, 'tragic': 11206, 'dontre': 3668, 'sider': 10047, 'onand': 7729, 'roaming': 9476, 'peaceful': 8113, 'worries': 12087, 'retail': 9358, 'needing': 7442, 'lapierre': 6407, 'lessening': 6536, 'resume': 9357, 'nameresume': 7391, 'fascist': 4380, 'dovillas': 3689, 'avengers': 1336, '737': 499, 'dialysis': 3424, 'chemotherapy': 2304, '075': 15, 'shrub': 10032, '365': 345, 'stan': 10408, 'tying': 11376, 'invitation': 5975, 'proudest': 8752, 'accomplishment': 664, 'smiley': 10163, 'cookie': 2819, 'cookies': 2820, 'trainor': 11215, 'radically': 8889, 'proportionally': 8709, 'punish': 8795, 'operates': 7747}\n",
      "['00', '000', '000new', '014', '02', '024', '029', '033', '036', '04', '05', '050', '054th', '06', '07', '075', '08', '081', '09', '092', '095', '10', '100', '100th', '102']\n"
     ]
    }
   ],
   "source": [
    "    \n",
    "    #vocab size\n",
    "    train_count.shape\n",
    "\n",
    "    #check vocabulary using below command\n",
    "    print(countV.vocabulary_)\n",
    "\n",
    "    #get feature names\n",
    "    print(countV.get_feature_names()[:25])\n"
   ]
  },
  {
   "cell_type": "code",
   "execution_count": 33,
   "metadata": {},
   "outputs": [],
   "source": [
    "\n",
    "#create tf-df frequency features\n",
    "#tf-idf \n",
    "tfidfV = TfidfTransformer()\n",
    "train_tfidf = tfidfV.fit_transform(train_count)"
   ]
  },
  {
   "cell_type": "code",
   "execution_count": 34,
   "metadata": {},
   "outputs": [
    {
     "name": "stdout",
     "output_type": "stream",
     "text": [
      "[[0. 0. 0. ... 0. 0. 0.]\n",
      " [0. 0. 0. ... 0. 0. 0.]\n",
      " [0. 0. 0. ... 0. 0. 0.]\n",
      " ...\n",
      " [0. 0. 0. ... 0. 0. 0.]\n",
      " [0. 0. 0. ... 0. 0. 0.]\n",
      " [0. 0. 0. ... 0. 0. 0.]]\n"
     ]
    }
   ],
   "source": [
    "    train_tfidf.shape\n",
    "    #get train data feature names \n",
    "    print(train_tfidf.A[:10])\n"
   ]
  },
  {
   "cell_type": "code",
   "execution_count": 35,
   "metadata": {},
   "outputs": [],
   "source": [
    "tfidf_ngram = TfidfVectorizer(stop_words='english',ngram_range=(1,4),use_idf=True,smooth_idf=True)\n",
    "\n"
   ]
  },
  {
   "cell_type": "code",
   "execution_count": 37,
   "metadata": {},
   "outputs": [
    {
     "name": "stdout",
     "output_type": "stream",
     "text": [
      "0        Says the Annies List political group supports ...\n",
      "1        When did the decline of coal start? It started...\n",
      "2        Hillary Clinton agrees with John McCain \"by vo...\n",
      "3        Health care reform legislation is likely to ma...\n",
      "4        The economic turnaround started at the end of ...\n",
      "                               ...                        \n",
      "10235    There are a larger number of shark attacks in ...\n",
      "10236    Democrats have now become the party of the [At...\n",
      "10237    Says an alternative to Social Security that op...\n",
      "10238    On lifting the U.S. Cuban embargo and allowing...\n",
      "10239    The Department of Veterans Affairs has a manua...\n",
      "Name: Statement, Length: 10240, dtype: object\n"
     ]
    }
   ],
   "source": [
    "tagged_sentences = nltk.corpus.treebank.tagged_sents()\n",
    "\n",
    "cutoff = int(.75 * len(tagged_sentences))\n",
    "training_sentences = train_news['Statement']\n",
    " \n",
    "print(training_sentences)\n"
   ]
  },
  {
   "cell_type": "code",
   "execution_count": 39,
   "metadata": {},
   "outputs": [],
   "source": [
    "\n",
    "#training POS tagger based on words\n",
    "def features(sentence, index):\n",
    "    \"\"\" sentence: [w1, w2, ...], index: the index of the word \"\"\"\n",
    "    return {\n",
    "        'word': sentence[index],\n",
    "        'is_first': index == 0,\n",
    "        'is_last': index == len(sentence) - 1,\n",
    "        'is_capitalized': sentence[index][0].upper() == sentence[index][0],\n",
    "        'is_all_caps': sentence[index].upper() == sentence[index],\n",
    "        'is_all_lower': sentence[index].lower() == sentence[index],\n",
    "        'prefix-1': sentence[index][0],\n",
    "        'prefix-2': sentence[index][:2],\n",
    "        'prefix-3': sentence[index][:3],\n",
    "        'suffix-1': sentence[index][-1],\n",
    "        'suffix-2': sentence[index][-2:],\n",
    "        'suffix-3': sentence[index][-3:],\n",
    "        'prev_word': '' if index == 0 else sentence[index - 1],\n",
    "        'next_word': '' if index == len(sentence) - 1 else sentence[index + 1],\n",
    "        'has_hyphen': '-' in sentence[index],\n",
    "        'is_numeric': sentence[index].isdigit(),\n",
    "        'capitals_inside': sentence[index][1:].lower() != sentence[index][1:]\n",
    "    }\n",
    "    \n",
    "    \n",
    "#helper function to strip tags from tagged corpus\t\n",
    "def untag(tagged_sentence):\n",
    "    return [w for w, t in tagged_sentence]\n",
    "\n",
    "\n",
    "\n",
    "#Using Word2Vec \n",
    "#with open(\"glove.6B.50d.txt\", \"rb\") as lines:\n",
    " #   w2v = {line.split()[0]: np.array(map(float, line.split()[1:]))\n",
    "  #         for line in lines}\n",
    "\n",
    "\n",
    "\n",
    "\n",
    "\n",
    "class MeanEmbeddingVectorizer(object):\n",
    "    def __init__(self, word2vec):\n",
    "        self.word2vec = word2vec\n",
    "        # if a text is empty we should return a vector of zeros\n",
    "        # with the same dimensionality as all the other vectors\n",
    "        self.dim = len(word2vec.itervalues().next())\n",
    "\n",
    "    def fit(self, X, y):\n",
    "        return self\n",
    "\n",
    "    def transform(self, X):\n",
    "        return np.array([\n",
    "            np.mean([self.word2vec[w] for w in words if w in self.word2vec]\n",
    "                    or [np.zeros(self.dim)], axis=0)\n",
    "            for words in X\n",
    "        ])\n",
    "\n"
   ]
  },
  {
   "cell_type": "code",
   "execution_count": 40,
   "metadata": {},
   "outputs": [],
   "source": [
    "import pickle\n",
    "from sklearn.feature_extraction.text import CountVectorizer\n",
    "from sklearn.feature_extraction.text import TfidfTransformer\n",
    "from sklearn.feature_extraction.text import TfidfVectorizer\n",
    "from sklearn.pipeline import Pipeline\n",
    "from sklearn.naive_bayes import MultinomialNB\n",
    "from sklearn.linear_model import  LogisticRegression\n",
    "from sklearn.linear_model import SGDClassifier\n",
    "from sklearn import svm\n",
    "from sklearn.ensemble import RandomForestClassifier\n",
    "from sklearn.model_selection import KFold\n",
    "from sklearn.metrics import confusion_matrix, f1_score, classification_report\n",
    "from sklearn.model_selection import GridSearchCV\n",
    "from sklearn.model_selection import learning_curve\n",
    "import matplotlib.pyplot as plt\n",
    "from sklearn.metrics import precision_recall_curve\n",
    "from sklearn.metrics import average_precision_score\n"
   ]
  },
  {
   "cell_type": "code",
   "execution_count": 43,
   "metadata": {},
   "outputs": [
    {
     "data": {
      "text/plain": [
       "0.6072128577028616"
      ]
     },
     "execution_count": 43,
     "metadata": {},
     "output_type": "execute_result"
    }
   ],
   "source": [
    "\n",
    "\n",
    "#first we will use bag of words techniques\n",
    "\n",
    "#building classifier using naive bayes \n",
    "nb_pipeline = Pipeline([\n",
    "        ('NBCV',countV),\n",
    "        ('nb_clf',MultinomialNB())])\n",
    "\n",
    "nb_pipeline.fit(train_news['Statement'],train_news['Label'])\n",
    "predicted_nb = nb_pipeline.predict(test_news['Statement'])\n",
    "np.mean(predicted_nb == test_news['Label'])"
   ]
  },
  {
   "cell_type": "code",
   "execution_count": 44,
   "metadata": {},
   "outputs": [
    {
     "name": "stderr",
     "output_type": "stream",
     "text": [
      "C:\\Users\\mohdf\\anaconda3\\envs\\ddp\\lib\\site-packages\\sklearn\\linear_model\\_logistic.py:764: ConvergenceWarning: lbfgs failed to converge (status=1):\n",
      "STOP: TOTAL NO. of ITERATIONS REACHED LIMIT.\n",
      "\n",
      "Increase the number of iterations (max_iter) or scale the data as shown in:\n",
      "    https://scikit-learn.org/stable/modules/preprocessing.html\n",
      "Please also refer to the documentation for alternative solver options:\n",
      "    https://scikit-learn.org/stable/modules/linear_model.html#logistic-regression\n",
      "  extra_warning_msg=_LOGISTIC_SOLVER_CONVERGENCE_MSG)\n"
     ]
    },
    {
     "data": {
      "text/plain": [
       "0.6013328106624853"
      ]
     },
     "execution_count": 44,
     "metadata": {},
     "output_type": "execute_result"
    }
   ],
   "source": [
    "\n",
    "#building classifier using logistic regression\n",
    "logR_pipeline = Pipeline([\n",
    "        ('LogRCV',countV),\n",
    "        ('LogR_clf',LogisticRegression())\n",
    "        ])\n",
    "\n",
    "logR_pipeline.fit(train_news['Statement'],train_news['Label'])\n",
    "predicted_LogR = logR_pipeline.predict(test_news['Statement'])\n",
    "np.mean(predicted_LogR == test_news['Label'])\n"
   ]
  },
  {
   "cell_type": "code",
   "execution_count": 45,
   "metadata": {},
   "outputs": [
    {
     "data": {
      "text/plain": [
       "0.5723245785966288"
      ]
     },
     "execution_count": 45,
     "metadata": {},
     "output_type": "execute_result"
    }
   ],
   "source": [
    "\n",
    "#building Linear SVM classfier\n",
    "svm_pipeline = Pipeline([\n",
    "        ('svmCV',countV),\n",
    "        ('svm_clf',svm.LinearSVC())\n",
    "        ])\n",
    "\n",
    "svm_pipeline.fit(train_news['Statement'],train_news['Label'])\n",
    "predicted_svm = svm_pipeline.predict(test_news['Statement'])\n",
    "np.mean(predicted_svm ==test_news['Label'])\n",
    "\n"
   ]
  },
  {
   "cell_type": "code",
   "execution_count": 47,
   "metadata": {},
   "outputs": [
    {
     "data": {
      "text/plain": [
       "0.6174049392395139"
      ]
     },
     "execution_count": 47,
     "metadata": {},
     "output_type": "execute_result"
    }
   ],
   "source": [
    "#using SVM Stochastic Gradient Descent on hinge loss\n",
    "sgd_pipeline = Pipeline([\n",
    "        ('svm2CV',countV),\n",
    "        ('svm2_clf',SGDClassifier(loss='hinge', penalty='l2', alpha=1e-3))\n",
    "        ])\n",
    "\n",
    "sgd_pipeline.fit(train_news['Statement'],train_news['Label'])\n",
    "predicted_sgd = sgd_pipeline.predict(test_news['Statement'])\n",
    "np.mean(predicted_sgd ==test_news['Label'])\n",
    "\n",
    "\n"
   ]
  },
  {
   "cell_type": "code",
   "execution_count": 48,
   "metadata": {},
   "outputs": [
    {
     "data": {
      "text/plain": [
       "0.6197569580556644"
      ]
     },
     "execution_count": 48,
     "metadata": {},
     "output_type": "execute_result"
    }
   ],
   "source": [
    "#random forest\n",
    "random_forest = Pipeline([\n",
    "        ('rfCV',countV),\n",
    "        ('rf_clf',RandomForestClassifier(n_estimators=200,n_jobs=3))\n",
    "        ])\n",
    "    \n",
    "random_forest.fit(train_news['Statement'],train_news['Label'])\n",
    "predicted_rf = random_forest.predict(test_news['Statement'])\n",
    "np.mean(predicted_rf ==test_news['Label'])\n"
   ]
  },
  {
   "cell_type": "code",
   "execution_count": 51,
   "metadata": {},
   "outputs": [
    {
     "name": "stdout",
     "output_type": "stream",
     "text": [
      "Total statements classified: 10240\n",
      "Score: 0.66961153965076\n",
      "score length 5\n",
      "Confusion matrix:\n",
      "[[2118 2370]\n",
      " [1664 4088]]\n"
     ]
    },
    {
     "name": "stderr",
     "output_type": "stream",
     "text": [
      "C:\\Users\\mohdf\\anaconda3\\envs\\ddp\\lib\\site-packages\\sklearn\\linear_model\\_logistic.py:764: ConvergenceWarning: lbfgs failed to converge (status=1):\n",
      "STOP: TOTAL NO. of ITERATIONS REACHED LIMIT.\n",
      "\n",
      "Increase the number of iterations (max_iter) or scale the data as shown in:\n",
      "    https://scikit-learn.org/stable/modules/preprocessing.html\n",
      "Please also refer to the documentation for alternative solver options:\n",
      "    https://scikit-learn.org/stable/modules/linear_model.html#logistic-regression\n",
      "  extra_warning_msg=_LOGISTIC_SOLVER_CONVERGENCE_MSG)\n",
      "C:\\Users\\mohdf\\anaconda3\\envs\\ddp\\lib\\site-packages\\sklearn\\linear_model\\_logistic.py:764: ConvergenceWarning: lbfgs failed to converge (status=1):\n",
      "STOP: TOTAL NO. of ITERATIONS REACHED LIMIT.\n",
      "\n",
      "Increase the number of iterations (max_iter) or scale the data as shown in:\n",
      "    https://scikit-learn.org/stable/modules/preprocessing.html\n",
      "Please also refer to the documentation for alternative solver options:\n",
      "    https://scikit-learn.org/stable/modules/linear_model.html#logistic-regression\n",
      "  extra_warning_msg=_LOGISTIC_SOLVER_CONVERGENCE_MSG)\n",
      "C:\\Users\\mohdf\\anaconda3\\envs\\ddp\\lib\\site-packages\\sklearn\\linear_model\\_logistic.py:764: ConvergenceWarning: lbfgs failed to converge (status=1):\n",
      "STOP: TOTAL NO. of ITERATIONS REACHED LIMIT.\n",
      "\n",
      "Increase the number of iterations (max_iter) or scale the data as shown in:\n",
      "    https://scikit-learn.org/stable/modules/preprocessing.html\n",
      "Please also refer to the documentation for alternative solver options:\n",
      "    https://scikit-learn.org/stable/modules/linear_model.html#logistic-regression\n",
      "  extra_warning_msg=_LOGISTIC_SOLVER_CONVERGENCE_MSG)\n",
      "C:\\Users\\mohdf\\anaconda3\\envs\\ddp\\lib\\site-packages\\sklearn\\linear_model\\_logistic.py:764: ConvergenceWarning: lbfgs failed to converge (status=1):\n",
      "STOP: TOTAL NO. of ITERATIONS REACHED LIMIT.\n",
      "\n",
      "Increase the number of iterations (max_iter) or scale the data as shown in:\n",
      "    https://scikit-learn.org/stable/modules/preprocessing.html\n",
      "Please also refer to the documentation for alternative solver options:\n",
      "    https://scikit-learn.org/stable/modules/linear_model.html#logistic-regression\n",
      "  extra_warning_msg=_LOGISTIC_SOLVER_CONVERGENCE_MSG)\n",
      "C:\\Users\\mohdf\\anaconda3\\envs\\ddp\\lib\\site-packages\\sklearn\\linear_model\\_logistic.py:764: ConvergenceWarning: lbfgs failed to converge (status=1):\n",
      "STOP: TOTAL NO. of ITERATIONS REACHED LIMIT.\n",
      "\n",
      "Increase the number of iterations (max_iter) or scale the data as shown in:\n",
      "    https://scikit-learn.org/stable/modules/preprocessing.html\n",
      "Please also refer to the documentation for alternative solver options:\n",
      "    https://scikit-learn.org/stable/modules/linear_model.html#logistic-regression\n",
      "  extra_warning_msg=_LOGISTIC_SOLVER_CONVERGENCE_MSG)\n"
     ]
    },
    {
     "name": "stdout",
     "output_type": "stream",
     "text": [
      "Total statements classified: 10240\n",
      "Score: 0.6466692934443682\n",
      "score length 5\n",
      "Confusion matrix:\n",
      "[[2254 2234]\n",
      " [1936 3816]]\n"
     ]
    },
    {
     "name": "stderr",
     "output_type": "stream",
     "text": [
      "C:\\Users\\mohdf\\anaconda3\\envs\\ddp\\lib\\site-packages\\sklearn\\svm\\_base.py:977: ConvergenceWarning: Liblinear failed to converge, increase the number of iterations.\n",
      "  \"the number of iterations.\", ConvergenceWarning)\n"
     ]
    },
    {
     "name": "stdout",
     "output_type": "stream",
     "text": [
      "Total statements classified: 10240\n",
      "Score: 0.6104687487924283\n",
      "score length 5\n",
      "Confusion matrix:\n",
      "[[2260 2228]\n",
      " [2246 3506]]\n",
      "Total statements classified: 10240\n",
      "Score: 0.6622236920414526\n",
      "score length 5\n",
      "Confusion matrix:\n",
      "[[2174 2314]\n",
      " [1759 3993]]\n",
      "Total statements classified: 10240\n",
      "Score: 0.7026715063081189\n",
      "score length 5\n",
      "Confusion matrix:\n",
      "[[1801 2687]\n",
      " [1181 4571]]\n"
     ]
    },
    {
     "data": {
      "text/plain": [
       "(None, None, None, None, None)"
      ]
     },
     "execution_count": 51,
     "metadata": {},
     "output_type": "execute_result"
    }
   ],
   "source": [
    "\n",
    "#User defined functon for K-Fold cross validatoin\n",
    "def build_confusion_matrix(classifier):\n",
    "    \n",
    "    k_fold = KFold(n_splits=5)\n",
    "    scores = []\n",
    "    confusion = np.array([[0,0],[0,0]])\n",
    "\n",
    "    for train_ind, test_ind in k_fold.split(train_news):\n",
    "        train_text = train_news.iloc[train_ind]['Statement'] \n",
    "        train_y = train_news.iloc[train_ind]['Label']\n",
    "    \n",
    "        test_text =train_news.iloc[test_ind]['Statement']\n",
    "        test_y = train_news.iloc[test_ind]['Label']\n",
    "        \n",
    "        classifier.fit(train_text,train_y)\n",
    "        predictions = classifier.predict(test_text)\n",
    "        \n",
    "        confusion += confusion_matrix(test_y,predictions)\n",
    "        score = f1_score(test_y,predictions)\n",
    "        scores.append(score)\n",
    "    \n",
    "    return (print('Total statements classified:', len(train_news)),\n",
    "    print('Score:', sum(scores)/len(scores)),\n",
    "    print('score length', len(scores)),\n",
    "    print('Confusion matrix:'),\n",
    "    print(confusion))\n",
    "    \n",
    "#K-fold cross validation for all classifiers\n",
    "build_confusion_matrix(nb_pipeline)\n",
    "build_confusion_matrix(logR_pipeline)\n",
    "build_confusion_matrix(svm_pipeline)\n",
    "build_confusion_matrix(sgd_pipeline)\n",
    "build_confusion_matrix(random_forest)\n"
   ]
  },
  {
   "cell_type": "code",
   "execution_count": 52,
   "metadata": {},
   "outputs": [
    {
     "data": {
      "text/plain": [
       "'So far we have used bag of words technique to extract the features and passed those featuers into classifiers. We have also seen the\\nf1 scores of these classifiers. now lets enhance these features using term frequency weights with various n-grams\\n'"
      ]
     },
     "execution_count": 52,
     "metadata": {},
     "output_type": "execute_result"
    }
   ],
   "source": [
    "\n",
    "\"\"\"So far we have used bag of words technique to extract the features and passed those featuers into classifiers. We have also seen the\n",
    "f1 scores of these classifiers. now lets enhance these features using term frequency weights with various n-grams\n",
    "\"\"\"\n"
   ]
  },
  {
   "cell_type": "code",
   "execution_count": 53,
   "metadata": {},
   "outputs": [
    {
     "name": "stdout",
     "output_type": "stream",
     "text": [
      "Total statements classified: 10240\n",
      "Score: 0.7224053159841455\n",
      "score length 5\n",
      "Confusion matrix:\n",
      "[[ 758 3730]\n",
      " [ 390 5362]]\n",
      "Total statements classified: 10240\n",
      "Score: 0.7044355553757985\n",
      "score length 5\n",
      "Confusion matrix:\n",
      "[[1580 2908]\n",
      " [1043 4709]]\n",
      "Total statements classified: 10240\n",
      "Score: 0.6790920142902143\n",
      "score length 5\n",
      "Confusion matrix:\n",
      "[[2016 2472]\n",
      " [1524 4228]]\n",
      "Total statements classified: 10240\n",
      "Score: 0.7190643331130575\n",
      "score length 5\n",
      "Confusion matrix:\n",
      "[[   5 4483]\n",
      " [   6 5746]]\n",
      "Total statements classified: 10240\n",
      "Score: 0.6619460617144486\n",
      "score length 5\n",
      "Confusion matrix:\n",
      "[[1998 2490]\n",
      " [1674 4078]]\n"
     ]
    },
    {
     "data": {
      "text/plain": [
       "(None, None, None, None, None)"
      ]
     },
     "execution_count": 53,
     "metadata": {},
     "output_type": "execute_result"
    }
   ],
   "source": [
    "\n",
    "##Now using n-grams\n",
    "#naive-bayes classifier\n",
    "nb_pipeline_ngram = Pipeline([\n",
    "        ('nb_tfidf',tfidf_ngram),\n",
    "        ('nb_clf',MultinomialNB())])\n",
    "\n",
    "nb_pipeline_ngram.fit(train_news['Statement'],train_news['Label'])\n",
    "predicted_nb_ngram = nb_pipeline_ngram.predict(test_news['Statement'])\n",
    "np.mean(predicted_nb_ngram == test_news['Label'])\n",
    "\n",
    "\n",
    "#logistic regression classifier\n",
    "logR_pipeline_ngram = Pipeline([\n",
    "        ('LogR_tfidf',tfidf_ngram),\n",
    "        ('LogR_clf',LogisticRegression(penalty=\"l2\",C=1))\n",
    "        ])\n",
    "\n",
    "logR_pipeline_ngram.fit(train_news['Statement'],train_news['Label'])\n",
    "predicted_LogR_ngram = logR_pipeline_ngram.predict(test_news['Statement'])\n",
    "np.mean(predicted_LogR_ngram == test_news['Label'])\n",
    "\n",
    "\n",
    "#linear SVM classifier\n",
    "svm_pipeline_ngram = Pipeline([\n",
    "        ('svm_tfidf',tfidf_ngram),\n",
    "        ('svm_clf',svm.LinearSVC())\n",
    "        ])\n",
    "\n",
    "svm_pipeline_ngram.fit(train_news['Statement'],train_news['Label'])\n",
    "predicted_svm_ngram = svm_pipeline_ngram.predict(test_news['Statement'])\n",
    "np.mean(predicted_svm_ngram == test_news['Label'])\n",
    "\n",
    "\n",
    "#sgd classifier\n",
    "sgd_pipeline_ngram = Pipeline([\n",
    "         ('sgd_tfidf',tfidf_ngram),\n",
    "         ('sgd_clf',SGDClassifier(loss='hinge', penalty='l2', alpha=1e-3))\n",
    "         ])\n",
    "\n",
    "sgd_pipeline_ngram.fit(train_news['Statement'],train_news['Label'])\n",
    "predicted_sgd_ngram = sgd_pipeline_ngram.predict(test_news['Statement'])\n",
    "np.mean(predicted_sgd_ngram == test_news['Label'])\n",
    "\n",
    "\n",
    "#random forest classifier\n",
    "random_forest_ngram = Pipeline([\n",
    "        ('rf_tfidf',tfidf_ngram),\n",
    "        ('rf_clf',RandomForestClassifier(n_estimators=300,n_jobs=3))\n",
    "        ])\n",
    "    \n",
    "random_forest_ngram.fit(train_news['Statement'],train_news['Label'])\n",
    "predicted_rf_ngram = random_forest_ngram.predict(test_news['Statement'])\n",
    "np.mean(predicted_rf_ngram == test_news['Label'])\n",
    "\n",
    "\n",
    "build_confusion_matrix(nb_pipeline_ngram)\n",
    "build_confusion_matrix(logR_pipeline_ngram)\n",
    "build_confusion_matrix(svm_pipeline_ngram)\n",
    "build_confusion_matrix(sgd_pipeline_ngram)\n",
    "build_confusion_matrix(random_forest_ngram)\n",
    "\n"
   ]
  },
  {
   "cell_type": "code",
   "execution_count": 56,
   "metadata": {},
   "outputs": [
    {
     "name": "stdout",
     "output_type": "stream",
     "text": [
      "--------------------------------------------------NB--------------------------------------------------\n",
      "              precision    recall  f1-score   support\n",
      "\n",
      "       False       0.72      0.19      0.30      1169\n",
      "        True       0.58      0.94      0.71      1382\n",
      "\n",
      "    accuracy                           0.59      2551\n",
      "   macro avg       0.65      0.56      0.51      2551\n",
      "weighted avg       0.64      0.59      0.52      2551\n",
      "\n",
      "--------------------------------------------------LOGR--------------------------------------------------\n",
      "              precision    recall  f1-score   support\n",
      "\n",
      "       False       0.64      0.39      0.49      1169\n",
      "        True       0.61      0.81      0.70      1382\n",
      "\n",
      "    accuracy                           0.62      2551\n",
      "   macro avg       0.62      0.60      0.59      2551\n",
      "weighted avg       0.62      0.62      0.60      2551\n",
      "\n",
      "--------------------------------------------------SVM--------------------------------------------------\n",
      "              precision    recall  f1-score   support\n",
      "\n",
      "       False       0.61      0.47      0.53      1169\n",
      "        True       0.62      0.74      0.68      1382\n",
      "\n",
      "    accuracy                           0.62      2551\n",
      "   macro avg       0.61      0.61      0.60      2551\n",
      "weighted avg       0.62      0.62      0.61      2551\n",
      "\n",
      "--------------------------------------------------SGD--------------------------------------------------\n",
      "              precision    recall  f1-score   support\n",
      "\n",
      "       False       0.00      0.00      0.00      1169\n",
      "        True       0.54      1.00      0.70      1382\n",
      "\n",
      "    accuracy                           0.54      2551\n",
      "   macro avg       0.27      0.50      0.35      2551\n",
      "weighted avg       0.29      0.54      0.38      2551\n",
      "\n",
      "--------------------------------------------------RF--------------------------------------------------\n",
      "              precision    recall  f1-score   support\n",
      "\n",
      "       False       0.58      0.49      0.53      1169\n",
      "        True       0.62      0.71      0.66      1382\n",
      "\n",
      "    accuracy                           0.61      2551\n",
      "   macro avg       0.60      0.60      0.59      2551\n",
      "weighted avg       0.60      0.61      0.60      2551\n",
      "\n"
     ]
    }
   ],
   "source": [
    "print('-'*50+\"NB\"+'-'*50)\n",
    "print(classification_report(test_news['Label'], predicted_nb_ngram))\n",
    "print('-'*50+\"LOGR\"+'-'*50)\n",
    "print(classification_report(test_news['Label'], predicted_LogR_ngram))\n",
    "print('-'*50+\"SVM\"+'-'*50)\n",
    "print(classification_report(test_news['Label'], predicted_svm_ngram))\n",
    "print('-'*50+\"SGD\"+'-'*50)\n",
    "print(classification_report(test_news['Label'], predicted_sgd_ngram))\n",
    "print('-'*50+\"RF\"+'-'*50)\n",
    "print(classification_report(test_news['Label'], predicted_rf_ngram))\n"
   ]
  },
  {
   "cell_type": "code",
   "execution_count": 57,
   "metadata": {},
   "outputs": [
    {
     "data": {
      "text/plain": [
       "'\\nOut of all the models fitted, we would take 2 best performing model. we would call them candidate models\\nfrom the confusion matrix, we can see that random forest and logistic regression are best performing \\nin terms of precision and recall (take a look into false positive and true negative counts which appeares\\nto be low compared to rest of the models)\\n'"
      ]
     },
     "execution_count": 57,
     "metadata": {},
     "output_type": "execute_result"
    }
   ],
   "source": [
    "\n",
    "\"\"\"\n",
    "Out of all the models fitted, we would take 2 best performing model. we would call them candidate models\n",
    "from the confusion matrix, we can see that random forest and logistic regression are best performing \n",
    "in terms of precision and recall (take a look into false positive and true negative counts which appeares\n",
    "to be low compared to rest of the models)\n",
    "\"\"\"\n"
   ]
  },
  {
   "cell_type": "code",
   "execution_count": 59,
   "metadata": {},
   "outputs": [
    {
     "data": {
      "text/plain": [
       "{'mean_fit_time': array([1.27727761, 0.93816633, 0.68223057, 0.53666639, 1.01494565,\n",
       "        0.85978651, 0.88697858, 0.869383  , 1.39725137, 1.35086288,\n",
       "        1.39085097, 1.33966436, 1.87153082, 1.81714616, 1.87312846,\n",
       "        1.81234713, 2.29582667, 2.25623565, 2.35141273, 2.21064739,\n",
       "        0.45908394, 0.47268081, 0.4662828 , 0.46468406, 1.02534299,\n",
       "        1.01014633, 1.03813977, 0.99175148, 1.59080167, 1.54841256,\n",
       "        1.60359821, 1.54521317, 2.17694149, 2.2040442 , 2.25463443,\n",
       "        2.2842289 , 2.62654166, 2.50577216, 2.57855282, 2.41219783]),\n",
       " 'std_fit_time': array([0.12144331, 0.11597484, 0.08131342, 0.02377931, 0.06171431,\n",
       "        0.01212873, 0.00815557, 0.01304537, 0.03600081, 0.01461618,\n",
       "        0.01777729, 0.01430813, 0.01658442, 0.0139921 , 0.00861445,\n",
       "        0.01759355, 0.02321541, 0.0760188 , 0.08330908, 0.02444351,\n",
       "        0.02076444, 0.00530493, 0.01119708, 0.00959861, 0.03713824,\n",
       "        0.01487877, 0.00649645, 0.0302449 , 0.02181551, 0.03607068,\n",
       "        0.03268404, 0.02561797, 0.06893873, 0.10888495, 0.09974691,\n",
       "        0.03839019, 0.04484679, 0.02001062, 0.02953732, 0.07710196]),\n",
       " 'mean_score_time': array([0.        , 0.        , 0.        , 0.        , 0.        ,\n",
       "        0.        , 0.        , 0.        , 0.        , 0.        ,\n",
       "        0.        , 0.        , 0.        , 0.        , 0.        ,\n",
       "        0.        , 0.        , 0.        , 0.        , 0.        ,\n",
       "        0.0911778 , 0.0975759 , 0.08717899, 0.09197679, 0.13996544,\n",
       "        0.13516626, 0.1383646 , 0.13196688, 0.17435584, 0.1623589 ,\n",
       "        0.16555882, 0.1591598 , 0.240767  , 0.20474968, 0.22074542,\n",
       "        0.20714827, 0.22234521, 0.20874782, 0.22874374, 0.18315458]),\n",
       " 'std_score_time': array([0.        , 0.        , 0.        , 0.        , 0.        ,\n",
       "        0.        , 0.        , 0.        , 0.        , 0.        ,\n",
       "        0.        , 0.        , 0.        , 0.        , 0.        ,\n",
       "        0.        , 0.        , 0.        , 0.        , 0.        ,\n",
       "        0.00687955, 0.01254299, 0.00299256, 0.00669097, 0.00911897,\n",
       "        0.00587879, 0.0069721 , 0.00505977, 0.00697118, 0.0054241 ,\n",
       "        0.00542448, 0.00688011, 0.02872188, 0.02013833, 0.01932772,\n",
       "        0.03049643, 0.00897787, 0.00639853, 0.01223493, 0.04295293]),\n",
       " 'param_svm_clf__penalty': masked_array(data=['l1', 'l1', 'l1', 'l1', 'l1', 'l1', 'l1', 'l1', 'l1',\n",
       "                    'l1', 'l1', 'l1', 'l1', 'l1', 'l1', 'l1', 'l1', 'l1',\n",
       "                    'l1', 'l1', 'l2', 'l2', 'l2', 'l2', 'l2', 'l2', 'l2',\n",
       "                    'l2', 'l2', 'l2', 'l2', 'l2', 'l2', 'l2', 'l2', 'l2',\n",
       "                    'l2', 'l2', 'l2', 'l2'],\n",
       "              mask=[False, False, False, False, False, False, False, False,\n",
       "                    False, False, False, False, False, False, False, False,\n",
       "                    False, False, False, False, False, False, False, False,\n",
       "                    False, False, False, False, False, False, False, False,\n",
       "                    False, False, False, False, False, False, False, False],\n",
       "        fill_value='?',\n",
       "             dtype=object),\n",
       " 'param_svm_tfidf__ngram_range': masked_array(data=[(1, 1), (1, 1), (1, 1), (1, 1), (1, 2), (1, 2), (1, 2),\n",
       "                    (1, 2), (1, 3), (1, 3), (1, 3), (1, 3), (1, 4), (1, 4),\n",
       "                    (1, 4), (1, 4), (1, 5), (1, 5), (1, 5), (1, 5), (1, 1),\n",
       "                    (1, 1), (1, 1), (1, 1), (1, 2), (1, 2), (1, 2), (1, 2),\n",
       "                    (1, 3), (1, 3), (1, 3), (1, 3), (1, 4), (1, 4), (1, 4),\n",
       "                    (1, 4), (1, 5), (1, 5), (1, 5), (1, 5)],\n",
       "              mask=[False, False, False, False, False, False, False, False,\n",
       "                    False, False, False, False, False, False, False, False,\n",
       "                    False, False, False, False, False, False, False, False,\n",
       "                    False, False, False, False, False, False, False, False,\n",
       "                    False, False, False, False, False, False, False, False],\n",
       "        fill_value='?',\n",
       "             dtype=object),\n",
       " 'param_svm_tfidf__smooth_idf': masked_array(data=[True, True, False, False, True, True, False, False,\n",
       "                    True, True, False, False, True, True, False, False,\n",
       "                    True, True, False, False, True, True, False, False,\n",
       "                    True, True, False, False, True, True, False, False,\n",
       "                    True, True, False, False, True, True, False, False],\n",
       "              mask=[False, False, False, False, False, False, False, False,\n",
       "                    False, False, False, False, False, False, False, False,\n",
       "                    False, False, False, False, False, False, False, False,\n",
       "                    False, False, False, False, False, False, False, False,\n",
       "                    False, False, False, False, False, False, False, False],\n",
       "        fill_value='?',\n",
       "             dtype=object),\n",
       " 'param_svm_tfidf__use_idf': masked_array(data=[True, False, True, False, True, False, True, False,\n",
       "                    True, False, True, False, True, False, True, False,\n",
       "                    True, False, True, False, True, False, True, False,\n",
       "                    True, False, True, False, True, False, True, False,\n",
       "                    True, False, True, False, True, False, True, False],\n",
       "              mask=[False, False, False, False, False, False, False, False,\n",
       "                    False, False, False, False, False, False, False, False,\n",
       "                    False, False, False, False, False, False, False, False,\n",
       "                    False, False, False, False, False, False, False, False,\n",
       "                    False, False, False, False, False, False, False, False],\n",
       "        fill_value='?',\n",
       "             dtype=object),\n",
       " 'params': [{'svm_clf__penalty': 'l1',\n",
       "   'svm_tfidf__ngram_range': (1, 1),\n",
       "   'svm_tfidf__smooth_idf': True,\n",
       "   'svm_tfidf__use_idf': True},\n",
       "  {'svm_clf__penalty': 'l1',\n",
       "   'svm_tfidf__ngram_range': (1, 1),\n",
       "   'svm_tfidf__smooth_idf': True,\n",
       "   'svm_tfidf__use_idf': False},\n",
       "  {'svm_clf__penalty': 'l1',\n",
       "   'svm_tfidf__ngram_range': (1, 1),\n",
       "   'svm_tfidf__smooth_idf': False,\n",
       "   'svm_tfidf__use_idf': True},\n",
       "  {'svm_clf__penalty': 'l1',\n",
       "   'svm_tfidf__ngram_range': (1, 1),\n",
       "   'svm_tfidf__smooth_idf': False,\n",
       "   'svm_tfidf__use_idf': False},\n",
       "  {'svm_clf__penalty': 'l1',\n",
       "   'svm_tfidf__ngram_range': (1, 2),\n",
       "   'svm_tfidf__smooth_idf': True,\n",
       "   'svm_tfidf__use_idf': True},\n",
       "  {'svm_clf__penalty': 'l1',\n",
       "   'svm_tfidf__ngram_range': (1, 2),\n",
       "   'svm_tfidf__smooth_idf': True,\n",
       "   'svm_tfidf__use_idf': False},\n",
       "  {'svm_clf__penalty': 'l1',\n",
       "   'svm_tfidf__ngram_range': (1, 2),\n",
       "   'svm_tfidf__smooth_idf': False,\n",
       "   'svm_tfidf__use_idf': True},\n",
       "  {'svm_clf__penalty': 'l1',\n",
       "   'svm_tfidf__ngram_range': (1, 2),\n",
       "   'svm_tfidf__smooth_idf': False,\n",
       "   'svm_tfidf__use_idf': False},\n",
       "  {'svm_clf__penalty': 'l1',\n",
       "   'svm_tfidf__ngram_range': (1, 3),\n",
       "   'svm_tfidf__smooth_idf': True,\n",
       "   'svm_tfidf__use_idf': True},\n",
       "  {'svm_clf__penalty': 'l1',\n",
       "   'svm_tfidf__ngram_range': (1, 3),\n",
       "   'svm_tfidf__smooth_idf': True,\n",
       "   'svm_tfidf__use_idf': False},\n",
       "  {'svm_clf__penalty': 'l1',\n",
       "   'svm_tfidf__ngram_range': (1, 3),\n",
       "   'svm_tfidf__smooth_idf': False,\n",
       "   'svm_tfidf__use_idf': True},\n",
       "  {'svm_clf__penalty': 'l1',\n",
       "   'svm_tfidf__ngram_range': (1, 3),\n",
       "   'svm_tfidf__smooth_idf': False,\n",
       "   'svm_tfidf__use_idf': False},\n",
       "  {'svm_clf__penalty': 'l1',\n",
       "   'svm_tfidf__ngram_range': (1, 4),\n",
       "   'svm_tfidf__smooth_idf': True,\n",
       "   'svm_tfidf__use_idf': True},\n",
       "  {'svm_clf__penalty': 'l1',\n",
       "   'svm_tfidf__ngram_range': (1, 4),\n",
       "   'svm_tfidf__smooth_idf': True,\n",
       "   'svm_tfidf__use_idf': False},\n",
       "  {'svm_clf__penalty': 'l1',\n",
       "   'svm_tfidf__ngram_range': (1, 4),\n",
       "   'svm_tfidf__smooth_idf': False,\n",
       "   'svm_tfidf__use_idf': True},\n",
       "  {'svm_clf__penalty': 'l1',\n",
       "   'svm_tfidf__ngram_range': (1, 4),\n",
       "   'svm_tfidf__smooth_idf': False,\n",
       "   'svm_tfidf__use_idf': False},\n",
       "  {'svm_clf__penalty': 'l1',\n",
       "   'svm_tfidf__ngram_range': (1, 5),\n",
       "   'svm_tfidf__smooth_idf': True,\n",
       "   'svm_tfidf__use_idf': True},\n",
       "  {'svm_clf__penalty': 'l1',\n",
       "   'svm_tfidf__ngram_range': (1, 5),\n",
       "   'svm_tfidf__smooth_idf': True,\n",
       "   'svm_tfidf__use_idf': False},\n",
       "  {'svm_clf__penalty': 'l1',\n",
       "   'svm_tfidf__ngram_range': (1, 5),\n",
       "   'svm_tfidf__smooth_idf': False,\n",
       "   'svm_tfidf__use_idf': True},\n",
       "  {'svm_clf__penalty': 'l1',\n",
       "   'svm_tfidf__ngram_range': (1, 5),\n",
       "   'svm_tfidf__smooth_idf': False,\n",
       "   'svm_tfidf__use_idf': False},\n",
       "  {'svm_clf__penalty': 'l2',\n",
       "   'svm_tfidf__ngram_range': (1, 1),\n",
       "   'svm_tfidf__smooth_idf': True,\n",
       "   'svm_tfidf__use_idf': True},\n",
       "  {'svm_clf__penalty': 'l2',\n",
       "   'svm_tfidf__ngram_range': (1, 1),\n",
       "   'svm_tfidf__smooth_idf': True,\n",
       "   'svm_tfidf__use_idf': False},\n",
       "  {'svm_clf__penalty': 'l2',\n",
       "   'svm_tfidf__ngram_range': (1, 1),\n",
       "   'svm_tfidf__smooth_idf': False,\n",
       "   'svm_tfidf__use_idf': True},\n",
       "  {'svm_clf__penalty': 'l2',\n",
       "   'svm_tfidf__ngram_range': (1, 1),\n",
       "   'svm_tfidf__smooth_idf': False,\n",
       "   'svm_tfidf__use_idf': False},\n",
       "  {'svm_clf__penalty': 'l2',\n",
       "   'svm_tfidf__ngram_range': (1, 2),\n",
       "   'svm_tfidf__smooth_idf': True,\n",
       "   'svm_tfidf__use_idf': True},\n",
       "  {'svm_clf__penalty': 'l2',\n",
       "   'svm_tfidf__ngram_range': (1, 2),\n",
       "   'svm_tfidf__smooth_idf': True,\n",
       "   'svm_tfidf__use_idf': False},\n",
       "  {'svm_clf__penalty': 'l2',\n",
       "   'svm_tfidf__ngram_range': (1, 2),\n",
       "   'svm_tfidf__smooth_idf': False,\n",
       "   'svm_tfidf__use_idf': True},\n",
       "  {'svm_clf__penalty': 'l2',\n",
       "   'svm_tfidf__ngram_range': (1, 2),\n",
       "   'svm_tfidf__smooth_idf': False,\n",
       "   'svm_tfidf__use_idf': False},\n",
       "  {'svm_clf__penalty': 'l2',\n",
       "   'svm_tfidf__ngram_range': (1, 3),\n",
       "   'svm_tfidf__smooth_idf': True,\n",
       "   'svm_tfidf__use_idf': True},\n",
       "  {'svm_clf__penalty': 'l2',\n",
       "   'svm_tfidf__ngram_range': (1, 3),\n",
       "   'svm_tfidf__smooth_idf': True,\n",
       "   'svm_tfidf__use_idf': False},\n",
       "  {'svm_clf__penalty': 'l2',\n",
       "   'svm_tfidf__ngram_range': (1, 3),\n",
       "   'svm_tfidf__smooth_idf': False,\n",
       "   'svm_tfidf__use_idf': True},\n",
       "  {'svm_clf__penalty': 'l2',\n",
       "   'svm_tfidf__ngram_range': (1, 3),\n",
       "   'svm_tfidf__smooth_idf': False,\n",
       "   'svm_tfidf__use_idf': False},\n",
       "  {'svm_clf__penalty': 'l2',\n",
       "   'svm_tfidf__ngram_range': (1, 4),\n",
       "   'svm_tfidf__smooth_idf': True,\n",
       "   'svm_tfidf__use_idf': True},\n",
       "  {'svm_clf__penalty': 'l2',\n",
       "   'svm_tfidf__ngram_range': (1, 4),\n",
       "   'svm_tfidf__smooth_idf': True,\n",
       "   'svm_tfidf__use_idf': False},\n",
       "  {'svm_clf__penalty': 'l2',\n",
       "   'svm_tfidf__ngram_range': (1, 4),\n",
       "   'svm_tfidf__smooth_idf': False,\n",
       "   'svm_tfidf__use_idf': True},\n",
       "  {'svm_clf__penalty': 'l2',\n",
       "   'svm_tfidf__ngram_range': (1, 4),\n",
       "   'svm_tfidf__smooth_idf': False,\n",
       "   'svm_tfidf__use_idf': False},\n",
       "  {'svm_clf__penalty': 'l2',\n",
       "   'svm_tfidf__ngram_range': (1, 5),\n",
       "   'svm_tfidf__smooth_idf': True,\n",
       "   'svm_tfidf__use_idf': True},\n",
       "  {'svm_clf__penalty': 'l2',\n",
       "   'svm_tfidf__ngram_range': (1, 5),\n",
       "   'svm_tfidf__smooth_idf': True,\n",
       "   'svm_tfidf__use_idf': False},\n",
       "  {'svm_clf__penalty': 'l2',\n",
       "   'svm_tfidf__ngram_range': (1, 5),\n",
       "   'svm_tfidf__smooth_idf': False,\n",
       "   'svm_tfidf__use_idf': True},\n",
       "  {'svm_clf__penalty': 'l2',\n",
       "   'svm_tfidf__ngram_range': (1, 5),\n",
       "   'svm_tfidf__smooth_idf': False,\n",
       "   'svm_tfidf__use_idf': False}],\n",
       " 'split0_test_score': array([   nan,    nan,    nan,    nan,    nan,    nan,    nan,    nan,\n",
       "           nan,    nan,    nan,    nan,    nan,    nan,    nan,    nan,\n",
       "           nan,    nan,    nan,    nan, 0.5895, 0.5985, 0.5915, 0.5985,\n",
       "        0.6075, 0.6065, 0.611 , 0.6065, 0.611 , 0.607 , 0.6135, 0.607 ,\n",
       "        0.6135, 0.615 , 0.6135, 0.615 , 0.617 , 0.616 , 0.617 , 0.616 ]),\n",
       " 'split1_test_score': array([   nan,    nan,    nan,    nan,    nan,    nan,    nan,    nan,\n",
       "           nan,    nan,    nan,    nan,    nan,    nan,    nan,    nan,\n",
       "           nan,    nan,    nan,    nan, 0.5925, 0.6025, 0.591 , 0.6025,\n",
       "        0.622 , 0.6215, 0.625 , 0.6215, 0.624 , 0.6195, 0.6265, 0.6195,\n",
       "        0.6215, 0.623 , 0.622 , 0.623 , 0.6195, 0.622 , 0.6215, 0.622 ]),\n",
       " 'split2_test_score': array([   nan,    nan,    nan,    nan,    nan,    nan,    nan,    nan,\n",
       "           nan,    nan,    nan,    nan,    nan,    nan,    nan,    nan,\n",
       "           nan,    nan,    nan,    nan, 0.571 , 0.576 , 0.5725, 0.576 ,\n",
       "        0.585 , 0.586 , 0.588 , 0.586 , 0.59  , 0.5905, 0.589 , 0.5905,\n",
       "        0.589 , 0.591 , 0.59  , 0.591 , 0.59  , 0.5925, 0.5915, 0.5925]),\n",
       " 'split3_test_score': array([   nan,    nan,    nan,    nan,    nan,    nan,    nan,    nan,\n",
       "           nan,    nan,    nan,    nan,    nan,    nan,    nan,    nan,\n",
       "           nan,    nan,    nan,    nan, 0.5725, 0.583 , 0.5725, 0.583 ,\n",
       "        0.5855, 0.5835, 0.586 , 0.5835, 0.5905, 0.5945, 0.593 , 0.5945,\n",
       "        0.5975, 0.5995, 0.5975, 0.5995, 0.5995, 0.598 , 0.5975, 0.598 ]),\n",
       " 'split4_test_score': array([   nan,    nan,    nan,    nan,    nan,    nan,    nan,    nan,\n",
       "           nan,    nan,    nan,    nan,    nan,    nan,    nan,    nan,\n",
       "           nan,    nan,    nan,    nan, 0.5815, 0.5865, 0.583 , 0.5865,\n",
       "        0.596 , 0.5945, 0.597 , 0.5945, 0.608 , 0.604 , 0.6105, 0.604 ,\n",
       "        0.61  , 0.6065, 0.6125, 0.6065, 0.612 , 0.6055, 0.6135, 0.6055]),\n",
       " 'mean_test_score': array([   nan,    nan,    nan,    nan,    nan,    nan,    nan,    nan,\n",
       "           nan,    nan,    nan,    nan,    nan,    nan,    nan,    nan,\n",
       "           nan,    nan,    nan,    nan, 0.5814, 0.5893, 0.5821, 0.5893,\n",
       "        0.5992, 0.5984, 0.6014, 0.5984, 0.6047, 0.6031, 0.6065, 0.6031,\n",
       "        0.6063, 0.607 , 0.6071, 0.607 , 0.6076, 0.6068, 0.6082, 0.6068]),\n",
       " 'std_test_score': array([       nan,        nan,        nan,        nan,        nan,\n",
       "               nan,        nan,        nan,        nan,        nan,\n",
       "               nan,        nan,        nan,        nan,        nan,\n",
       "               nan,        nan,        nan,        nan,        nan,\n",
       "        0.0086741 , 0.00983158, 0.00839881, 0.00983158, 0.01405916,\n",
       "        0.01407267, 0.01473228, 0.01407267, 0.01296765, 0.01017546,\n",
       "        0.01380942, 0.01017546, 0.01160431, 0.01124722, 0.01163357,\n",
       "        0.01124722, 0.01117766, 0.01094806, 0.01162583, 0.01094806]),\n",
       " 'rank_test_score': array([21, 23, 24, 25, 26, 27, 28, 29, 31, 39, 32, 33, 34, 35, 36, 37, 38,\n",
       "        22, 30, 40, 20, 17, 19, 17, 14, 15, 13, 15, 10, 11,  8, 11,  9,  4,\n",
       "         3,  4,  2,  6,  1,  6])}"
      ]
     },
     "execution_count": 59,
     "metadata": {},
     "output_type": "execute_result"
    }
   ],
   "source": [
    "#OPtimizing our models\n",
    "\n",
    "#grid-search parameter optimization\n",
    "#random forest classifier parameters\n",
    "parameters = {'rf_tfidf__ngram_range': [(1, 1), (1, 2),(1,3),(1,4),(1,5)],\n",
    "               'rf_tfidf__use_idf': (True, False),\n",
    "               'rf_clf__max_depth': (1,2,3,4,5,6,7,8,9,10,11,12,13,14,15)\n",
    "}\n",
    "\n",
    "gs_clf = GridSearchCV(random_forest_ngram, parameters, n_jobs=-1)\n",
    "gs_clf = gs_clf.fit(train_news['Statement'][:10000],train_news['Label'][:10000])\n",
    "\n",
    "gs_clf.best_score_\n",
    "gs_clf.best_params_\n",
    "gs_clf.cv_results_\n",
    "\n",
    "#logistic regression parameters\n",
    "parameters = {'LogR_tfidf__ngram_range': [(1, 1), (1, 2),(1,3),(1,4),(1,5)],\n",
    "               'LogR_tfidf__use_idf': (True, False),\n",
    "               'LogR_tfidf__smooth_idf': (True, False)\n",
    "}\n",
    "\n",
    "gs_clf = GridSearchCV(logR_pipeline_ngram, parameters, n_jobs=-1)\n",
    "gs_clf = gs_clf.fit(train_news['Statement'][:10000],train_news['Label'][:10000])\n",
    "\n",
    "gs_clf.best_score_\n",
    "gs_clf.best_params_\n",
    "gs_clf.cv_results_\n",
    "\n",
    "#Linear SVM \n",
    "parameters = {'svm_tfidf__ngram_range': [(1, 1), (1, 2),(1,3),(1,4),(1,5)],\n",
    "               'svm_tfidf__use_idf': (True, False),\n",
    "               'svm_tfidf__smooth_idf': (True, False),\n",
    "               'svm_clf__penalty': ('l1','l2'),\n",
    "}\n",
    "\n",
    "gs_clf = GridSearchCV(svm_pipeline_ngram, parameters, n_jobs=-1)\n",
    "gs_clf = gs_clf.fit(train_news['Statement'][:10000],train_news['Label'][:10000])\n",
    "\n",
    "gs_clf.best_score_\n",
    "gs_clf.best_params_\n",
    "gs_clf.cv_results_\n"
   ]
  },
  {
   "cell_type": "code",
   "execution_count": 63,
   "metadata": {},
   "outputs": [
    {
     "name": "stdout",
     "output_type": "stream",
     "text": [
      "              precision    recall  f1-score   support\n",
      "\n",
      "       False       0.60      0.00      0.01      1169\n",
      "        True       0.54      1.00      0.70      1382\n",
      "\n",
      "    accuracy                           0.54      2551\n",
      "   macro avg       0.57      0.50      0.35      2551\n",
      "weighted avg       0.57      0.54      0.38      2551\n",
      "\n",
      "              precision    recall  f1-score   support\n",
      "\n",
      "       False       0.64      0.38      0.48      1169\n",
      "        True       0.61      0.82      0.70      1382\n",
      "\n",
      "    accuracy                           0.62      2551\n",
      "   macro avg       0.62      0.60      0.59      2551\n",
      "weighted avg       0.62      0.62      0.60      2551\n",
      "\n"
     ]
    }
   ],
   "source": [
    "import matplotlib.pyplot as plt\n",
    "from sklearn.metrics import classification_report\n",
    "#running both random forest and logistic regression models again with best parameter found with GridSearch method\n",
    "random_forest_final = Pipeline([\n",
    "        ('rf_tfidf',TfidfVectorizer(stop_words='english',ngram_range=(1,3),use_idf=True,smooth_idf=True)),\n",
    "        ('rf_clf',RandomForestClassifier(n_estimators=300,n_jobs=3,max_depth=10))\n",
    "        ])\n",
    "    \n",
    "random_forest_final.fit(train_news['Statement'],train_news['Label'])\n",
    "predicted_rf_final = random_forest_final.predict(test_news['Statement'])\n",
    "np.mean(predicted_rf_final == test_news['Label'])\n",
    "print(classification_report(test_news['Label'], predicted_rf_final))\n",
    "\n",
    "logR_pipeline_final = Pipeline([\n",
    "        #('LogRCV',countV_ngram),\n",
    "        ('LogR_tfidf',TfidfVectorizer(stop_words='english',ngram_range=(1,5),use_idf=True,smooth_idf=False)),\n",
    "        ('LogR_clf',LogisticRegression(penalty=\"l2\",C=1))\n",
    "        ])\n",
    "\n",
    "logR_pipeline_final.fit(train_news['Statement'],train_news['Label'])\n",
    "predicted_LogR_final = logR_pipeline_final.predict(test_news['Statement'])\n",
    "np.mean(predicted_LogR_final == test_news['Label'])\n",
    "\n",
    "print(classification_report(test_news['Label'], predicted_LogR_final))\n",
    "\n",
    "\n"
   ]
  },
  {
   "cell_type": "code",
   "execution_count": 64,
   "metadata": {},
   "outputs": [
    {
     "data": {
      "text/plain": [
       "\"\\nby running both random forest and logistic regression with GridSearch's best parameter estimation, we found that for random \\nforest model with n-gram has better accuracty than with the parameter estimated. The logistic regression model with best parameter \\nhas almost similar performance as n-gram model so logistic regression will be out choice of model for prediction.\\n\""
      ]
     },
     "execution_count": 64,
     "metadata": {},
     "output_type": "execute_result"
    }
   ],
   "source": [
    "\"\"\"\n",
    "by running both random forest and logistic regression with GridSearch's best parameter estimation, we found that for random \n",
    "forest model with n-gram has better accuracty than with the parameter estimated. The logistic regression model with best parameter \n",
    "has almost similar performance as n-gram model so logistic regression will be out choice of model for prediction.\n",
    "\"\"\"\n"
   ]
  },
  {
   "cell_type": "code",
   "execution_count": 76,
   "metadata": {},
   "outputs": [],
   "source": [
    "#saving best model to the disk\n",
    "model_file = 'optimze_logR_model.sav'\n",
    "pickle.dump(logR_pipeline_ngram,open(model_file,'wb'))\n"
   ]
  },
  {
   "cell_type": "code",
   "execution_count": 80,
   "metadata": {},
   "outputs": [
    {
     "name": "stdout",
     "output_type": "stream",
     "text": [
      "Please enter the news text you want to verify: 'obama is running for president in 2016'\n",
      "You entered: 'obama is running for president in 2016'\n",
      "The given statement is  False\n",
      "The truth probability score is  0.34935126731036337\n"
     ]
    },
    {
     "data": {
      "text/plain": [
       "(None, None)"
      ]
     },
     "execution_count": 80,
     "metadata": {},
     "output_type": "execute_result"
    }
   ],
   "source": [
    "\n",
    "var = input(\"Please enter the news text you want to verify: \")\n",
    "print(\"You entered: \" + str(var))\n",
    "\n",
    "\n",
    "#function to run for prediction\n",
    "def fake_news(var):    \n",
    "#retrieving the best model for prediction call\n",
    "    load_model = pickle.load(open('optimze_logR_model.sav', 'rb'))\n",
    "    prediction = load_model.predict([var])\n",
    "    prob = load_model.predict_proba([var])\n",
    "\n",
    "        return (print(\"The given statement is \",prediction[0]),\n",
    "        print(\"The truth probability score is \",prob[0][1]))\n",
    "fake_news(var)"
   ]
  },
  {
   "cell_type": "code",
   "execution_count": null,
   "metadata": {},
   "outputs": [],
   "source": [
    "\n",
    "#Plotting learing curve\n",
    "def plot_learing_curve(pipeline,title):\n",
    "    size = 10000\n",
    "    cv = KFold(size, shuffle=True)\n",
    "    \n",
    "    X = train_news[\"Statement\"]\n",
    "    y = train_news[\"Label\"]\n",
    "    \n",
    "    pl = pipeline\n",
    "    pl.fit(X,y)\n",
    "    \n",
    "    train_sizes, train_scores, test_scores = learning_curve(pl, X, y, n_jobs=-1, cv=cv, train_sizes=np.linspace(.1, 1.0, 5), verbose=0)\n",
    "       \n",
    "    train_scores_mean = np.mean(train_scores, axis=1)\n",
    "    train_scores_std = np.std(train_scores, axis=1)\n",
    "    test_scores_mean = np.mean(test_scores, axis=1)\n",
    "    test_scores_std = np.std(test_scores, axis=1)\n",
    "     \n",
    "    plt.figure()\n",
    "    plt.title(title)\n",
    "    plt.legend(loc=\"best\")\n",
    "    plt.xlabel(\"Training examples\")\n",
    "    plt.ylabel(\"Score\")\n",
    "    plt.gca().invert_yaxis()\n",
    "    \n",
    "    # box-like grid\n",
    "    plt.grid()\n",
    "    \n",
    "    # plot the std deviation as a transparent range at each training set size\n",
    "    plt.fill_between(train_sizes, train_scores_mean - train_scores_std, train_scores_mean + train_scores_std, alpha=0.1, color=\"r\")\n",
    "    plt.fill_between(train_sizes, test_scores_mean - test_scores_std, test_scores_mean + test_scores_std, alpha=0.1, color=\"g\")\n",
    "    \n",
    "    # plot the average training and test score lines at each training set size\n",
    "    plt.plot(train_sizes, train_scores_mean, 'o-', color=\"r\", label=\"Training score\")\n",
    "    plt.plot(train_sizes, test_scores_mean, 'o-', color=\"g\", label=\"Cross-validation score\")\n",
    "    \n",
    "    # sizes the window for readability and displays the plot\n",
    "    # shows error from 0 to 1.1\n",
    "    plt.ylim(-.1,1.1)\n",
    "    plt.show()\n",
    "\n",
    "\n",
    "#below command will plot learing curves for each of the classifiers\n",
    "plot_learing_curve(logR_pipeline_ngram,\"Naive-bayes Classifier\")\n",
    "plot_learing_curve(nb_pipeline_ngram,\"LogisticRegression Classifier\")\n",
    "plot_learing_curve(svm_pipeline_ngram,\"SVM Classifier\")\n",
    "plot_learing_curve(sgd_pipeline_ngram,\"SGD Classifier\")\n",
    "plot_learing_curve(random_forest_ngram,\"RandomForest Classifier\")\n",
    "\n"
   ]
  }
 ],
 "metadata": {
  "kernelspec": {
   "display_name": "Python 3",
   "language": "python",
   "name": "python3"
  },
  "language_info": {
   "codemirror_mode": {
    "name": "ipython",
    "version": 3
   },
   "file_extension": ".py",
   "mimetype": "text/x-python",
   "name": "python",
   "nbconvert_exporter": "python",
   "pygments_lexer": "ipython3",
   "version": "3.7.7"
  }
 },
 "nbformat": 4,
 "nbformat_minor": 4
}
